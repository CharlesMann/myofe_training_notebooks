{
 "cells": [
  {
   "cell_type": "markdown",
   "id": "acf5f7ac-73dd-48b1-b747-ecef85ea578f",
   "metadata": {},
   "source": [
    "# Unit Cube, Uniaxial Extension (Guccione)\n",
    "This notebook will walk through a script that creates a unit cube governed passively by Guccione's strain energy function. The unit cube will be stretched along the fiber direction, and the stress response calculated."
   ]
  },
  {
   "cell_type": "code",
   "execution_count": 1,
   "id": "4de94f68-bc3d-495b-b8e9-b1ab3c6d6fee",
   "metadata": {},
   "outputs": [],
   "source": [
    "import dolfin\n",
    "import numpy as np # mainly for storing data\n",
    "import fenics_plotly # for plotting finite element stuff\n",
    "import matplotlib.pyplot as plt # for plotting traces\n",
    "\n",
    "fenics_plotly.set_renderer(\"iframe\") # renderer needed for jupyter notebooks"
   ]
  },
  {
   "cell_type": "markdown",
   "id": "764888df-dc7b-442e-b321-f8f1191018c3",
   "metadata": {},
   "source": [
    "We are going to use numpy arrays to store any values we want to later plot (i.e. stress in the fiber direction). \n",
    "Big pictures steps in this script:  \n",
    "- [Create mesh](#Create-Mesh)\n",
    "- [Create necessary finite elements, function spaces, and functions](#Create-Finite-Elements,-Function-Spaces,-Functions)\n",
    "- [Create boundary conditions](#Boundary-Conditions)\n",
    "- Create weak form\n",
    "- Solve weak form during some perturbation (in this case, updating right cube face displacement)\n",
    "- \"Hand Calculate\" stress  \n",
    "\n",
    "It can be seen how these steps are pretty general and can be their own modules, and will be what we follow in MyoFE."
   ]
  },
  {
   "cell_type": "markdown",
   "id": "ec107cf3-221f-4813-b3a5-039581cf40bf",
   "metadata": {
    "tags": []
   },
   "source": [
    "### Create Mesh"
   ]
  },
  {
   "cell_type": "code",
   "execution_count": 2,
   "id": "c6f3c2c4-a237-47cb-bef0-c409734ffe2d",
   "metadata": {},
   "outputs": [],
   "source": [
    "mesh = dolfin.UnitCubeMesh(1,1,1)"
   ]
  },
  {
   "cell_type": "markdown",
   "id": "1242d6d6-d3f0-481b-84b9-51a6a7630211",
   "metadata": {},
   "source": [
    "### Create Finite Elements, Function Spaces, Functions"
   ]
  },
  {
   "cell_type": "code",
   "execution_count": 3,
   "id": "8052d560-01a9-4197-aa13-cf8c59c3a2d7",
   "metadata": {},
   "outputs": [],
   "source": [
    "# Set up elements and spaces for the problem\n",
    "# For displacement\n",
    "Velem = dolfin.VectorElement(\"CG\", mesh.ufl_cell(), 2, quad_scheme=\"default\")\n",
    "# mesh.ufl_cell() keeps this command generic, will always be 'tetrahedron' unless your mesh is 2D (which would give 'triangle')\n",
    "\n",
    "# For hydrostatic pressure (enforcing incompressibility), of degree one less than element used for displacement\n",
    "Qelem = dolfin.FiniteElement(\"CG\", mesh.ufl_cell(), 1, quad_scheme=\"default\")\n",
    "\n",
    "# Mixed element function space, creating the mixed element inline using Velem and Qelem\n",
    "W = dolfin.FunctionSpace(mesh, dolfin.MixedElement([Velem, Qelem]))\n",
    "\n",
    "# For the weak form\n",
    "w = dolfin.Function(W)\n",
    "dw = dolfin.TrialFunction(W)\n",
    "wtest = dolfin.TestFunction(W)\n",
    "\n",
    "du, dp = dolfin.TrialFunctions(W)\n",
    "u, p = dolfin.split(w)\n",
    "v, q = dolfin.TestFunctions(W)"
   ]
  },
  {
   "cell_type": "markdown",
   "id": "3091a8f8-967a-4a28-9c3f-2f1441f2a285",
   "metadata": {},
   "source": [
    "<mark> Kurtis, come down and explore what exactly dolfin.split(w) is doing, and why u is a 'ListTensor', and what exactly that means. Does manipulating values of u change w.sub(0), or is u just a copy of w.sub(0)? </mark>\n",
    "In MyoFE, there will be more functions and function spaces for things at quadrature points, and myosim values like half-sarcomere length."
   ]
  },
  {
   "cell_type": "code",
   "execution_count": 4,
   "id": "f09aa63f-2b7e-45e6-a751-c0f6eb1de3fd",
   "metadata": {},
   "outputs": [],
   "source": [
    "# Let's create a local coordinate system for the cube. \n",
    "# Right now, using Velem which has nodes defined for a CG2 element. In MyoFE, we define these at the quadrature points,\n",
    "# so that when we solve MyoSim and assign active stress information in the f0 direction, there is no mismatch between\n",
    "# myosim information at integration point i and the vector denoting f0.\n",
    "\n",
    "# I think just assigning a continuous active stress field using the below V_space works, but there is instability when solving\n",
    "# for active stress using something like MyoSim using this space. See work by Henrik Finsberg where they assign Ta using a\n",
    "# space like this\n",
    "V_space = dolfin.FunctionSpace(mesh,Velem)\n",
    "\n",
    "f0 = dolfin.Function(V_space) \n",
    "s0 = dolfin.Function(V_space) \n",
    "n0 = dolfin.Function(V_space) \n",
    "\n",
    "for i in np.arange(np.shape(f0.vector())[0]/3.0):\n",
    "    f0.vector()[3*i] = 1.0   # coincident with x-axis (gives vector (1,0,0) at each degree of freedom)\n",
    "    s0.vector()[3*i+1] = 1.0 # coincident with y-axis (gives vector (0,1,0))\n",
    "    n0.vector()[3*i+2] = 1.0 # coincident with z-axis (gives vector (0,0,1))"
   ]
  },
  {
   "cell_type": "markdown",
   "id": "22a96689-96eb-4d68-90fd-a0e9c20a1a3c",
   "metadata": {},
   "source": [
    "In MyoFE, the functions f0, s0, and n0 are created during mesh creation, and will be read in from the mesh file.  \n",
    "Now we have a mesh, we have our finite elements defined on the mesh, and we have functions that will hold our solutions for displacement, hydrostatic pressure, and functions that represent our local coordinate system.  "
   ]
  },
  {
   "cell_type": "markdown",
   "id": "9a3fb21c-a79b-4f19-862f-808e4bae78ff",
   "metadata": {},
   "source": [
    "### Boundary Conditions\n",
    "This section will deal with assigning dirichlet boundary conditions. Neumann boundary conditions are in the weak form. There are multiple ways to do this. I'm going to show how we do it. We want the following dirichlet boundary conditions:\n",
    "- fix the left face of the cube in the x-direction\n",
    "- fix the lower face of the cube in the z-direction\n",
    "- fix the back face of the cubeg in the y-direction\n",
    "\n",
    "This should fix the point at the origin from moving at all, and allow for uniform expansion in the y- and z-directions.  \n",
    "We will define classes that allow us to mark different faces of the cube as subdomains, that will be used in the dolfin DirichletBC() method."
   ]
  },
  {
   "cell_type": "code",
   "execution_count": 8,
   "id": "8ed19f6a-f256-4432-9da9-d94c3b32e073",
   "metadata": {},
   "outputs": [],
   "source": [
    "class Left(dolfin.SubDomain):\n",
    "    def inside(self, x, on_boundary):\n",
    "        tol = 1E-14\n",
    "        return on_boundary and abs(x[0]) < tol\n",
    "\n",
    "class Lower(dolfin.SubDomain):\n",
    "    def inside(self, x, on_boundary):\n",
    "        tol = 1E-14\n",
    "        return on_boundary and abs(x[2]) < tol\n",
    "    \n",
    "class Back(dolfin.SubDomain):\n",
    "    def inside(self, x, on_boundary):\n",
    "        tol = 1E-14\n",
    "        return on_boundary and abs(x[1]) < tol\n",
    "\n",
    "class Fix(dolfin.SubDomain):\n",
    "    def inside(self, x, on_boundary):\n",
    "        tol = 1E-14\n",
    "        return (dolfin.near(x[0],0.0,tol) and dolfin.near(x[1],0.0,tol) and dolfin.near(x[2],0.0,tol))\n",
    "\n",
    "facetboundaries = dolfin.MeshFunction('size_t', mesh, mesh.topology().dim()-1)\n",
    "facetboundaries.set_all(0)\n",
    "\n",
    "N  = dolfin.FacetNormal(mesh)\n",
    "ds = dolfin.ds(subdomain_data = facetboundaries)\n",
    "dx = dolfin.dx(mesh,metadata = {\"integration_order\":2})\n",
    "\n",
    "left  = Left()\n",
    "lower = Lower()\n",
    "back = Back()\n",
    "#fix   = Fix()\n",
    "\n",
    "\n",
    "left.mark(facetboundaries, 1)\n",
    "lower.mark(facetboundaries, 2)\n",
    "back.mark(facetboundaries, 3)\n",
    "#fix.mark(facetboundaries, 3)\n",
    "\n",
    "# Constrain left face in x\n",
    "# W.sub(0) represents displacement (the first element in the above defined MixedElement), so W.sub(0).sub(0) is the 0th (or x) component of displacement\n",
    "# We are using dolfin.Constant((0.0)) to denote that we want the chosen component of displacement to be zero\n",
    "# and facetboundaries, 1 tells the method we want this to apply for the facetboundary labeled 1, which is the set of points belonging to the left class above\n",
    "bc_left  = dolfin.DirichletBC(W.sub(0).sub(0), dolfin.Constant((0.0)), facetboundaries, 1)\n",
    "# Constrain lower face in z\n",
    "bc_lower = dolfin.DirichletBC(W.sub(0).sub(2), dolfin.Constant((0.0)), facetboundaries, 2)\n",
    "# constrain back face in y\n",
    "bc_back = dolfin.DirichletBC(W.sub(0).sub(1), dolfin.Constant((0.0)), facetboundaries, 3)\n",
    "# Fixing point at origin to prevent rigid body translation\n",
    "#bc_fix   = dolfin.DirichletBC(W.sub(0), dolfin.Constant((0.0, 0.0, 0.0)), fix, method=\"pointwise\")\n",
    "\n",
    "# Finally, our list of all dirichlet boundary conditions which will be given to our solver later\n",
    "dirichlet_bcs = [bc_left, bc_lower, bc_back]"
   ]
  },
  {
   "cell_type": "code",
   "execution_count": null,
   "id": "03964214-db66-4080-b924-84d67b7963c3",
   "metadata": {},
   "outputs": [],
   "source": []
  }
 ],
 "metadata": {
  "kernelspec": {
   "display_name": "Python 3 (ipykernel)",
   "language": "python",
   "name": "python3"
  },
  "language_info": {
   "codemirror_mode": {
    "name": "ipython",
    "version": 3
   },
   "file_extension": ".py",
   "mimetype": "text/x-python",
   "name": "python",
   "nbconvert_exporter": "python",
   "pygments_lexer": "ipython3",
   "version": "3.9.10"
  }
 },
 "nbformat": 4,
 "nbformat_minor": 5
}
