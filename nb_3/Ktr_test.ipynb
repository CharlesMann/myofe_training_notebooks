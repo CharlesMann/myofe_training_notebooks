{
 "cells": [
  {
   "cell_type": "code",
   "execution_count": 1,
   "id": "4de94f68-bc3d-495b-b8e9-b1ab3c6d6fee",
   "metadata": {},
   "outputs": [],
   "source": [
    "import dolfin\n",
    "import numpy as np # mainly for storing data\n",
    "import fenics_plotly # for plotting finite element stuff\n",
    "import matplotlib.pyplot as plt # for plotting traces\n",
    "\n",
    "fenics_plotly.set_renderer(\"iframe\") # renderer needed for jupyter notebooks\n",
    "\n",
    "# Force quadrature degree \n",
    "deg = 2\n",
    "dolfin.parameters[\"form_compiler\"][\"quadrature_degree\"]=deg"
   ]
  },
  {
   "cell_type": "markdown",
   "id": "a4204a13-b5fe-49e4-9820-a7884fd78b3d",
   "metadata": {},
   "source": [
    "We are going to use numpy arrays to store any values we want to later plot (i.e. stress in the fiber direction). "
   ]
  },
  {
   "cell_type": "code",
   "execution_count": 2,
   "id": "5045cba1-da08-4e11-b8fe-5e6daada7d8a",
   "metadata": {},
   "outputs": [],
   "source": [
    "num_timesteps = 10+2+2\n",
    "pk2_stress_history = np.nan*np.ones(num_timesteps) # initializing with NaN so we don't have false zeros\n",
    "eff_history = np.nan*np.ones(num_timesteps)\n",
    "counter = 0"
   ]
  },
  {
   "cell_type": "markdown",
   "id": "46cc88f8-9541-4349-97f4-46b3947f0f39",
   "metadata": {},
   "source": [
    "I'm including this function here, so that it doesn't interrupt the flow of things later."
   ]
  },
  {
   "cell_type": "code",
   "execution_count": 3,
   "id": "f6d895e5-367f-4343-84c8-48297eae9ff0",
   "metadata": {},
   "outputs": [],
   "source": [
    "# Let's go ahead and define a function that will calculate the PK2 stress in the fiber direction\n",
    "def calculate_pk2_stress(W_passive, E_comp, lcs):\n",
    "    \n",
    "    \"\"\" Return 2nd Piola Kirchhoff stress in fiber direction.\n",
    "    \n",
    "    :W_passive: strain energy function defined in terms of local coordinates\n",
    "    :E_comp: list, Green-Lagrange strain transformed into local coordinates\n",
    "    :lcs: list, local coordinate system vector functions\n",
    "    \n",
    "    return: scalar, stress in fiber direction\n",
    "    \"\"\"\n",
    "    \n",
    "    # These will be vector valued functions on the mesh (functions on the finite element function space used to define our coordinate system)\n",
    "    f0 = lcs[0]\n",
    "    s0 = lcs[1]\n",
    "    n0 = lcs[2]\n",
    "    \n",
    "    # List of components of E tensor in local coordinates (coincident with the cartesian coordinate system in this example)\n",
    "    Eff = E_comp[0]\n",
    "    Efs = E_comp[1]\n",
    "    Efn = E_comp[2]\n",
    "    Esf = E_comp[3]\n",
    "    Ess = E_comp[4]\n",
    "    Esn = E_comp[5]\n",
    "    Enf = E_comp[6]\n",
    "    Ens = E_comp[7]\n",
    "    Enn = E_comp[8]\n",
    "    \n",
    "    # doing this differentiation separately for each tensor component\n",
    "    # Later, you will see that the components of E are declared as dolfin 'variable' types. This must  be the case if differentiation is to be done with respect to \n",
    "    # a variable. If not, the function either throws an error, or returns zero. \n",
    "    \n",
    "    # It could probably be that one could create the tensor E using the 'dolfin.as_tensor()' method, and declare this tensor as a dolfin variable. Then maybe\n",
    "    # you could just do 'S_local = dolfin.diff(W_passive, E), but I have not tested this. Through troubleshooting (there was a time when the PK2 stress tensor \n",
    "    # was not symmetric, which is an error!) at some point I decided this was an explicit way to get the correct tensor.\n",
    "    S_local = (dolfin.diff(W_passive,Eff)*dolfin.outer(f0,f0) + dolfin.diff(W_passive,Efs)*dolfin.outer(f0,s0) \n",
    "            + dolfin.diff(W_passive,Efn)*dolfin.outer(f0,n0,) + dolfin.diff(W_passive,Esf)*dolfin.outer(s0,f0) \n",
    "            + dolfin.diff(W_passive,Ess)*dolfin.outer(s0,s0) + dolfin.diff(W_passive,Esn)*dolfin.outer(s0,n0) \n",
    "            + dolfin.diff(W_passive,Enf)*dolfin.outer(n0,f0) + dolfin.diff(W_passive,Ens)*dolfin.outer(n0,s0) \n",
    "            + dolfin.diff(W_passive,Enn)*dolfin.outer(n0,n0)) - (p)* (dolfin.inv(C))\n",
    "    \n",
    "    # S_local*f0 gives the traction vector, the inner product with f0 gets the component of stress in the fiber direction\n",
    "    S_f = dolfin.inner(f0,S_local*f0) #-> this returns a ufl object\n",
    "    \n",
    "    # When trying to actually access values, we need to associate S_f with a finite element function space, so we need to either project\n",
    "    # or interpolate to one. Too many projection calls may slow the code down. I think it is the case that the interpolate method cannot \n",
    "    # handle ufl objects and expects a dolfin object, so I usually default to projection\n",
    "    pk2_stress_fiber = dolfin.project(S_f,dolfin.FunctionSpace(mesh,\"DG\",1)).vector().get_local()[0] #homogeneous, just picking first value\n",
    "    \n",
    "    return pk2_stress_fiber"
   ]
  },
  {
   "cell_type": "markdown",
   "id": "83116920-54e4-44da-8964-a4cdee37b90e",
   "metadata": {},
   "source": [
    "Big pictures steps in this script:  \n",
    "- [Create mesh](#Create-Mesh)\n",
    "- [Create necessary finite elements, function spaces, and functions](#Create-Finite-Elements,-Function-Spaces,-Functions)\n",
    "- [Create boundary conditions](#Boundary-Conditions)\n",
    "- [Create weak form](#Weak-Form)\n",
    "- [Perturb the System](#Perturb-and-Solve) \n",
    "- [Visualization](#Visualization)  \n",
    "\n",
    "It can be seen how these steps are pretty general and can be their own modules, and will be what we follow in MyoFE."
   ]
  },
  {
   "cell_type": "markdown",
   "id": "ec107cf3-221f-4813-b3a5-039581cf40bf",
   "metadata": {
    "tags": []
   },
   "source": [
    "### Create Mesh"
   ]
  },
  {
   "cell_type": "code",
   "execution_count": 4,
   "id": "c6f3c2c4-a237-47cb-bef0-c409734ffe2d",
   "metadata": {},
   "outputs": [],
   "source": [
    "mesh = dolfin.UnitCubeMesh(1,1,1)"
   ]
  },
  {
   "cell_type": "markdown",
   "id": "1242d6d6-d3f0-481b-84b9-51a6a7630211",
   "metadata": {},
   "source": [
    "### Create Finite Elements, Function Spaces, Functions"
   ]
  },
  {
   "cell_type": "code",
   "execution_count": 5,
   "id": "8052d560-01a9-4197-aa13-cf8c59c3a2d7",
   "metadata": {},
   "outputs": [],
   "source": [
    "# Set up elements and spaces for the problem\n",
    "# For displacement\n",
    "Velem = dolfin.VectorElement(\"CG\", mesh.ufl_cell(), 2, quad_scheme=\"default\")\n",
    "# mesh.ufl_cell() keeps this command generic, will always be 'tetrahedron' unless your mesh is 2D (which would give 'triangle')\n",
    "\n",
    "# For hydrostatic pressure (enforcing incompressibility), of degree one less than element used for displacement\n",
    "Qelem = dolfin.FiniteElement(\"CG\", mesh.ufl_cell(), 1, quad_scheme=\"default\")\n",
    "\n",
    "# Mixed element function space, creating the mixed element inline using Velem and Qelem\n",
    "W = dolfin.FunctionSpace(mesh, dolfin.MixedElement([Velem, Qelem]))\n",
    "\n",
    "# For the weak form\n",
    "w = dolfin.Function(W)\n",
    "dw = dolfin.TrialFunction(W)\n",
    "wtest = dolfin.TestFunction(W)\n",
    "\n",
    "du, dp = dolfin.TrialFunctions(W)\n",
    "u, p = dolfin.split(w)\n",
    "v, q = dolfin.TestFunctions(W)"
   ]
  },
  {
   "cell_type": "code",
   "execution_count": 6,
   "id": "f09aa63f-2b7e-45e6-a751-c0f6eb1de3fd",
   "metadata": {},
   "outputs": [],
   "source": [
    "# Let's create a local coordinate system for the cube. \n",
    "# Right now, using Velem which has nodes defined for a CG2 element. In MyoFE, we define these at the quadrature points,\n",
    "# so that when we solve MyoSim and assign active stress information in the f0 direction, there is no mismatch between\n",
    "# myosim information at integration point i and the vector denoting f0.\n",
    "\n",
    "# I think just assigning a continuous active stress field using the below V_space works, but there is instability when solving\n",
    "# for active stress using something like MyoSim using this space. See work by Henrik Finsberg where they assign Ta using a\n",
    "# space like this\n",
    "V_space = dolfin.FunctionSpace(mesh,Velem)\n",
    "\n",
    "f0 = dolfin.Function(V_space) \n",
    "s0 = dolfin.Function(V_space) \n",
    "n0 = dolfin.Function(V_space) \n",
    "\n",
    "for i in np.arange(np.shape(f0.vector())[0]/3.0):\n",
    "    f0.vector()[3*i] = 1.0   # coincident with x-axis (gives vector (1,0,0) at each degree of freedom)\n",
    "    s0.vector()[3*i+1] = 1.0 # coincident with y-axis (gives vector (0,1,0))\n",
    "    n0.vector()[3*i+2] = 1.0 # coincident with z-axis (gives vector (0,0,1))"
   ]
  },
  {
   "cell_type": "code",
   "execution_count": 7,
   "id": "30b5d625-2d16-4f61-8024-f9ff89755e33",
   "metadata": {},
   "outputs": [],
   "source": [
    "class Left(dolfin.SubDomain):\n",
    "    def inside(self, x, on_boundary):\n",
    "        tol = 1E-14\n",
    "        return on_boundary and abs(x[0]) < tol\n",
    "\n",
    "class Lower(dolfin.SubDomain):\n",
    "    def inside(self, x, on_boundary):\n",
    "        tol = 1E-14\n",
    "        return on_boundary and abs(x[2]) < tol\n",
    "    \n",
    "class Back(dolfin.SubDomain):\n",
    "    def inside(self, x, on_boundary):\n",
    "        tol = 1E-14\n",
    "        return on_boundary and abs(x[1]) < tol\n",
    "\n",
    "class Right(dolfin.SubDomain):\n",
    "    def inside(self, x, on_boundary):\n",
    "        tol = 1E-14\n",
    "        return on_boundary and abs(x[0] - 1.0) < tol\n",
    "    \n",
    "left  = Left()\n",
    "lower = Lower()\n",
    "back = Back()\n",
    "right = Right()"
   ]
  },
  {
   "cell_type": "markdown",
   "id": "7c445bbc-6ea5-4c84-a2d1-407b0359b473",
   "metadata": {},
   "source": [
    "Now we create a mesh function (read about them [here](https://fenicsproject.org/olddocs/dolfin/1.5.0/python/programmers-reference/cpp/mesh/MeshFunction.html)) to mark the instances of our subdomain classes."
   ]
  },
  {
   "cell_type": "code",
   "execution_count": 8,
   "id": "2241b4bb-7a3f-4ab4-b628-edcfa8ad215d",
   "metadata": {},
   "outputs": [],
   "source": [
    "facetboundaries = dolfin.MeshFunction('size_t', mesh, mesh.topology().dim()-1)\n",
    "facetboundaries.set_all(0)\n",
    "\n",
    "N  = dolfin.FacetNormal(mesh)\n",
    "ds = dolfin.ds(subdomain_data = facetboundaries)\n",
    "dx = dolfin.dx(mesh,metadata = {\"integration_order\":2})\n",
    "\n",
    "left.mark(facetboundaries, 1)\n",
    "lower.mark(facetboundaries, 2)\n",
    "back.mark(facetboundaries, 3)\n",
    "right.mark(facetboundaries, 4)"
   ]
  },
  {
   "cell_type": "code",
   "execution_count": 9,
   "id": "aa10809b-fdee-45a6-bb64-99eb1ffeb442",
   "metadata": {},
   "outputs": [],
   "source": [
    "u_d = dolfin.Expression((\"ud_x\"), ud_x = 0.0, degree = 0)\n",
    "\n",
    "# Constrain left face in x\n",
    "# W.sub(0) represents displacement (the first element in the above defined MixedElement), so W.sub(0).sub(0) is the 0th (or x) component of displacement\n",
    "# We are using dolfin.Constant((0.0)) to denote that we want the chosen component of displacement to be zero\n",
    "# and facetboundaries, 1 tells the method we want this to apply for the facetboundary labeled 1, which is the set of points belonging to the left class above\n",
    "bc_left  = dolfin.DirichletBC(W.sub(0).sub(0), dolfin.Constant((0.0)), facetboundaries, 1)\n",
    "# Constrain lower face in z\n",
    "bc_lower = dolfin.DirichletBC(W.sub(0).sub(2), dolfin.Constant((0.0)), facetboundaries, 2)\n",
    "# constrain back face in y\n",
    "bc_back = dolfin.DirichletBC(W.sub(0).sub(1), dolfin.Constant((0.0)), facetboundaries, 3)\n",
    "# Use a user-defined expression to control displacement at the right face\n",
    "bc_right = dolfin.DirichletBC(W.sub(0).sub(0), u_d, facetboundaries, 4)\n",
    "\n",
    "# Finally, our list of all dirichlet boundary conditions which will be given to our solver later\n",
    "dirichlet_bcs = [bc_left, bc_lower, bc_back, bc_right]"
   ]
  },
  {
   "cell_type": "markdown",
   "id": "a28ee396-1b12-4ba8-8831-92c77398b051",
   "metadata": {},
   "source": [
    "### Weak Form"
   ]
  },
  {
   "cell_type": "code",
   "execution_count": 10,
   "id": "2f3f7596-5064-4ab3-97e0-a7c7d444fa67",
   "metadata": {},
   "outputs": [],
   "source": [
    "# Some continuum quantities\n",
    "dim = u.ufl_domain().geometric_dimension()\n",
    "I = dolfin.Identity(dim)\n",
    "F = I + dolfin.grad(u)\n",
    "J = dolfin.det(F) \n",
    "\n",
    "# Green-Lagrangian Strain tensor\n",
    "E = 0.5*(F.T*F - I)\n",
    "\n",
    "#Now let's set up the weak form\n",
    "# p is the hydrostatic pressure (lagrange multiplier to enforce incompressibility)\n",
    "W_incompressible = -p*(J - 1.0)\n",
    "\n",
    "\n",
    "# Right Green-Lagrangian stretch tensor\n",
    "C = F.T*F\n",
    "\n",
    "\n",
    "\n",
    "\n",
    "# Guccione law\n",
    "\n",
    "# Get strain in terms of local coordinates\n",
    "Eff = dolfin.variable(dolfin.inner(f0, E*f0))\n",
    "Ess = dolfin.variable(dolfin.inner(s0, E*s0))\n",
    "Enn = dolfin.variable(dolfin.inner(n0, E*n0))\n",
    "Efs = dolfin.variable(dolfin.inner(f0, E*s0))\n",
    "Efn = dolfin.variable(dolfin.inner(f0, E*n0))\n",
    "Ens = dolfin.variable(dolfin.inner(n0, E*s0))\n",
    "Esf = dolfin.variable(dolfin.inner(s0, E*f0))\n",
    "Esn = dolfin.variable(dolfin.inner(s0, E*n0))\n",
    "Enf = dolfin.variable(dolfin.inner(n0, E*f0))\n",
    "\n",
    "# These are put into lists for the function that calculates stress\n",
    "lcs = [f0, s0, n0]\n",
    "E_comp = [Eff, Efs, Efn, Esf, Ess, Esn, Enf, Ens, Enn]\n",
    "\n",
    "# material parameters\n",
    "c   = 0.26\n",
    "bf  = 2.0\n",
    "bx  = 5.58\n",
    "bfx = 1.627\n",
    "\n",
    "Q = bf*Eff**2.0 + bx*(Ess**2.0 + Enn**2.0 + Ens**2.0 + Esn**2.0) + bfx*(Efs**2.0 + Esf**2.0 + Efn**2.0 + Enf**2.0)\n",
    "\n",
    "# Strain energy function\n",
    "W_passive = (c/2.0)*(dolfin.exp(Q) - 1.0)\n",
    "\n",
    "F_passive = dolfin.derivative(W_passive, w, wtest)*dx\n",
    "F_incompressible = dolfin.derivative(W_incompressible, w, wtest)*dx\n",
    "\n",
    "Ftotal = F_passive + F_incompressible\n",
    "\n",
    "# Jacobian for linearization\n",
    "Jac_passive_body = dolfin.derivative(F_passive, w, dw)\n",
    "Jac_incompressible = dolfin.derivative(F_incompressible, w, dw)\n",
    "\n",
    "Jac_total = Jac_passive_body + Jac_incompressible  "
   ]
  },
  {
   "cell_type": "markdown",
   "id": "d8a6277f-8ab8-4bcf-b777-566e70eeba69",
   "metadata": {},
   "source": [
    "### Perturb and Solve"
   ]
  },
  {
   "cell_type": "code",
   "execution_count": 11,
   "id": "2520c982-6c88-43fe-a5b9-040df658da2f",
   "metadata": {},
   "outputs": [
    {
     "name": "stdout",
     "output_type": "stream",
     "text": [
      "Solving nonlinear variational problem.\n",
      "  Newton iteration 0: r (abs) = 7.907e-02 (tol = 1.000e-10) r (rel) = 1.000e+00 (tol = 1.000e-09)\n",
      "  Newton iteration 1: r (abs) = 6.540e-05 (tol = 1.000e-10) r (rel) = 8.271e-04 (tol = 1.000e-09)\n",
      "  Newton iteration 2: r (abs) = 1.808e-09 (tol = 1.000e-10) r (rel) = 2.286e-08 (tol = 1.000e-09)\n",
      "  Newton iteration 3: r (abs) = 7.120e-17 (tol = 1.000e-10) r (rel) = 9.004e-16 (tol = 1.000e-09)\n",
      "  Newton solver finished in 3 iterations and 3 linear solver iterations.\n",
      "Solving nonlinear variational problem.\n",
      "  Newton iteration 0: r (abs) = 7.908e-02 (tol = 1.000e-10) r (rel) = 1.000e+00 (tol = 1.000e-09)\n",
      "  Newton iteration 1: r (abs) = 5.723e-05 (tol = 1.000e-10) r (rel) = 7.237e-04 (tol = 1.000e-09)\n",
      "  Newton iteration 2: r (abs) = 1.656e-09 (tol = 1.000e-10) r (rel) = 2.094e-08 (tol = 1.000e-09)\n",
      "  Newton iteration 3: r (abs) = 5.331e-17 (tol = 1.000e-10) r (rel) = 6.741e-16 (tol = 1.000e-09)\n",
      "  Newton solver finished in 3 iterations and 3 linear solver iterations.\n",
      "Solving nonlinear variational problem.\n",
      "  Newton iteration 0: r (abs) = 7.909e-02 (tol = 1.000e-10) r (rel) = 1.000e+00 (tol = 1.000e-09)\n",
      "  Newton iteration 1: r (abs) = 4.989e-05 (tol = 1.000e-10) r (rel) = 6.308e-04 (tol = 1.000e-09)\n",
      "  Newton iteration 2: r (abs) = 1.512e-09 (tol = 1.000e-10) r (rel) = 1.911e-08 (tol = 1.000e-09)\n",
      "  Newton iteration 3: r (abs) = 7.502e-17 (tol = 1.000e-10) r (rel) = 9.485e-16 (tol = 1.000e-09)\n",
      "  Newton solver finished in 3 iterations and 3 linear solver iterations.\n",
      "Solving nonlinear variational problem.\n",
      "  Newton iteration 0: r (abs) = 7.910e-02 (tol = 1.000e-10) r (rel) = 1.000e+00 (tol = 1.000e-09)\n",
      "  Newton iteration 1: r (abs) = 4.338e-05 (tol = 1.000e-10) r (rel) = 5.484e-04 (tol = 1.000e-09)\n",
      "  Newton iteration 2: r (abs) = 1.375e-09 (tol = 1.000e-10) r (rel) = 1.738e-08 (tol = 1.000e-09)\n",
      "  Newton iteration 3: r (abs) = 5.730e-17 (tol = 1.000e-10) r (rel) = 7.243e-16 (tol = 1.000e-09)\n",
      "  Newton solver finished in 3 iterations and 3 linear solver iterations.\n",
      "Solving nonlinear variational problem.\n",
      "  Newton iteration 0: r (abs) = 7.912e-02 (tol = 1.000e-10) r (rel) = 1.000e+00 (tol = 1.000e-09)\n",
      "  Newton iteration 1: r (abs) = 3.773e-05 (tol = 1.000e-10) r (rel) = 4.769e-04 (tol = 1.000e-09)\n",
      "  Newton iteration 2: r (abs) = 1.244e-09 (tol = 1.000e-10) r (rel) = 1.572e-08 (tol = 1.000e-09)\n",
      "  Newton iteration 3: r (abs) = 7.429e-17 (tol = 1.000e-10) r (rel) = 9.391e-16 (tol = 1.000e-09)\n",
      "  Newton solver finished in 3 iterations and 3 linear solver iterations.\n",
      "Solving nonlinear variational problem.\n",
      "  Newton iteration 0: r (abs) = 7.913e-02 (tol = 1.000e-10) r (rel) = 1.000e+00 (tol = 1.000e-09)\n",
      "  Newton iteration 1: r (abs) = 3.303e-05 (tol = 1.000e-10) r (rel) = 4.174e-04 (tol = 1.000e-09)\n",
      "  Newton iteration 2: r (abs) = 1.119e-09 (tol = 1.000e-10) r (rel) = 1.414e-08 (tol = 1.000e-09)\n",
      "  Newton iteration 3: r (abs) = 7.508e-17 (tol = 1.000e-10) r (rel) = 9.487e-16 (tol = 1.000e-09)\n",
      "  Newton solver finished in 3 iterations and 3 linear solver iterations.\n",
      "Solving nonlinear variational problem.\n",
      "  Newton iteration 0: r (abs) = 7.915e-02 (tol = 1.000e-10) r (rel) = 1.000e+00 (tol = 1.000e-09)\n",
      "  Newton iteration 1: r (abs) = 2.943e-05 (tol = 1.000e-10) r (rel) = 3.718e-04 (tol = 1.000e-09)\n",
      "  Newton iteration 2: r (abs) = 9.995e-10 (tol = 1.000e-10) r (rel) = 1.263e-08 (tol = 1.000e-09)\n",
      "  Newton iteration 3: r (abs) = 5.946e-17 (tol = 1.000e-10) r (rel) = 7.513e-16 (tol = 1.000e-09)\n",
      "  Newton solver finished in 3 iterations and 3 linear solver iterations.\n",
      "Solving nonlinear variational problem.\n",
      "  Newton iteration 0: r (abs) = 7.917e-02 (tol = 1.000e-10) r (rel) = 1.000e+00 (tol = 1.000e-09)\n",
      "  Newton iteration 1: r (abs) = 2.711e-05 (tol = 1.000e-10) r (rel) = 3.424e-04 (tol = 1.000e-09)\n",
      "  Newton iteration 2: r (abs) = 8.850e-10 (tol = 1.000e-10) r (rel) = 1.118e-08 (tol = 1.000e-09)\n",
      "  Newton iteration 3: r (abs) = 8.917e-17 (tol = 1.000e-10) r (rel) = 1.126e-15 (tol = 1.000e-09)\n",
      "  Newton solver finished in 3 iterations and 3 linear solver iterations.\n",
      "Solving nonlinear variational problem.\n",
      "  Newton iteration 0: r (abs) = 7.919e-02 (tol = 1.000e-10) r (rel) = 1.000e+00 (tol = 1.000e-09)\n",
      "  Newton iteration 1: r (abs) = 2.620e-05 (tol = 1.000e-10) r (rel) = 3.309e-04 (tol = 1.000e-09)\n",
      "  Newton iteration 2: r (abs) = 7.757e-10 (tol = 1.000e-10) r (rel) = 9.796e-09 (tol = 1.000e-09)\n",
      "  Newton iteration 3: r (abs) = 8.192e-17 (tol = 1.000e-10) r (rel) = 1.034e-15 (tol = 1.000e-09)\n",
      "  Newton solver finished in 3 iterations and 3 linear solver iterations.\n",
      "Solving nonlinear variational problem.\n",
      "  Newton iteration 0: r (abs) = 7.922e-02 (tol = 1.000e-10) r (rel) = 1.000e+00 (tol = 1.000e-09)\n",
      "  Newton iteration 1: r (abs) = 2.671e-05 (tol = 1.000e-10) r (rel) = 3.371e-04 (tol = 1.000e-09)\n",
      "  Newton iteration 2: r (abs) = 6.720e-10 (tol = 1.000e-10) r (rel) = 8.484e-09 (tol = 1.000e-09)\n",
      "  Newton iteration 3: r (abs) = 6.285e-17 (tol = 1.000e-10) r (rel) = 7.934e-16 (tol = 1.000e-09)\n",
      "  Newton solver finished in 3 iterations and 3 linear solver iterations.\n"
     ]
    }
   ],
   "source": [
    "for i in np.arange(10):\n",
    "    \n",
    "    # Increment the displacement of the right face\n",
    "    u_d.ud_x += 1*0.01\n",
    "    \n",
    "    # Since we gave ud to the boundary DirichletBC method earlier, and we are updating the ud object, we just have to solve our weak form\n",
    "    dolfin.solve(Ftotal == 0, w, bcs=dirichlet_bcs, J=Jac_total)\n",
    "\n",
    "    # We also want to track the progression of the pk2 stress in the fiber direction during the displacement\n",
    "    pk2_stress_history[i] = calculate_pk2_stress(W_passive, E_comp, lcs)\n",
    "    \n",
    "    # Let's also save the Green Lagrange strain in the fiber direction\n",
    "    eff_history[i] = dolfin.project(Eff,dolfin.FunctionSpace(mesh,\"CG\",1)).vector().get_local()[0]"
   ]
  },
  {
   "cell_type": "code",
   "execution_count": 12,
   "id": "895e33b6-b84e-4c96-b24f-fe9429a2d8a9",
   "metadata": {},
   "outputs": [
    {
     "name": "stdout",
     "output_type": "stream",
     "text": [
      "Solving nonlinear variational problem.\n",
      "  Newton iteration 0: r (abs) = 3.962e-01 (tol = 1.000e-10) r (rel) = 1.000e+00 (tol = 1.000e-09)\n",
      "  Newton iteration 1: r (abs) = 6.430e-04 (tol = 1.000e-10) r (rel) = 1.623e-03 (tol = 1.000e-09)\n",
      "  Newton iteration 2: r (abs) = 2.836e-07 (tol = 1.000e-10) r (rel) = 7.157e-07 (tol = 1.000e-09)\n",
      "  Newton iteration 3: r (abs) = 7.339e-14 (tol = 1.000e-10) r (rel) = 1.852e-13 (tol = 1.000e-09)\n",
      "  Newton solver finished in 3 iterations and 3 linear solver iterations.\n",
      "Solving nonlinear variational problem.\n",
      "  Newton iteration 0: r (abs) = 3.957e-01 (tol = 1.000e-10) r (rel) = 1.000e+00 (tol = 1.000e-09)\n",
      "  Newton iteration 1: r (abs) = 1.045e-03 (tol = 1.000e-10) r (rel) = 2.641e-03 (tol = 1.000e-09)\n",
      "  Newton iteration 2: r (abs) = 4.422e-07 (tol = 1.000e-10) r (rel) = 1.118e-06 (tol = 1.000e-09)\n",
      "  Newton iteration 3: r (abs) = 7.717e-14 (tol = 1.000e-10) r (rel) = 1.950e-13 (tol = 1.000e-09)\n",
      "  Newton solver finished in 3 iterations and 3 linear solver iterations.\n"
     ]
    }
   ],
   "source": [
    "for i in np.arange(2):\n",
    "    \n",
    "    # Increment the displacement of the right face\n",
    "    u_d.ud_x -= 0.1*0.5\n",
    "    \n",
    "    # Since we gave ud to the boundary DirichletBC method earlier, and we are updating the ud object, we just have to solve our weak form\n",
    "    dolfin.solve(Ftotal == 0, w, bcs=dirichlet_bcs, J=Jac_total)\n",
    "\n",
    "    # We also want to track the progression of the pk2 stress in the fiber direction during the displacement\n",
    "    pk2_stress_history[i] = calculate_pk2_stress(W_passive, E_comp, lcs)\n",
    "    \n",
    "    # Let's also save the Green Lagrange strain in the fiber direction\n",
    "    eff_history[i] = dolfin.project(Eff,dolfin.FunctionSpace(mesh,\"CG\",1)).vector().get_local()[0]"
   ]
  },
  {
   "cell_type": "code",
   "execution_count": 13,
   "id": "7d90dcbc-82c0-4493-84bc-5f16b0184f24",
   "metadata": {},
   "outputs": [
    {
     "name": "stdout",
     "output_type": "stream",
     "text": [
      "Solving nonlinear variational problem.\n",
      "  Newton iteration 0: r (abs) = 3.954e-01 (tol = 1.000e-10) r (rel) = 1.000e+00 (tol = 1.000e-09)\n",
      "  Newton iteration 1: r (abs) = 1.409e-03 (tol = 1.000e-10) r (rel) = 3.564e-03 (tol = 1.000e-09)\n",
      "  Newton iteration 2: r (abs) = 1.358e-06 (tol = 1.000e-10) r (rel) = 3.436e-06 (tol = 1.000e-09)\n",
      "  Newton iteration 3: r (abs) = 6.057e-13 (tol = 1.000e-10) r (rel) = 1.532e-12 (tol = 1.000e-09)\n",
      "  Newton solver finished in 3 iterations and 3 linear solver iterations.\n",
      "Solving nonlinear variational problem.\n",
      "  Newton iteration 0: r (abs) = 3.957e-01 (tol = 1.000e-10) r (rel) = 1.000e+00 (tol = 1.000e-09)\n",
      "  Newton iteration 1: r (abs) = 7.225e-04 (tol = 1.000e-10) r (rel) = 1.826e-03 (tol = 1.000e-09)\n",
      "  Newton iteration 2: r (abs) = 8.012e-07 (tol = 1.000e-10) r (rel) = 2.025e-06 (tol = 1.000e-09)\n",
      "  Newton iteration 3: r (abs) = 3.611e-13 (tol = 1.000e-10) r (rel) = 9.126e-13 (tol = 1.000e-09)\n",
      "  Newton solver finished in 3 iterations and 3 linear solver iterations.\n"
     ]
    }
   ],
   "source": [
    "for i in np.arange(2):\n",
    "    \n",
    "    # Increment the displacement of the right face\n",
    "    u_d.ud_x += 0.1*0.5\n",
    "    \n",
    "    # Since we gave ud to the boundary DirichletBC method earlier, and we are updating the ud object, we just have to solve our weak form\n",
    "    dolfin.solve(Ftotal == 0, w, bcs=dirichlet_bcs, J=Jac_total)\n",
    "\n",
    "    # We also want to track the progression of the pk2 stress in the fiber direction during the displacement\n",
    "    pk2_stress_history[i] = calculate_pk2_stress(W_passive, E_comp, lcs)\n",
    "    \n",
    "    # Let's also save the Green Lagrange strain in the fiber direction\n",
    "    eff_history[i] = dolfin.project(Eff,dolfin.FunctionSpace(mesh,\"CG\",1)).vector().get_local()[0]"
   ]
  },
  {
   "cell_type": "markdown",
   "id": "f5b0f388-4d92-4964-b312-fbed5c0af8c0",
   "metadata": {},
   "source": [
    "### Visualization"
   ]
  },
  {
   "cell_type": "code",
   "execution_count": 14,
   "id": "bf90b808-c22c-4761-88b6-956adc0ee472",
   "metadata": {},
   "outputs": [
    {
     "data": {
      "text/plain": [
       "Text(0, 0.5, 'PK2 Fiber\\n(kPa)')"
      ]
     },
     "execution_count": 14,
     "metadata": {},
     "output_type": "execute_result"
    },
    {
     "data": {
      "image/png": "[encoded data removed]",
      "text/plain": [
       "<Figure size 432x288 with 1 Axes>"
      ]
     },
     "metadata": {
      "needs_background": "light"
     },
     "output_type": "display_data"
    }
   ],
   "source": [
    "plt.plot(eff_history,pk2_stress_history)\n",
    "plt.xlabel('Eff')\n",
    "plt.ylabel('PK2 Fiber\\n(kPa)',rotation=0,labelpad=30)"
   ]
  },
  {
   "cell_type": "code",
   "execution_count": 15,
   "id": "ad069fc0-04b6-458a-8901-34a708f9c056",
   "metadata": {},
   "outputs": [
    {
     "data": {
      "text/html": [
       "<iframe\n",
       "    scrolling=\"no\"\n",
       "    width=\"100%\"\n",
       "    height=\"545px\"\n",
       "    src=\"iframe_figures/figure_15.html\"\n",
       "    frameborder=\"0\"\n",
       "    allowfullscreen\n",
       "></iframe>\n"
      ]
     },
     "metadata": {},
     "output_type": "display_data"
    }
   ],
   "source": [
    "# Let's look at the deformed mesh overlaid on the reference mesh\n",
    "\n",
    "# Get a copy of the solution\n",
    "u, p = w.split()\n",
    "\n",
    "# Interpolate the solution onto a FE space\n",
    "u_int = dolfin.interpolate(u, dolfin.VectorFunctionSpace(mesh, \"CG\", 2))\n",
    "\n",
    "# Plot\n",
    "fig = fenics_plotly.plot(mesh,color=\"blue\",opacity = 0.5,show=False)\n",
    "\n",
    "# Move mesh according to u_int for plotting purposes\n",
    "dolfin.ALE.move(mesh,u_int)\n",
    "fig.add_plot(fenics_plotly.plot(mesh, color=\"red\", opacity = 0.5, show=False))\n",
    "fig.show()"
   ]
  },
  {
   "cell_type": "code",
   "execution_count": null,
   "id": "d5e19dd0-c80f-4e76-b67e-5c9f2c73edf5",
   "metadata": {},
   "outputs": [],
   "source": []
  }
 ],
 "metadata": {
  "kernelspec": {
   "display_name": "Python 3 (ipykernel)",
   "language": "python",
   "name": "python3"
  },
  "language_info": {
   "codemirror_mode": {
    "name": "ipython",
    "version": 3
   },
   "file_extension": ".py",
   "mimetype": "text/x-python",
   "name": "python",
   "nbconvert_exporter": "python",
   "pygments_lexer": "ipython3",
   "version": "3.10.5"
  }
 },
 "nbformat": 4,
 "nbformat_minor": 5
}
