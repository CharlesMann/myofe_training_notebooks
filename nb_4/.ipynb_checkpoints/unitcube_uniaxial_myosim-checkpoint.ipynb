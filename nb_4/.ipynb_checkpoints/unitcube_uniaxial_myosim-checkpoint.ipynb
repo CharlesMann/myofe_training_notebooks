{
 "cells": [
  {
   "cell_type": "markdown",
   "id": "0dc34348-ddd8-4600-b6ab-25e2afb4463e",
   "metadata": {},
   "source": [
    "# Unit Cube, Uniaxial Extension, MyoSim\n",
    "This notebook adds onto nb_3 by adding in MyoSim to govern contraction. Additionally, some of the functionality from nb_3 will be placed in other python files and imported to demonstrate a more modular approach.  \n",
    "\n",
    "MyoSim specific additions to the code will be marked as _<mark style=\"color: white; background-color:blue\"> \\<MyoSim addition> </mark>_"
   ]
  },
  {
   "cell_type": "markdown",
   "id": "4dd3ea47-191a-4fa9-b3c2-ac9d911cb6b1",
   "metadata": {},
   "source": [
    "MyoSim must be evaluated at the integration points. Instabilities arise if trying to do this at the nodes. Thus we will use a \"Quadrature Element\". These elements only exist at the integration points, unlike the other two elements we use.\n",
    "\n",
    "## MyoSim  \n",
    "MyoSim is a system of ordinary differential equations that solves for the relative populations of myosin heads in each state in a given kinetic scheme. Specifics of different kinetic schemes and the underlying physiology will not be discussed here. \n",
    "\n",
    "There are two things \"outside\" of MyoSim that affect these populations: the intracellular calcium concentration $[Ca^{2+}]$ and movement of the tissue that ultimately leads to interfilamentary movement (movement of the myosin filament relative to the binding sites on the actin filament).  \n",
    "\n",
    "The intracellular calcium at the moment just comes from simplified models, either a two-compartment model or a pre-specified calcium transient. This concentration is passed in at every time step and used in the rate calculations within MyoSim.  \n",
    "\n",
    "The interfilamentary movement is the trickier part that involves coupling between FEniCS and MyoSim. Interfilamentary movement displaces (stretches or compresses) cross-bridge linkages, which are modeled as linear springs. There are two effects this has: (1) the force produced by a cross-bridge changes with this displacement and (2) rates of attachment and detachment are altered by displacement according to the underlying rate equations.  \n",
    "\n",
    "(1) Changing cross-bridge force: This effect is seen during the Newton Solver. It is assumed that once MyoSim solves for the relative populations within a time step that the magnitude of these populations remain fixed. The Newton Solver is trying to find the displacement that satisfies the balance of linear momentum. Each trial displacement leads to some change in half-sarcomere length:  \n",
    "\n",
    "Let $u$ represent the displacement. Then:  \n",
    "\n",
    "$$F = I + \\nabla u$$\n",
    "\n",
    "$$E = \\frac{1}{2}(F^{T}F - I)$$\n",
    "\n",
    "$$\\alpha = \\sqrt{2E_{ff} + 1}$$\n",
    "\n",
    "$$ hsl = \\alpha (hsl_{0}) $$\n",
    "\n",
    "If we code up all of the relationships correctly in FEniCS, when a new displacement solution tried by the Newton Solver, this will also lead to a new half-sarcomere length, which will then shift all attached cross-bridge solutions by $\\frac{1}{2} \\Delta hsl$, and our active stress calculation will see this as a different spring length. Thus the Newton Solver updates the active stress while trying to find the solution.\n",
    "\n",
    "(2) Altered kinetics due to displaced cross-bridges: It is important to note, and will be discussed in some more detail later, that though the Newton Solver can calculate changes in active stress based on changes in displacement, it does not alter the actual finite element function that stores the population values. Thus, when the Newton Solver is complete, we have to make sure to interpolate the cross-bridges before the next instance of solving the cross-bridge kinetics."
   ]
  },
  {
   "cell_type": "code",
   "execution_count": 1,
   "id": "fddce8bd-f666-450a-8424-1f8d12e399c6",
   "metadata": {
    "tags": []
   },
   "outputs": [],
   "source": [
    "import json\n",
    "import dolfin\n",
    "import numpy as np # mainly for storing data\n",
    "import warnings\n",
    "from ffc.quadrature.deprecation \\\n",
    "    import QuadratureRepresentationDeprecationWarning\n",
    "warnings.simplefilter(\"ignore\", QuadratureRepresentationDeprecationWarning)\n",
    "import matplotlib.pyplot as plt # for plotting traces\n",
    "width = 10\n",
    "height = 3\n",
    "plt.rcParams['figure.figsize'] = [width, height]\n",
    "\n",
    "\n",
    "import Python_MyoSim.half_sarcomere.half_sarcomere as half_sarcomere\n",
    "import Python_MyoSim.half_sarcomere.implement as implement\n",
    "\n",
    "import BoundaryConditions\n",
    "import MeshObject\n",
    "import materials\n",
    "#from materials import calculate_pk2_stress # materials can eventually be a class holding strain energy functions, etc.\n",
    "\n",
    "#%matplotlib tk\n",
    "#fenics_plotly.set_renderer(\"iframe\") # renderer needed for jupyter notebooks\n",
    "\n",
    "# Force quadrature degree \n",
    "deg = 2\n",
    "dolfin.parameters[\"form_compiler\"][\"quadrature_degree\"]=deg\n",
    "#dolfin.parameters[\"form_compiler\"][\"representation\"] = \"uflacs\"\n",
    "dolfin.parameters[\"form_compiler\"][\"representation\"] = \"quadrature\"\n",
    "# See notes at the end re: representation"
   ]
  },
  {
   "cell_type": "markdown",
   "id": "efe59e29-d180-4088-8144-803bad3f9210",
   "metadata": {},
   "source": [
    "We are going to use numpy arrays to store any values we want to later plot (i.e. stress in the fiber direction). "
   ]
  },
  {
   "cell_type": "code",
   "execution_count": 2,
   "id": "bca0113b-6e55-4185-ac15-d33a5f248b86",
   "metadata": {},
   "outputs": [],
   "source": [
    "# Initialization of data holders, file I/O\n",
    "num_timesteps = 20\n",
    "t = np.linspace(0,num_timesteps,num_timesteps+1)\n",
    "pk2_stress_history = np.nan*np.ones(num_timesteps) # initializing with NaN so we don't have false zeros\n",
    "eff_history = np.nan*np.ones(num_timesteps)\n",
    "active_stress_history = np.nan*np.ones(num_timesteps)\n",
    "incomp_stress_history = np.nan*np.ones(num_timesteps)\n",
    "counter = 0\n",
    "\n",
    "# Set up an output file, so we can record the deformation and active stress to visualize in ParaView\n",
    "output_file = dolfin.XDMFFile(dolfin.MPI.comm_world,\"output.xdmf\")\n",
    "output_file.parameters.update({\"functions_share_mesh\": True, #so the file doesn't create a new mesh for each function we save\n",
    "                                   \"rewrite_function_mesh\": False,\n",
    "                                    \"flush_output\": True}) #if a simulation stops prior to closing the file, it can still be loaded into Paraview\n",
    "\n",
    "# Now that we're solving myosim, let's grab some myosim parameters from an input file\n",
    "with open('ellipsoid_rat_LV_baseline.json', 'r') as json_input:\n",
    "  input_parameters = json.load(json_input)\n",
    "\n",
    "hs_params = input_parameters[\"myosim_parameters\"]"
   ]
  },
  {
   "cell_type": "markdown",
   "id": "b5bac415-b84e-4d43-87f8-50462e7a6d7f",
   "metadata": {},
   "source": [
    "Big pictures steps in this script:  \n",
    "- [Create mesh](#Create-Mesh)\n",
    "- [Create necessary finite elements, function spaces, and functions](#Create-Finite-Elements,-Function-Spaces,-Functions)\n",
    "    - [Finite Elements](#Finite-Elements)\n",
    "    - [Function Spaces](#Function-Spaces)\n",
    "    - [Functions](#Functions)\n",
    "- [Create boundary conditions](#Boundary-Conditions)\n",
    "- [Create weak form](#Weak-Form)\n",
    "- [Perturb the System](#Perturb-and-Solve) \n",
    "- [Visualization](#Visualization)  \n"
   ]
  },
  {
   "cell_type": "markdown",
   "id": "11c43b24-1106-484e-9b63-418795c80318",
   "metadata": {
    "tags": []
   },
   "source": [
    "## Create Mesh\n",
    "\n",
    "Mesh creation has been moved to the MeshObject class. Instances of this class contain things like the mesh itself, and other geometry related information such as integration measures dx, ds, etc."
   ]
  },
  {
   "cell_type": "code",
   "execution_count": 3,
   "id": "6f8b4185-4bc7-455d-a0e2-05316f4ba90c",
   "metadata": {},
   "outputs": [],
   "source": [
    "mesh_object = MeshObject.MeshObject(\"unit_cube\")"
   ]
  },
  {
   "cell_type": "markdown",
   "id": "e7dc45aa-2eeb-42eb-910a-422947402e7e",
   "metadata": {},
   "source": [
    "## Create Finite Elements, Function Spaces, Functions\n",
    "\n",
    "### Finite Elements\n",
    "\n",
    "This could also be its own class or function, but to see the differences needed for MyoSim, I've kept them here."
   ]
  },
  {
   "cell_type": "code",
   "execution_count": 4,
   "id": "51e8c07d-b209-4d1d-9c0e-bfe514b310e5",
   "metadata": {},
   "outputs": [],
   "source": [
    "# For displacement\n",
    "Velem = dolfin.VectorElement(\"CG\", mesh_object.mesh.ufl_cell(), 2, quad_scheme=\"default\")\n",
    "# mesh.ufl_cell() keeps this command generic, will always be 'tetrahedron' unless your mesh is 2D (which would give 'triangle')\n",
    "\n",
    "# For hydrostatic pressure (enforcing incompressibility), of degree one less than element used for displacement\n",
    "Qelem = dolfin.FiniteElement(\"CG\", mesh_object.mesh.ufl_cell(), 1, quad_scheme=\"default\")"
   ]
  },
  {
   "cell_type": "markdown",
   "id": "10ac7e78-cb5a-499b-a237-3f5532dd7fba",
   "metadata": {},
   "source": [
    "_<mark style=\"color: white; background-color:blue\"> \\<MyoSim addition> </mark>_"
   ]
  },
  {
   "cell_type": "code",
   "execution_count": 5,
   "id": "3c8b9689-ef83-454b-b967-e9e4a075adfe",
   "metadata": {},
   "outputs": [],
   "source": [
    "# First, create a quadrature element where MyoSim will be evaluated at\n",
    "# This will be the finite element we use to create a function space \n",
    "# that will hold scalar valued values needed for MyoSim calculations (as finite element functions)\n",
    "Quadelem = dolfin.FiniteElement(\"Quadrature\", \"tetrahedron\", degree=deg, quad_scheme=\"default\")\n",
    "\n",
    "# Now, we need an element to set up a vectorized space to contain the myosin populations\n",
    "# Need some myosim specific information here (usually from an input file)\n",
    "# n_array_length represents the length of the population vector for myosim\n",
    "# no_of_x_bins is the refinement of the \"x\" domain for attached states\n",
    "# the +2 is for off and on states of thin filament\n",
    "no_of_attached_states = 1\n",
    "no_of_detached_states = 2\n",
    "no_of_states = no_of_attached_states + no_of_detached_states\n",
    "\n",
    "x_bin_min = -10.0\n",
    "x_bin_max = 10.0\n",
    "x_bin_increment = 1.0\n",
    "\n",
    "# Create x interval for cross-bridges\n",
    "xx = np.arange(x_bin_min, x_bin_max + x_bin_increment, x_bin_increment)\n",
    "\n",
    "# Define number of intervals cross-bridges are defined over\n",
    "no_of_x_bins = np.shape(xx)[0]\n",
    "\n",
    "# Define the length of the populations vector\n",
    "n_array_length = no_of_attached_states * no_of_x_bins + no_of_detached_states + 2\n",
    "\n",
    "# Spring constants\n",
    "k_cb_multiplier = hs_params[\"myofilament_parameters\"][\"k_cb_multiplier\"][0]\n",
    "k_cb_pos = hs_params[\"myofilament_parameters\"][\"k_cb_pos\"][0]\n",
    "k_cb_neg = hs_params[\"myofilament_parameters\"][\"k_cb_neg\"][0]\n",
    "\n",
    "# one if state represents attached state\n",
    "state_attached = [0, 0, 1]\n",
    "cb_extensions = [0.0, 0.0, 4.5] # power-stroke distances for each state (0 for detached)\n",
    "n_vector_indices = [[0,0], [1,1], [2,2+no_of_x_bins-1]] # hard coded for 3 state\n",
    "filament_compliance_factor = 0.5 # how much of delta_hsl is transmitted to cross-bridges\n",
    "cb_number_density = 6.9e16 # how would you alter this to make cb_number_density potentially vary through the mesh?\n",
    "alpha_value = 1.0\n",
    "xfiber_fraction = 0.0 # transmit any force in cross-fiber directions\n",
    "\n",
    "# Here's the element\n",
    "Quad_vec_element = dolfin.MixedElement(n_array_length*[Quadelem])\n",
    "\n",
    "# Now we will define the local coordinate system at each integer point\n",
    "# For this, we need a vector quadrature element, to hold a vector valued\n",
    "# function at each integration point\n",
    "VQuadelem = dolfin.VectorElement(\"Quadrature\", mesh_object.mesh.ufl_cell(), degree=deg, quad_scheme=\"default\")\n"
   ]
  },
  {
   "cell_type": "markdown",
   "id": "d21ff2a4-ca86-4a46-9055-16d1de104dd8",
   "metadata": {},
   "source": [
    "### Function Spaces"
   ]
  },
  {
   "cell_type": "code",
   "execution_count": 6,
   "id": "8f68aa3f-c1dd-4df2-a38a-887022b7e322",
   "metadata": {},
   "outputs": [],
   "source": [
    "# Mixed element function space, creating the mixed element inline using Velem and Qelem\n",
    "W = dolfin.FunctionSpace(mesh_object.mesh, dolfin.MixedElement([Velem, Qelem]))"
   ]
  },
  {
   "cell_type": "markdown",
   "id": "ee86f770-7a89-4dc4-a5ac-f0d9e5a9c00b",
   "metadata": {},
   "source": [
    "_<mark style=\"color: white; background-color:blue\"> \\<MyoSim addition> </mark>_"
   ]
  },
  {
   "cell_type": "code",
   "execution_count": 7,
   "id": "9a29ee14-ce32-421d-bf7a-696aac43f0cd",
   "metadata": {},
   "outputs": [],
   "source": [
    "# Let's build a function space using the quadrature element\n",
    "QuadFS = dolfin.FunctionSpace(mesh_object.mesh,Quadelem)\n",
    "\n",
    "# Now a function space using the vectorized element\n",
    "QuadvecFS = dolfin.FunctionSpace(mesh_object.mesh,Quad_vec_element)\n",
    "\n",
    "# And a vector function space for our material coordinate system\n",
    "# Note: We didn't use the dolfin method \"VectorFunctionSpace\", as it recognizes the standard elements (not quadrature)\n",
    "# and doesn't play as nice with the quadrature representation\n",
    "fiberFS = dolfin.FunctionSpace(mesh_object.mesh, VQuadelem)"
   ]
  },
  {
   "cell_type": "markdown",
   "id": "1e34e1b5-86fb-438a-9b4c-52db61f3c53f",
   "metadata": {},
   "source": [
    "### Functions"
   ]
  },
  {
   "cell_type": "code",
   "execution_count": 8,
   "id": "a7ff55c9-591d-4127-9a99-edad615dfa15",
   "metadata": {},
   "outputs": [],
   "source": [
    "f0 = dolfin.Function(fiberFS) \n",
    "s0 = dolfin.Function(fiberFS) \n",
    "n0 = dolfin.Function(fiberFS) "
   ]
  },
  {
   "cell_type": "code",
   "execution_count": 9,
   "id": "b80ea3e2-2f19-4983-b4d2-c67170effe51",
   "metadata": {},
   "outputs": [],
   "source": [
    "for i in np.arange(int(np.shape(f0.vector())[0]/3.0)):\n",
    "    f0.vector()[3*i] = 1.0   # coincident with x-axis (gives vector (1,0,0) at each degree of freedom)\n",
    "    s0.vector()[3*i+1] = 1.0 # coincident with y-axis (gives vector (0,1,0))\n",
    "    n0.vector()[3*i+2] = 1.0 # coincident with z-axis (gives vector (0,0,1))\n",
    "    "
   ]
  },
  {
   "cell_type": "code",
   "execution_count": 10,
   "id": "a71da3d8-fc1b-4dec-ae7c-c2deb8ec8a11",
   "metadata": {},
   "outputs": [],
   "source": [
    "# For the weak form\n",
    "w = dolfin.Function(W)\n",
    "dw = dolfin.TrialFunction(W)\n",
    "wtest = dolfin.TestFunction(W)\n",
    "\n",
    "du, dp = dolfin.TrialFunctions(W)\n",
    "u, p = dolfin.split(w)\n",
    "v, q = dolfin.TestFunctions(W)"
   ]
  },
  {
   "cell_type": "markdown",
   "id": "f5f83e6b-5844-453e-beb1-94c00baa6623",
   "metadata": {},
   "source": [
    "_<mark style=\"color: white; background-color:blue\"> \\<MyoSim addition> </mark>_\n",
    "    \n",
    "We will create finite-element functions holding MyoSim information. By using these functions, MyoSim information will be coupled to the displacement from FEniCS.\n",
    "    \n",
    "Since MyoSim itself does not have any spatial information, we will obtain the vectors from these finite-element functions to pass into MyoSim."
   ]
  },
  {
   "cell_type": "code",
   "execution_count": 11,
   "id": "dd0f1475-a180-4eec-a390-aa0278755044",
   "metadata": {},
   "outputs": [],
   "source": [
    "# Reference Half-sarcomere length\n",
    "hsl0    = dolfin.Function(QuadFS)\n",
    "hsl0.vector()[:] = 1000 #nm, assign initial hsl\n",
    "\n",
    "# Half-sarcomere length prior to Newton Solver\n",
    "hsl_old = dolfin.Function(QuadFS)\n",
    "hsl_old.vector()[:] = 1000\n",
    "\n",
    "# Function that contains the vector of MyoSim populations at each integration point\n",
    "y_vec   = dolfin.Function(QuadvecFS)\n",
    "y_vec_array = y_vec.vector().get_local()\n",
    "\n",
    "# Deduce the number of integration points by getting the size of one of the functions defined on QuadFS\n",
    "num_int_points = np.shape(hsl0.vector().get_local()) # local number of integration points (= global for 1 core)\n",
    "\n",
    "# Some functions will be initialized when we define the mathematical relationship (for example, hsl)\n",
    "# which depend on kinematic tensors defined later."
   ]
  },
  {
   "cell_type": "markdown",
   "id": "5b4e81df-eb6e-43a3-a2ee-212b17bb24ba",
   "metadata": {},
   "source": [
    "In MyoFE, the functions f0, s0, and n0 are created during mesh creation, and will be read in from the mesh file.  \n",
    "Now we have a mesh, we have our finite elements defined on the mesh, and we have functions that will hold our solutions for displacement, hydrostatic pressure, functions that represent our local coordinate system, and functions that hold MyoSim information.  "
   ]
  },
  {
   "cell_type": "markdown",
   "id": "5b93ac0b-fa9d-446a-b441-93ec069f22f2",
   "metadata": {},
   "source": [
    "## Boundary Conditions\n",
    "This has been moved into the BoundaryConditions class. The instance of the BoundaryConditions class contains methods to create a list of Dirichlet boundary conditions, and also the list itself."
   ]
  },
  {
   "cell_type": "code",
   "execution_count": 12,
   "id": "eb10de61-cbc2-4e4a-979d-ef445afdc649",
   "metadata": {},
   "outputs": [],
   "source": [
    "bc_dirichlet_object = BoundaryConditions.BoundaryConditions(mesh_object)\n",
    "bc_dirichlet_object.unit_cube_uniaxial_stretch(W)"
   ]
  },
  {
   "cell_type": "markdown",
   "id": "07d0a852-0156-4550-a031-115ce62cd27d",
   "metadata": {},
   "source": [
    "## Weak Form"
   ]
  },
  {
   "cell_type": "code",
   "execution_count": 13,
   "id": "565456ed-7219-46f8-8741-3a2c97c8e12a",
   "metadata": {},
   "outputs": [],
   "source": [
    "# Some continuum quantities\n",
    "dim = u.ufl_domain().geometric_dimension()\n",
    "I = dolfin.Identity(dim)\n",
    "F = I + dolfin.grad(u)\n",
    "J = dolfin.det(F) \n",
    "E = 0.5*(F.T*F - I)\n",
    "C = F.T*F"
   ]
  },
  {
   "cell_type": "markdown",
   "id": "e31488f3-804f-4a11-8b3e-8d47718d6433",
   "metadata": {},
   "source": [
    "### Passive Strain Energy Function \n",
    "\n",
    "I'm borrowing from one of my constrained mixture notebooks to show what it could look like to have various materials classes to choose from. "
   ]
  },
  {
   "cell_type": "code",
   "execution_count": 13,
   "id": "c105e095-38ae-4ee2-a261-01b851dccc97",
   "metadata": {},
   "outputs": [],
   "source": [
    "# Create a dictionary (that would come from a user-created instruction file\n",
    "# With a little modification to the materials file, you can create fiber, isotropic, and guccione materials\n",
    "init_muscle_params = {\n",
    "    \"material_type\": [\"GuccioneMaterial\"],\n",
    "    \"material_name\": [\"Muscle\"],\n",
    "    \"c\": [0.26, \"kPa\"],\n",
    "    \"bf\": [1.58, \"response in fiber direction\"],\n",
    "    \"bfx\": [1.627, \"fiber/cross-fiber shear response\"],\n",
    "    \"bx\": [1.0, \"response in cross-fiber direction\"],\n",
    "    \"mesh_object\": [mesh_object],\n",
    "    \"dx\": [mesh_object.dx]\n",
    "    }\n",
    "\n",
    "# Group the local coordinate system for muscle into a list (in right-hand order)\n",
    "local_coordinate_system = [f0,s0,n0]\n",
    "\n",
    "# Define the method, this can be generalized based on the number of materials\n",
    "# Something like create a list of materials instances, loop through init parameters\n",
    "materials_list = []\n",
    "num_materials = 1\n",
    "for i in np.arange(num_materials):\n",
    "    material_type = \"GuccioneMaterial\" # in general, get from instruction file or something\n",
    "    met = getattr(materials,material_type)\n",
    "    materials_list.append(met(init_muscle_params, local_coordinate_system, F)) #init_muscle_params, local_coordinate system unique to material, come from file"
   ]
  },
  {
   "cell_type": "code",
   "execution_count": 24,
   "id": "c0622239-100d-4a06-9428-3e89b98a6009",
   "metadata": {},
   "outputs": [],
   "source": [
    "# p is the hydrostatic pressure (lagrange multiplier to enforce incompressibility)\n",
    "W_incompressible = -p*(J - 1.0)\n",
    "\n",
    "W_passive = 0.0\n",
    "\n",
    "# Now each materials instance has its own strain energy function, and methods to calculate stresses\n",
    "for constituent in materials_list:\n",
    "    W_passive += constituent.sef"
   ]
  },
  {
   "cell_type": "markdown",
   "id": "80485055-66e8-42e3-952d-bbacd5f662f2",
   "metadata": {},
   "source": [
    "_<mark style=\"color: white; background-color:blue\"> \\<MyoSim addition> </mark>_\n",
    "    \n",
    "### Active Stress Calculation "
   ]
  },
  {
   "cell_type": "markdown",
   "id": "fff370c8-d3a5-4022-9391-04946ad9596b",
   "metadata": {},
   "source": [
    "Let's define the half-sarcomere length function.\n",
    "\n",
    "First, define the stretch in the fiber direction"
   ]
  },
  {
   "cell_type": "code",
   "execution_count": 15,
   "id": "8cb8bb36-ceed-484f-a508-b0992e3c5c2c",
   "metadata": {},
   "outputs": [],
   "source": [
    "alpha_f = dolfin.sqrt(dolfin.dot(f0, C*f0))"
   ]
  },
  {
   "cell_type": "code",
   "execution_count": 16,
   "id": "e3d25444-1563-4e16-8156-daa98876d43f",
   "metadata": {},
   "outputs": [],
   "source": [
    "hsl = alpha_f*hsl0 # Creation of hsl function here\n",
    "# Quick exercise:  What type is hsl? Does it have a .vector() attribute? What happens when you try to access it?\n",
    "#dolfin.project(hsl,QuadFS)"
   ]
  },
  {
   "cell_type": "markdown",
   "id": "a2b644ee-ecb7-4c9e-8216-640c920da32d",
   "metadata": {},
   "source": [
    "Let's pause for a moment and consider hsl. Use the below cell to try to access the hsl vector (uncomment the code and run):"
   ]
  },
  {
   "cell_type": "code",
   "execution_count": null,
   "id": "a01929c4-ebc9-4f21-a049-53be7b9b06ca",
   "metadata": {},
   "outputs": [],
   "source": [
    "#print(hsl.vector())"
   ]
  },
  {
   "cell_type": "markdown",
   "id": "bf109c3f-5cd5-4783-a611-f306607b6f01",
   "metadata": {},
   "source": [
    "This is an interesting thing in FEniCS. We've defined a mathematical relationship where hsl is a product of the stretch, and the initial half-sarcomere length. When trying to access the vector of hsl values, there will be an error. Hsl is a UFL product object, not a dolfin Function.\n",
    "\n",
    "This part is less clear to me, but something on the FEniCS back end takes the UFL objects and translates them to useable code. However, if we want to use hsl like any other finite element function, we need to associate it with a function space. We will do this with a projection onto the quadrature space. "
   ]
  },
  {
   "cell_type": "code",
   "execution_count": 25,
   "id": "84298ffc-0b4c-4832-8adc-996981c3ee21",
   "metadata": {},
   "outputs": [],
   "source": [
    "hsl_array = dolfin.project(hsl, QuadFS).vector().get_local()[:]\n",
    "\n",
    "delta_hsl = hsl - hsl_old #and creation of delta_hsl function here\n",
    "delta_hsl_array = dolfin.project(delta_hsl,QuadFS).vector().get_local()"
   ]
  },
  {
   "cell_type": "markdown",
   "id": "703e7085-8c81-4e4e-9a09-37f61e3eb06b",
   "metadata": {},
   "source": [
    "Below is the active stress calculation. This definition of the Pactive tensor is what allows the Newton Solver to calculate updated active stresses. The y_vec function containing the cross-bridge calculations is updated by MyoSim, and the quantity dxx is affected by changes in half-sarcomere length. The calculation of dxx effectively displaces the cross-bridge links and updates the active stress accordingly:"
   ]
  },
  {
   "cell_type": "code",
   "execution_count": 25,
   "id": "917ce24e-7b6d-4ccc-8061-ffc50be7a5c8",
   "metadata": {},
   "outputs": [],
   "source": [
    "y_vec_split = dolfin.split(y_vec) # split y_vec into its subspaces (which for us represent myosim states)\n",
    "\n",
    "cb_force = dolfin.Constant(0.0)\n",
    "\n",
    "for jj in range(no_of_states):\n",
    "    \n",
    "    f_holder = dolfin.Constant(0.0)\n",
    "    temp_holder = 0.0\n",
    "\n",
    "    if state_attached[jj] == 1:\n",
    "        cb_ext = cb_extensions[jj]\n",
    "\n",
    "        for kk in range(no_of_x_bins):\n",
    "            dxx = xx[kk] + delta_hsl*filament_compliance_factor\n",
    "            n_pop = y_vec_split[n_vector_indices[jj][0] + kk] # going through the attached states, discretized into \"bins\"\n",
    "            temp_holder = n_pop * k_cb_multiplier[jj] * (dxx + cb_ext) * dolfin.conditional(dolfin.gt(dxx + cb_ext,0.0), k_cb_pos, k_cb_neg)\n",
    "            f_holder = f_holder + temp_holder\n",
    "\n",
    "        f_holder = f_holder * cb_number_density * 1e-9\n",
    "        f_holder = f_holder * alpha_value\n",
    "\n",
    "    cb_force = cb_force + f_holder\n",
    "\n",
    "#Pactive = cb_force * dolfin.as_tensor(f0[m]*f0[k], (m,k))+ xfiber_fraction*cb_force * dolfin.as_tensor(s0[m]*s0[k], (m,k))+ xfiber_fraction*cb_force * dolfin.as_tensor(n0[m]*n0[k], (m,k))\n",
    "Pactive = cb_force * dolfin.outer(f0,f0) + xfiber_fraction*cb_force*dolfin.outer(s0,s0) + xfiber_fraction*cb_force*dolfin.outer(n0,n0)\n",
    "# f0, s0, n0 are stored in a global coordinate system, thus Pactive is a global tensor.\n",
    "\n",
    "cb_f_array = dolfin.project(cb_force, QuadFS).vector().get_local()[:]"
   ]
  },
  {
   "cell_type": "markdown",
   "id": "9b1867b6-53c3-476c-a0ba-f9e2e79c4b43",
   "metadata": {},
   "source": [
    "We need a derivation of the weak form to better understand some of the terms below:"
   ]
  },
  {
   "cell_type": "code",
   "execution_count": 18,
   "id": "eabb96e8-38d5-4bec-88a6-9f81c6fd8282",
   "metadata": {},
   "outputs": [],
   "source": [
    "F_active = dolfin.inner(F*Pactive, dolfin.grad(v))*mesh_object.dx\n",
    "F_passive = dolfin.derivative(W_passive, w, wtest)*mesh_object.dx\n",
    "F_incompressible = dolfin.derivative(W_incompressible, w, wtest)*mesh_object.dx\n",
    "\n",
    "Ftotal = F_passive + F_incompressible + F_active\n",
    "\n",
    "# Jacobian for linearization\n",
    "Jac_active = dolfin.derivative(F_active, w, dw)\n",
    "Jac_passive_body = dolfin.derivative(F_passive, w, dw)\n",
    "Jac_incompressible = dolfin.derivative(F_incompressible, w, dw)\n",
    "\n",
    "Jac_total = Jac_passive_body + Jac_incompressible + Jac_active"
   ]
  },
  {
   "cell_type": "markdown",
   "id": "35a5b4cd-4c52-4e19-8fcb-246e406a4bb1",
   "metadata": {},
   "source": [
    "\n",
    "### Set up MyoSim"
   ]
  },
  {
   "cell_type": "markdown",
   "id": "b6cf186b-60f0-4ad6-a21d-5e378dd68d97",
   "metadata": {},
   "source": [
    "We are going to keep things homogeneous here.\n",
    "\n",
    "We will create an instance of the half-sarcomere class, that includes all of the MyoSim machinery.\n",
    "\n",
    "We will pass it in the current calcium, current hsl, current populations, and delta_hsl from the previous Newton Solver\n",
    "\n"
   ]
  },
  {
   "cell_type": "code",
   "execution_count": 20,
   "id": "f982f962-ee86-42eb-b839-4317a4e75dd8",
   "metadata": {},
   "outputs": [
    {
     "name": "stdout",
     "output_type": "stream",
     "text": [
      "[-10.  -9.  -8.  -7.  -6.  -5.  -4.  -3.  -2.  -1.   0.   1.   2.   3.\n",
      "   4.   5.   6.   7.   8.   9.  10.]\n",
      "0.0\n",
      "hs_force: -274.415149\n"
     ]
    }
   ],
   "source": [
    "# initialize our half-sarcomere instance\n",
    "hs = half_sarcomere.half_sarcomere(hs_params,1)"
   ]
  },
  {
   "cell_type": "code",
   "execution_count": 21,
   "id": "35c32d91-6b22-4ed3-86bc-6bb1c595ba88",
   "metadata": {},
   "outputs": [],
   "source": [
    "# Now we need a calcium transient. For now, let's just do constant calcium/activation\n",
    "ca = 1e-7\n",
    "sim_timestep = 1"
   ]
  },
  {
   "cell_type": "markdown",
   "id": "1b375193-75ca-4790-9e7d-501ebd8ba241",
   "metadata": {},
   "source": [
    "### Perturb and Solve"
   ]
  },
  {
   "cell_type": "code",
   "execution_count": 37,
   "id": "382fb212-f292-45df-8269-365d7f940443",
   "metadata": {
    "tags": []
   },
   "outputs": [
    {
     "name": "stdout",
     "output_type": "stream",
     "text": [
      "0\n"
     ]
    },
    {
     "ename": "AttributeError",
     "evalue": "'Sum' object has no attribute 'vector'",
     "output_type": "error",
     "traceback": [
      "\u001b[0;31m---------------------------------------------------------------------------\u001b[0m",
      "\u001b[0;31mAttributeError\u001b[0m                            Traceback (most recent call last)",
      "\u001b[0;32m<ipython-input-37-4c7f9b37c7ce>\u001b[0m in \u001b[0;36m<module>\u001b[0;34m\u001b[0m\n\u001b[1;32m     46\u001b[0m     \u001b[0;31m# Could go ahead and interpolate the cross-bridges according to this delta_hsl\u001b[0m\u001b[0;34m\u001b[0m\u001b[0;34m\u001b[0m\u001b[0;34m\u001b[0m\u001b[0m\n\u001b[1;32m     47\u001b[0m     \u001b[0;31m# but it's done within the implement function above before updating kinetics\u001b[0m\u001b[0;34m\u001b[0m\u001b[0;34m\u001b[0m\u001b[0;34m\u001b[0m\u001b[0m\n\u001b[0;32m---> 48\u001b[0;31m     \u001b[0mdelta_hsl_array\u001b[0m\u001b[0;34m[\u001b[0m\u001b[0;34m:\u001b[0m\u001b[0;34m]\u001b[0m \u001b[0;34m=\u001b[0m \u001b[0mdelta_hsl\u001b[0m\u001b[0;34m.\u001b[0m\u001b[0mvector\u001b[0m\u001b[0;34m(\u001b[0m\u001b[0;34m)\u001b[0m\u001b[0;34m.\u001b[0m\u001b[0mget_local\u001b[0m\u001b[0;34m(\u001b[0m\u001b[0;34m)\u001b[0m\u001b[0;34m[\u001b[0m\u001b[0;34m:\u001b[0m\u001b[0;34m]\u001b[0m\u001b[0;34m\u001b[0m\u001b[0;34m\u001b[0m\u001b[0m\n\u001b[0m\u001b[1;32m     49\u001b[0m     \u001b[0;31m#delta_hsl_array[:] = hsl_array_old[:] - hsl_array[:]\u001b[0m\u001b[0;34m\u001b[0m\u001b[0;34m\u001b[0m\u001b[0;34m\u001b[0m\u001b[0m\n\u001b[1;32m     50\u001b[0m \u001b[0;34m\u001b[0m\u001b[0m\n",
      "\u001b[0;31mAttributeError\u001b[0m: 'Sum' object has no attribute 'vector'"
     ]
    }
   ],
   "source": [
    "temp_overlap = np.zeros(np.shape(hsl_array)[0]) # was looking at overlap previously\n",
    "y_interp = np.zeros(np.shape(y_vec_array)) # if saving a solution, need to perform an interpolation outside of myosim\n",
    "y_vec_array_new = np.zeros(np.shape(y_vec_array)) # save the solution from myosim\n",
    "\n",
    "for i in np.arange(num_timesteps):\n",
    "    \n",
    "    print(i)\n",
    "    if i < 11:\n",
    "        # Increment the displacement of the right face\n",
    "        bc_dirichlet_object.bc_expressions[\"right_displacement\"].ud_x += 0.02    \n",
    "    \n",
    "    # Store the hsl in hsl_old before solving for new displacement\n",
    "    hsl_array_old = hsl_array\n",
    "    hsl_old.vector()[:] = hsl_array_old[:]\n",
    "    \n",
    "    for j in np.arange(num_int_points[0]):\n",
    "        \n",
    "        # Solve for the cross-bridge populations in MyoSim\n",
    "        # Note, just using constant ca, and passing in hs_params, whereas for a heterogeneous mesh\n",
    "        # we would need unique hs_params for each integration point. I believe Hossein initiates\n",
    "        # num_int_points number of hs instances, each with their own parameters\n",
    "        \n",
    "        # Quick note: using passive force array i-1. Taking advantage of homogeneity of unit cube, and \n",
    "        # the fact that when i = 0, this will grab the last index in pk2_stress_history, which is zero,\n",
    "        # which holds true for time step 0 representing the reference configuration\n",
    "        temp_overlap[j], y_interp[j*n_array_length:(j+1)*n_array_length], y_vec_array_new[j*n_array_length:(j+1)*n_array_length] = implement.update_simulation(hs, sim_timestep, delta_hsl_array[j], hsl_array[j], y_vec_array[j*n_array_length:(j+1)*n_array_length], pk2_stress_history[i-1], cb_f_array[j], ca, n_array_length, t,hs_params)\n",
    "\n",
    "    # Update the populations\n",
    "    y_vec_array = y_vec_array_new\n",
    "    y_vec.vector()[:] = y_vec_array\n",
    "    # Since we gave ud to the boundary DirichletBC method earlier, and we are updating the ud object, we just have to solve our weak form\n",
    "    dolfin.solve(Ftotal == 0, w, bcs=bc_dirichlet_object.dirichlet_bcs, J=Jac_total,form_compiler_parameters={\"representation\":\"uflacs\"})\n",
    "\n",
    "    # Now that we have our displacement solution, we need to update some arrays that will be passed into\n",
    "    # myosim at the next time step.\n",
    "    \n",
    "    # Update the cross-bridge force (depends on final displacement from newton solver)\n",
    "    cb_f_array[:] = dolfin.project(cb_force, QuadFS).vector().get_local()[:]\n",
    "    \n",
    "    # hsl is automatically updated, based on displacement\n",
    "    # Get its array\n",
    "    hsl_array = dolfin.project(hsl, QuadFS).vector().get_local()[:]\n",
    "    \n",
    "    # Now we have the old hsl, and the new hsl after solving, can get delta_hsl\n",
    "    # which will be used in myosim next time.\n",
    "    # Could go ahead and interpolate the cross-bridges according to this delta_hsl\n",
    "    # but it's done within the implement function above before updating kinetics\n",
    "    delta_hsl_array[:] = hsl_array_old[:] - hsl_array[:]\n",
    "\n",
    "    # Make sure the myofibers don't experience compression\n",
    "    #for ii in range(np.shape(hsl_array)[0]):\n",
    "    #    if p_f_array[ii] < 0.0:\n",
    "    #        p_f_array[ii] = 0.0\n",
    "    \n",
    "    # We also want to track the progression of the pk2 stress in the fiber direction during the displacement\n",
    "    pk2 = 0.0\n",
    "    for constituent in materials_list:\n",
    "        pk2 += materials_list[0].calculate_local_pk2_tensor_field(E)\n",
    "    pk2_prj = dolfin.project(dolfin.inner(f0,pk2*f0),dolfin.FunctionSpace(mesh_object.mesh, \"DG\", 1),form_compiler_parameters={\"representation\":\"uflacs\"})\n",
    "    pk2_int = dolfin.interpolate(pk2_prj,QuadFS)\n",
    "    pk2_stress_history[i] = pk2_int.vector().get_local()[0]\n",
    "    if pk2_stress_history[i] < 0.0:\n",
    "        pk2_stress_history[i] = 0.0\n",
    "        \n",
    "    # Not exactly how it's done in the main code, but the above function calculates passive stress in the fiber direction\n",
    "    # We need to check that it's not compressive before passing into myosim\n",
    "    # In the real code, we get the passive stress from the myofiber strain energy function\n",
    "\n",
    "    \n",
    "    # Let's also save the Green Lagrange strain in the fiber direction\n",
    "    eff_history[i] = dolfin.project(Eff,dolfin.FunctionSpace(mesh_object.mesh,\"CG\",1),form_compiler_parameters={\"representation\":\"uflacs\"}).vector().get_local()[0]\n",
    "    #print \"eff updated\"\n",
    "    \n",
    "    # Save active stress\n",
    "    active_stress_history[i] = cb_f_array[0] #grabbing one, since homogeneous\n",
    "    # Does this match the tensor we create?\n",
    "    print(active_stress_history[i])\n",
    "    \n",
    "    u, p = w.split()\n",
    "    # incompressibility in fiber direction\n",
    "    incomp_stress_history[i] = dolfin.project(dolfin.inner(f0,(-p*dolfin.inv(C))*f0),QuadFS).vector().get_local()[0]\n",
    "    \n",
    "    # Let's now calculate the active stress in the fiber direction, project to a function space, and save for visualization\n",
    "    pactive_f0 = dolfin.project(dolfin.inner(f0,Pactive*f0),dolfin.FunctionSpace(mesh_object.mesh,\"DG\",1))\n",
    "    pactive_f0.rename(\"pactive_f0\",\"pactive_f0\") # So paraview knows this is the same thing each time step\n",
    "    output_file.write(pactive_f0,i)\n",
    "    # Save deformation\n",
    "    output_file.write(w.sub(0),i)\n",
    "    \n",
    "# close output file\n",
    "output_file.close()"
   ]
  },
  {
   "cell_type": "markdown",
   "id": "e5a1ea93-e222-4eb1-a5c5-953037cb5549",
   "metadata": {},
   "source": [
    "### Visualization"
   ]
  },
  {
   "cell_type": "code",
   "execution_count": 23,
   "id": "08dff06e-6856-4db3-8cbe-9f200c6f8693",
   "metadata": {},
   "outputs": [
    {
     "data": {
      "text/plain": [
       "Text(0.5, 1.0, 'Incompressibility\\nStress')"
      ]
     },
     "execution_count": 23,
     "metadata": {},
     "output_type": "execute_result"
    },
    {
     "data": {
      "image/png": "[encoded data removed]",
      "text/plain": [
       "<Figure size 720x216 with 3 Axes>"
      ]
     },
     "metadata": {
      "needs_background": "light"
     },
     "output_type": "display_data"
    }
   ],
   "source": [
    "fig, axs = plt.subplots(1,3)\n",
    "axs[0].plot(t[0:num_timesteps],pk2_stress_history)\n",
    "axs[0].set_xlabel('Eff')\n",
    "axs[0].set_title('PK2 Fiber\\n(kPa)')\n",
    "\n",
    "axs[1].plot(t[0:num_timesteps],active_stress_history)\n",
    "axs[1].set_xlabel('Time')\n",
    "axs[1].set_title('Active\\nStress\\n(Pa)')\n",
    "\n",
    "axs[2].plot(t[0:num_timesteps],incomp_stress_history)\n",
    "axs[2].set_xlabel('Time')\n",
    "axs[2].set_title('Incompressibility\\nStress')"
   ]
  },
  {
   "cell_type": "markdown",
   "id": "a2ed9acd-0008-4363-85c0-086e1237e3d2",
   "metadata": {},
   "source": [
    "Some notes:\n",
    "- Quadrature element implementation seems to be a finnicky thing in FEniCS. It seems to really depend on this form compiler option. The old representation is \"quadrature\". This takes up a lot of memory, but I think it can support more complex tensor operations as compared to \"uflacs\". \"uflacs\" is MUCH quicker, and if you can use it I think you should. However, support for \"quadrature\" does not last past 2018.1.0, hence us using one of the older versions. There may be a new option called \"teflcs\" in 2019.1.0, but I haven't explored this."
   ]
  },
  {
   "cell_type": "code",
   "execution_count": null,
   "id": "60d43e5f-548b-4710-8090-8d823cb24bb6",
   "metadata": {},
   "outputs": [],
   "source": []
  },
  {
   "cell_type": "code",
   "execution_count": null,
   "id": "301f7e71-01ae-4d51-9f1c-67a8c57790f6",
   "metadata": {},
   "outputs": [],
   "source": []
  }
 ],
 "metadata": {
  "kernelspec": {
   "display_name": "Python 2",
   "language": "python",
   "name": "python2"
  },
  "language_info": {
   "codemirror_mode": {
    "name": "ipython",
    "version": 3
   },
   "file_extension": ".py",
   "mimetype": "text/x-python",
   "name": "python",
   "nbconvert_exporter": "python",
   "pygments_lexer": "ipython3",
   "version": "3.6.7"
  }
 },
 "nbformat": 4,
 "nbformat_minor": 5
}
