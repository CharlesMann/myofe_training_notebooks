{
 "cells": [
  {
   "cell_type": "markdown",
   "id": "ea2a0db7-e864-4066-98d0-752110fe86df",
   "metadata": {},
   "source": [
    "CMM 9: 2 Constituent, Mass Increase, Evolving Reference Configurations (G = homeostatic)\n",
    "---"
   ]
  },
  {
   "cell_type": "markdown",
   "id": "de3cbbef-4b6b-40cf-8364-77a123dade8f",
   "metadata": {},
   "source": [
    "This notebook shows a uniaxial version of the Witzenburg & Holmes simulation. Here, mass is allowed to vary and new material is deposited at its preferred state.\n",
    "\n",
    "\n",
    "First, import some things."
   ]
  },
  {
   "cell_type": "code",
   "execution_count": 1,
   "id": "00ada9b0-29cd-4562-8f43-dcf085b611f2",
   "metadata": {},
   "outputs": [],
   "source": [
    "import numpy as np\n",
    "import matplotlib.pyplot as plt\n",
    "from collections import deque\n",
    "import dolfin\n",
    "import ufl\n",
    "import math as math\n",
    "import fenics_plotly\n",
    "import pulse\n",
    "import initialize_boundary_conditions\n",
    "import Constituent\n",
    "\n",
    "fenics_plotly.set_renderer(\"iframe\")\n",
    "dolfin.parameters[\"form_compiler\"][\"quadrature_degree\"] = 2\n",
    "i, j = ufl.indices(2)\n"
   ]
  },
  {
   "cell_type": "markdown",
   "id": "c17e83e5-1c43-4224-8901-373ad8bd2b33",
   "metadata": {},
   "source": [
    "Set up the output file:"
   ]
  },
  {
   "cell_type": "code",
   "execution_count": 2,
   "id": "e3710147-4840-4b24-9a95-e39f7fa478f1",
   "metadata": {},
   "outputs": [],
   "source": [
    "output_dir = 'cmm_nb_9_output/'\n",
    "output_file = dolfin.XDMFFile(output_dir + 'output_data.xdmf')\n",
    "output_file.parameters.update({\"functions_share_mesh\": True})\n",
    "\n",
    "body_mass_history = np.zeros(1000)\n",
    "cauchy_stress_history = np.zeros(1000)\n",
    "pk2_history = np.zeros(1000)\n",
    "cohort_count = np.zeros(1000)"
   ]
  },
  {
   "cell_type": "markdown",
   "id": "2cadb098-0fe1-44f4-98cc-21dae5932956",
   "metadata": {},
   "source": [
    "Just using a unit cube mesh for simplicity here"
   ]
  },
  {
   "cell_type": "code",
   "execution_count": 3,
   "id": "4d86ad4a-04fa-4767-b0ca-248d91c4393d",
   "metadata": {},
   "outputs": [],
   "source": [
    "mesh = dolfin.UnitCubeMesh(1,1,1)"
   ]
  },
  {
   "cell_type": "markdown",
   "id": "4f104fa0-fd0e-4759-bba4-ff45423deb6f",
   "metadata": {},
   "source": [
    "Setting up the local coordinate system for this constituent. In general they will need to be dolfin functions, but here they just coincide with the Cartesian coordinates"
   ]
  },
  {
   "cell_type": "code",
   "execution_count": 4,
   "id": "e8107375-7414-48d3-aee7-603cfa604795",
   "metadata": {},
   "outputs": [],
   "source": [
    "f0 = dolfin.Constant((1.0, 0.0, 0.0))\n",
    "s0 = dolfin.Constant((0.0, 1.0, 0.0))\n",
    "n0 = dolfin.Constant((0.0, 0.0, 1.0))\n",
    "local_coordinate_system = [f0, s0, n0]"
   ]
  },
  {
   "cell_type": "markdown",
   "id": "c9d12953-5d05-4b7f-98b6-89d7c939e438",
   "metadata": {},
   "source": [
    "Set up tensor function space for pre-stretch tensors (G from the literature)"
   ]
  },
  {
   "cell_type": "code",
   "execution_count": 5,
   "id": "f20d8693-9d2b-4bc6-8883-11ece04f3dae",
   "metadata": {},
   "outputs": [],
   "source": [
    "G_space = dolfin.TensorFunctionSpace(mesh, \"DG\", 1)"
   ]
  },
  {
   "cell_type": "markdown",
   "id": "911bdcf6-3dad-4962-b629-adbc3c690958",
   "metadata": {},
   "source": [
    "Now the elements and spaces for our problem"
   ]
  },
  {
   "cell_type": "code",
   "execution_count": 6,
   "id": "3833141a-3faa-4d63-8871-52edc58b9bce",
   "metadata": {},
   "outputs": [],
   "source": [
    "# For displacement\n",
    "Velem = dolfin.VectorElement(\n",
    "    \"CG\", mesh.ufl_cell(), degree=2, quad_scheme=\"default\")\n",
    "\n",
    "# For hydrostatic pressure (enforcing incompressibility)\n",
    "Qelem = dolfin.FiniteElement(\"CG\", mesh.ufl_cell(), 1, quad_scheme=\"default\")\n",
    "\n",
    "# Mixed element\n",
    "W = dolfin.FunctionSpace(mesh, dolfin.MixedElement([Velem, Qelem]))\n",
    "\n",
    "# For the weak form\n",
    "w = dolfin.Function(W)\n",
    "dw = dolfin.TrialFunction(W)\n",
    "wtest = dolfin.TestFunction(W)\n",
    "\n",
    "du, dp = dolfin.TrialFunctions(W)\n",
    "u, p = dolfin.split(w)\n",
    "v, q = dolfin.TestFunctions(W)"
   ]
  },
  {
   "cell_type": "markdown",
   "id": "07549e9a-86a5-43d5-972c-154b5335847c",
   "metadata": {},
   "source": [
    "Set up the boundary conditions. For this problem, we are enforcing a displacement on the right face of the cube, but are not fixing the entire left face. This allows for homogeneous deformation due to the Poisson effect"
   ]
  },
  {
   "cell_type": "code",
   "execution_count": 7,
   "id": "bd5a53e2-d5f5-4a42-ae2f-577d52fb1401",
   "metadata": {},
   "outputs": [],
   "source": [
    "dirichlet_bcs, right_displacement, N, dx, ds = initialize_boundary_conditions.unit_cube_uniaxial_isometric_bcs(mesh, W)"
   ]
  },
  {
   "cell_type": "markdown",
   "id": "3627961f-3ae9-48b6-9a2d-a55f61a201e6",
   "metadata": {},
   "source": [
    "dirichlet_bcs: list of dirichlet boundary conditions  \n",
    "right_displacement: dolfin expression used to specify displacement of the right face  \n",
    "N: FacetNormal of mesh  \n",
    "dx:  dolfin measure for volume integration  \n",
    "ds:  dolfin measure for surface integration  \n"
   ]
  },
  {
   "cell_type": "code",
   "execution_count": 8,
   "id": "39cc084e-6a36-4974-a2c2-f8e504d75cd9",
   "metadata": {},
   "outputs": [],
   "source": [
    "num_constituents = 2\n",
    "body = [None]*num_constituents"
   ]
  },
  {
   "cell_type": "markdown",
   "id": "a323d8c2-4a17-4425-8008-01b0e4c4a1ea",
   "metadata": {},
   "source": [
    "Arbitrarily choosing the deformation that represents the homeostatic state of this body. This will be the pre-stretch that new material is deposited with. This is assuming the new material has the same reference configuration as the original body"
   ]
  },
  {
   "cell_type": "code",
   "execution_count": 9,
   "id": "46cc344a-9eb0-403a-b9e8-89a4dab17b4c",
   "metadata": {},
   "outputs": [],
   "source": [
    "# Baseline stretch at ED is 1.44\n",
    "# Baseline at ES is 1.12\n",
    "# Growing at ED, so need G to match this\n",
    "muscle_pre_stretch = 1.44\n",
    "muscle_poisson_stretch = 1./(math.sqrt(muscle_pre_stretch))\n",
    "M1 = dolfin.as_tensor(f0[i]*f0[j], (i, j))\n",
    "M2 = dolfin.as_tensor(s0[i]*s0[j], (i, j))\n",
    "M3 = dolfin.as_tensor(n0[i]*n0[j], (i, j))\n",
    "\n",
    "G_muscle = muscle_pre_stretch*(M1) + muscle_poisson_stretch*(M2+M3)\n",
    "G_elastin = muscle_pre_stretch*(M1) + muscle_poisson_stretch*(M2+M3) #doesn't matter, elastin isn't growing\n",
    "\n",
    "ED_baseline = 1.44\n",
    "ED_PO = 1.48\n",
    "ED_VO = 1.51\n",
    "\n",
    "ES_baseline = 1.12\n",
    "ES_PO = 1.20\n",
    "ES_VO = 1.09"
   ]
  },
  {
   "cell_type": "markdown",
   "id": "d15b4eab-1ea4-41d5-ba70-cc716735fe4d",
   "metadata": {},
   "source": [
    "Unit cube, so we know the initial volume. Set body's initial density. This is assumed to remain constant even through growth and remodeling"
   ]
  },
  {
   "cell_type": "code",
   "execution_count": 10,
   "id": "0024c563-ad8f-4de1-b17a-b76db06d3789",
   "metadata": {},
   "outputs": [],
   "source": [
    "body_vol0 = 1.0\n",
    "body_rho = 1.0\n",
    "body_mass0 = body_rho * body_vol0\n",
    "body_mass_history[0] = body_mass0\n",
    "cauchy_stress_history[0] = 0.0"
   ]
  },
  {
   "cell_type": "markdown",
   "id": "9c589235-1fca-4ec6-950d-d53e932ee17f",
   "metadata": {},
   "source": [
    "One constituent, so it is 100% of the material"
   ]
  },
  {
   "cell_type": "code",
   "execution_count": 11,
   "id": "d8444e78-2f80-4b51-ab8f-13f20978c484",
   "metadata": {},
   "outputs": [],
   "source": [
    "muscle_phi = 0.7\n",
    "muscle_mass0 = muscle_phi*body_mass0\n",
    "elastin_phi = 0.3\n",
    "elastin_mass0 = elastin_phi*body_mass0"
   ]
  },
  {
   "cell_type": "markdown",
   "id": "d721eb79-650f-4d32-9575-76d352d0bb91",
   "metadata": {},
   "source": [
    "Create a dictionary of parameters for the initialization of the muscle constituent"
   ]
  },
  {
   "cell_type": "code",
   "execution_count": 12,
   "id": "c4772375-8664-4ac6-8d7e-8bce577e9dac",
   "metadata": {},
   "outputs": [],
   "source": [
    "init_muscle_params = {\n",
    "    \"material_type\": [\"GuccioneMaterial\"],\n",
    "    \"material_name\": [\"Muscle\"],\n",
    "    \"removal_mass_threshold\": [0.00009, \"relative mass density at which cohorts are removed. Setting low to keep most material for now\"],\n",
    "    \"c\": [0.26, \"kPa\"],\n",
    "    \"bf\": [1.58, \"response in fiber direction\"],\n",
    "    \"bfx\": [1.627, \"fiber/cross-fiber shear response\"],\n",
    "    \"bx\": [1.0, \"response in cross-fiber direction\"],\n",
    "    \"phi\": [muscle_phi, \"volume fraction of muscle\"],\n",
    "    \"mass0\": [muscle_mass0],\n",
    "    \"G\": [G_muscle, \"preferred stretch for constituent wrt its local coordinate system\"],\n",
    "    \"mesh\": [mesh],\n",
    "    \"dx\": [dx],\n",
    "    \"mass_production_fcn\": [\"stress_based_sigmoidal\"],\n",
    "    \"mass_production_fcn_params\": {\n",
    "        \"basal_rate\": [0.6, \"proportion addition of new material\"],\n",
    "        \"beta\": [-1.5, \"set steepness of mass production response\"],\n",
    "        \"stimulus_direction\": [0, \"index of local coordinate system for mass production stimulus\"]\n",
    "        },\n",
    "    \"survival_fcn\": [\"geometric_decay_survival\"],\n",
    "    \"survival_fcn_params\": {\n",
    "        \"r\": [dolfin.Constant(0.4), \"proportion of cohorts that remain after removal. For homeostasis, = 1-basal\"]\n",
    "        }\n",
    "    }\n",
    "\n",
    "init_elastin_params = {\n",
    "    \"material_type\": [\"IsotropicMaterial\"],\n",
    "    \"material_name\": [\"Elastin\"],\n",
    "    \"removal_mass_threshold\": [0.00001, \"relative mass density at which cohorts are removed\"],\n",
    "    \"c1\": [0.260, \"kPa\"],\n",
    "    \"phi\": [elastin_phi, \"volume fraction of muscle\"],\n",
    "    \"mass0\": [elastin_mass0],\n",
    "    #\"m0\": [0.3, \"initial mass density\"],\n",
    "    \"G\": [G_elastin, \"preferred stretch for constituent, is actually a tensor, this is for preferred direction of transverse isotropy\"],\n",
    "    \"mesh\": [mesh],\n",
    "    \"dx\": [dx],\n",
    "    \"mass_production_fcn\": [\"constant_mass_production\", \"need a better way to do this eventually\"],\n",
    "    \"mass_production_fcn_params\": {\n",
    "        \"increment\": [0.0, \"for now, no units\"],\n",
    "        \"set_point\": [dolfin.Constant(0.266189), \"kPa at baseline ED stretch\"],\n",
    "        \"basal_rate\": [0.0],\n",
    "        \"beta\": [-1.0, \"set steepness of mass production response\"],\n",
    "        \"stimulus_direction\": [1]\n",
    "        },\n",
    "    \"survival_fcn\": [\"geometric_decay_survival\"],\n",
    "    \"survival_fcn_params\": {\n",
    "        \"r\": [dolfin.Constant(1.0)]\n",
    "        }\n",
    "}"
   ]
  },
  {
   "cell_type": "markdown",
   "id": "d751c7bf-1654-4b05-ba55-7dafa8367513",
   "metadata": {},
   "source": [
    "Set up some kinematic quantities"
   ]
  },
  {
   "cell_type": "code",
   "execution_count": 13,
   "id": "a0fdd952-79db-4b85-bcc5-87bfd21e975f",
   "metadata": {},
   "outputs": [],
   "source": [
    "dim = u.ufl_domain().geometric_dimension()\n",
    "I = dolfin.Identity(dim)\n",
    "F_body = I + dolfin.grad(u)\n",
    "E_body = 0.5*(F_body.T*F_body - I)\n",
    "J_body = dolfin.det(F_body)"
   ]
  },
  {
   "cell_type": "markdown",
   "id": "6e2385cd-45c9-4049-abd9-1ddcb90b959c",
   "metadata": {},
   "source": [
    "Initialize a constituent"
   ]
  },
  {
   "cell_type": "code",
   "execution_count": 14,
   "id": "8d1a76fc-0c1f-43eb-990c-4a2001707b61",
   "metadata": {},
   "outputs": [],
   "source": [
    "muscle = Constituent.Constituent(init_muscle_params, local_coordinate_system, F_body)\n",
    "elastin = Constituent.Constituent(init_elastin_params, local_coordinate_system, F_body)"
   ]
  },
  {
   "cell_type": "code",
   "execution_count": 15,
   "id": "624cc2e6-793c-473c-9e6f-ec18fe3d0d39",
   "metadata": {},
   "outputs": [],
   "source": [
    "cauchytemp, pk2temp, cur_local_coordstemp = elastin.cohorts[0].calculate_local_cauchy_stress_field(F_body)"
   ]
  },
  {
   "cell_type": "code",
   "execution_count": 16,
   "id": "1b569b2b-378b-471d-9a0c-ec8eb824cf47",
   "metadata": {},
   "outputs": [
    {
     "data": {
      "text/plain": [
       "'#print(dolfin.project(cauchytemp,dolfin.TensorFunctionSpace(mesh,\"DG\",1)).vector().get_local())\\nI = dolfin.Identity(3)\\nF_cohort_temp = F_body*dolfin.inv(elastin.cohorts[0].F_cohort0)*elastin.cohorts[0].G\\nE_cohort_temp = dolfin.variable(0.5*(F_cohort_temp.T*F_cohort_temp - I))\\nJ_cohort = dolfin.det(F_cohort_temp)\\n\\n# Calculate Pk2\\nC_temp = dolfin.variable(2.0*E_cohort_temp) + dolfin.Identity(3)\\n#C_temp = dolfin.variable(F_cohort_temp.T*F_cohort_temp)\\nI1_temp = (dolfin.tr(C_temp))\\nW_temp =(0.5)*(I1_temp - 3.0)\\n\\ntemp_pk2=dolfin.diff(W_temp,E_cohort_temp)\\nprint(dolfin.project(W_temp,dolfin.FunctionSpace(mesh,\"DG\",1)).vector().get_local())\\nprint(dolfin.project(temp_pk2,dolfin.TensorFunctionSpace(mesh,\"DG\",1)).vector().get_local())\\n\\ntemp = -p*dolfin.inv(C_temp)\\nprint(dolfin.project(temp,dolfin.TensorFunctionSpace(mesh,\"DG\",1)).vector().get_local())'"
      ]
     },
     "execution_count": 16,
     "metadata": {},
     "output_type": "execute_result"
    }
   ],
   "source": [
    "\"\"\"#print(dolfin.project(cauchytemp,dolfin.TensorFunctionSpace(mesh,\"DG\",1)).vector().get_local())\n",
    "I = dolfin.Identity(3)\n",
    "F_cohort_temp = F_body*dolfin.inv(elastin.cohorts[0].F_cohort0)*elastin.cohorts[0].G\n",
    "E_cohort_temp = dolfin.variable(0.5*(F_cohort_temp.T*F_cohort_temp - I))\n",
    "J_cohort = dolfin.det(F_cohort_temp)\n",
    "\n",
    "# Calculate Pk2\n",
    "C_temp = dolfin.variable(2.0*E_cohort_temp) + dolfin.Identity(3)\n",
    "#C_temp = dolfin.variable(F_cohort_temp.T*F_cohort_temp)\n",
    "I1_temp = (dolfin.tr(C_temp))\n",
    "W_temp =(0.5)*(I1_temp - 3.0)\n",
    "\n",
    "temp_pk2=dolfin.diff(W_temp,E_cohort_temp)\n",
    "print(dolfin.project(W_temp,dolfin.FunctionSpace(mesh,\"DG\",1)).vector().get_local())\n",
    "print(dolfin.project(temp_pk2,dolfin.TensorFunctionSpace(mesh,\"DG\",1)).vector().get_local())\n",
    "\n",
    "temp = -p*dolfin.inv(C_temp)\n",
    "print(dolfin.project(temp,dolfin.TensorFunctionSpace(mesh,\"DG\",1)).vector().get_local())\"\"\""
   ]
  },
  {
   "cell_type": "markdown",
   "id": "378f0d95-8f47-4701-b80a-60c83ea63d75",
   "metadata": {},
   "source": [
    "Assign the constituent to the body"
   ]
  },
  {
   "cell_type": "code",
   "execution_count": 17,
   "id": "088c3380-6d06-489a-9b66-c8057d7232df",
   "metadata": {},
   "outputs": [],
   "source": [
    "body[0] = muscle\n",
    "body[1] = elastin\n",
    "cohort_count[0] = np.shape(muscle.cohorts)[0]\n"
   ]
  },
  {
   "cell_type": "markdown",
   "id": "f61ab6c4-10e6-48c9-bd43-0901a77dce20",
   "metadata": {},
   "source": [
    "Calculate the initial body mass now that constituents exit"
   ]
  },
  {
   "cell_type": "code",
   "execution_count": 18,
   "id": "40141cb2-4945-446b-af8d-24dbc1108f96",
   "metadata": {},
   "outputs": [],
   "source": [
    "body_mass = 0.0\n",
    "for constituents in body:\n",
    "    body_mass += constituents.calculate_mass()\n",
    "    \n",
    "body_mass_history[0] = body_mass"
   ]
  },
  {
   "cell_type": "markdown",
   "id": "f5105387-1b41-4736-8e05-ce3065505dfc",
   "metadata": {},
   "source": [
    "Initialize strain energy functions for the weak form.  \n",
    "Start with initializing the strain energy function for the body. Depends on correct volume fraction of constituents, so mass must be summed first, and this must be done in a separate loop"
   ]
  },
  {
   "cell_type": "code",
   "execution_count": 19,
   "id": "f0537ed0-40e8-4730-b04a-336f47471db2",
   "metadata": {},
   "outputs": [],
   "source": [
    "body_sef = 0.0\n",
    "for constituents in body:\n",
    "    constituents.assign_cohort_phis_body(body_mass)\n",
    "    body_sef += constituents.sum_cohort_sefs(F_body)"
   ]
  },
  {
   "cell_type": "markdown",
   "id": "e1168134-4834-487e-b739-becd8d06390b",
   "metadata": {},
   "source": [
    "Update incompressibility contribution to strain energy function based on new mass. Enforces constant body density, so that increases in mass are accompanied by the same proportional increases in volume. New mass is added preferentially in directions of least stiffness. See DOI: 10.1007/s10237-018-1084-x"
   ]
  },
  {
   "cell_type": "code",
   "execution_count": 20,
   "id": "26588397-ad8d-4a32-b40d-0ddf27ab29eb",
   "metadata": {},
   "outputs": [],
   "source": [
    "sef_incompressible = -p*(J_body - body_mass/body_mass0)\n",
    "\n",
    "F_passive_body = dolfin.derivative(body_sef, w, wtest)*dx\n",
    "F_incompressible = dolfin.derivative(sef_incompressible, w, wtest)*dx\n",
    "Ftotal = F_passive_body + F_incompressible"
   ]
  },
  {
   "cell_type": "code",
   "execution_count": 21,
   "id": "778d777e-d088-4c50-8609-32fe93bdc9cb",
   "metadata": {},
   "outputs": [],
   "source": [
    "Jac_passive_body = dolfin.derivative(F_passive_body, w, dw)\n",
    "Jac_incompressible = dolfin.derivative(F_incompressible, w, dw)\n",
    "Jac_total = Jac_passive_body + Jac_incompressible"
   ]
  },
  {
   "cell_type": "markdown",
   "id": "2f6ce341-9aea-41f3-aa0a-bc2c8ae01bff",
   "metadata": {},
   "source": [
    "Solve the initial unloaded problem"
   ]
  },
  {
   "cell_type": "code",
   "execution_count": 22,
   "id": "e9249d63-a859-426c-a1db-73aa0e7917d7",
   "metadata": {},
   "outputs": [],
   "source": [
    "dolfin.solve(Ftotal == 0, w, bcs=dirichlet_bcs, J=Jac_total)\n",
    "\n",
    "counter = 1\n",
    "output_file.write(w.sub(0), counter)\n",
    "#counter += 1"
   ]
  },
  {
   "cell_type": "code",
   "execution_count": 23,
   "id": "5be63b2b-4e60-4021-b391-cbdd412e78f9",
   "metadata": {},
   "outputs": [
    {
     "data": {
      "text/plain": [
       "'#print(dolfin.project(cauchytemp,dolfin.TensorFunctionSpace(mesh,\"DG\",1)).vector().get_local())\\nI = dolfin.Identity(3)\\nF_cohort_temp = F_body*dolfin.inv(elastin.cohorts[0].F_cohort0)*elastin.cohorts[0].G\\nE_cohort_temp = dolfin.variable(0.5*(F_cohort_temp.T*F_cohort_temp - I))\\nJ_cohort = dolfin.det(F_cohort_temp)\\n\\n# Calculate Pk2\\nC_temp = dolfin.variable(2.0*E_cohort_temp) + dolfin.Identity(3)\\n#C_temp = dolfin.variable(F_cohort_temp.T*F_cohort_temp)\\nI1_temp = (dolfin.tr(C_temp))\\nW_temp =(0.5)*(I1_temp - 3.0)\\n\\ntemp_pk2=dolfin.diff(W_temp,E_cohort_temp)\\nprint(dolfin.project(W_temp,dolfin.FunctionSpace(mesh,\"DG\",1)).vector().get_local())\\nprint(dolfin.project(temp_pk2,dolfin.TensorFunctionSpace(mesh,\"DG\",1)).vector().get_local())\\n\\ntemp = -p*dolfin.inv(C_temp)\\nprint(dolfin.project(temp,dolfin.TensorFunctionSpace(mesh,\"DG\",1)).vector().get_local())'"
      ]
     },
     "execution_count": 23,
     "metadata": {},
     "output_type": "execute_result"
    }
   ],
   "source": [
    "\"\"\"#print(dolfin.project(cauchytemp,dolfin.TensorFunctionSpace(mesh,\"DG\",1)).vector().get_local())\n",
    "I = dolfin.Identity(3)\n",
    "F_cohort_temp = F_body*dolfin.inv(elastin.cohorts[0].F_cohort0)*elastin.cohorts[0].G\n",
    "E_cohort_temp = dolfin.variable(0.5*(F_cohort_temp.T*F_cohort_temp - I))\n",
    "J_cohort = dolfin.det(F_cohort_temp)\n",
    "\n",
    "# Calculate Pk2\n",
    "C_temp = dolfin.variable(2.0*E_cohort_temp) + dolfin.Identity(3)\n",
    "#C_temp = dolfin.variable(F_cohort_temp.T*F_cohort_temp)\n",
    "I1_temp = (dolfin.tr(C_temp))\n",
    "W_temp =(0.5)*(I1_temp - 3.0)\n",
    "\n",
    "temp_pk2=dolfin.diff(W_temp,E_cohort_temp)\n",
    "print(dolfin.project(W_temp,dolfin.FunctionSpace(mesh,\"DG\",1)).vector().get_local())\n",
    "print(dolfin.project(temp_pk2,dolfin.TensorFunctionSpace(mesh,\"DG\",1)).vector().get_local())\n",
    "\n",
    "temp = -p*dolfin.inv(C_temp)\n",
    "print(dolfin.project(temp,dolfin.TensorFunctionSpace(mesh,\"DG\",1)).vector().get_local())\"\"\""
   ]
  },
  {
   "cell_type": "markdown",
   "id": "71054cb6-0b4d-4a9d-b8c9-4d7f2fd3e8bc",
   "metadata": {},
   "source": [
    "Now everything is set up to stretch the cube and simulate tissue turnover. First, let's define a function to calculate and store cauchy stress in the fiber direction, along with the displacement solution"
   ]
  },
  {
   "cell_type": "code",
   "execution_count": 24,
   "id": "d8b581b9-16e5-4b35-b439-0ed2325ce701",
   "metadata": {},
   "outputs": [],
   "source": [
    "def record_body_stress_x_dir(mesh, body, F_body, output_file, counter):\n",
    "    \n",
    "    C_body = F_body.T*F_body\n",
    "    J_body = dolfin.det(F_body)\n",
    "    \n",
    "    cauchy_body = dolfin.Function(dolfin.TensorFunctionSpace(mesh,\"DG\",1))\n",
    "    pk2_body = dolfin.Function(dolfin.TensorFunctionSpace(mesh,\"DG\",1))\n",
    "    cauchy_body.vector()[:] = 0.0\n",
    "    pk2_body.vector()[:] = 0.0\n",
    "    \n",
    "    # MUST INCLUDE HYDROSTATIC PRESSURE\n",
    "    for constituents in body:\n",
    "        cauchy_stress_constituent = dolfin.Function(dolfin.TensorFunctionSpace(mesh,\"DG\",1))\n",
    "        cauchy_stress_constituent.vector()[:] = 0.0\n",
    "        pk2_stress_constituent = dolfin.Function(dolfin.TensorFunctionSpace(mesh,\"DG\",1))\n",
    "        pk2_stress_constituent.vector()[:] = 0.0\n",
    "            \n",
    "        for cohort in constituents.cohorts:\n",
    "            cauchy_cohort, pk2_cohort, local_coordinate_system = cohort.calculate_local_cauchy_stress_field(F_body)\n",
    "            cauchy_stress_constituent += cohort.phi*cauchy_cohort\n",
    "            pk2_stress_constituent += cohort.phi*pk2_cohort\n",
    "                \n",
    "        cauchy_body += cauchy_stress_constituent\n",
    "        pk2_body += pk2_stress_constituent\n",
    "        \n",
    "    # Now add stress from incompressibility\n",
    "    S_incomp = -p*dolfin.inv(C_body)\n",
    "    pk2_body += S_incomp\n",
    "    cauchy_body += (1.0/J_body)*F_body*S_incomp*F_body.T\n",
    "            \n",
    "    cauchy_body_f = dolfin.project(dolfin.inner(local_coordinate_system[0],cauchy_body*local_coordinate_system[0]),\n",
    "                                          dolfin.FunctionSpace(mesh,\"DG\",1))\n",
    "    pk2_body_f = dolfin.project(dolfin.inner(local_coordinate_system[0],pk2_body*local_coordinate_system[0]),\n",
    "                                          dolfin.FunctionSpace(mesh,\"DG\",1))\n",
    "    \n",
    "\n",
    "    #cauchy_stress_constituent_f = dolfin.project(\n",
    "    #                                      dolfin.inner(local_coordinate_system[0],cauchy_stress_constituent*local_coordinate_system[0]),\n",
    "    #                                      dolfin.FunctionSpace(mesh,\"DG\",1))\n",
    "    #    pk2_stress_constituent_f = dolfin.project(dolfin.inner(local_coordinate_system[0],pk2_stress_constituent*local_coordinate_system[0]),dolfin.FunctionSpace(mesh,\"DG\",1))\n",
    "    #    cauchy_stress_constituent_f.rename(constituents.name+\"cauchy_f\",constituents.name+\"cauchy_f\")\n",
    "    #    pk2_stress_constituent_f.rename(constituents.name+\"pk2_f\",constituents.name+\"pk2_f\")\n",
    "    #    output_file.write(cauchy_stress_constituent_f, counter)\n",
    "            \n",
    "    return cauchy_body_f, pk2_body_f"
   ]
  },
  {
   "cell_type": "markdown",
   "id": "123eba0b-2320-4bee-ab65-16fdc998c82c",
   "metadata": {
    "tags": []
   },
   "source": [
    "Displace the right face to end-systole to record stress in fiber direction as set point"
   ]
  },
  {
   "cell_type": "code",
   "execution_count": 25,
   "id": "dc7adb2d-5d64-4405-9214-dd2efb2fe78f",
   "metadata": {},
   "outputs": [],
   "source": [
    "# Record stresses after initial solve for unloaded body\n",
    "cauchy_body_f, pk2_body_f = record_body_stress_x_dir(mesh, body, F_body, output_file, counter)\n",
    "body_mass = 0.0\n",
    "    "
   ]
  },
  {
   "cell_type": "code",
   "execution_count": 26,
   "id": "cc30edd2-20d1-46e6-b427-b907033a5f25",
   "metadata": {},
   "outputs": [],
   "source": [
    "for constituents in body:\n",
    "    body_mass += constituents.calculate_mass()\n",
    "\n",
    "body_mass_history[counter] = body_mass \n",
    "cauchy_stress_history[counter] = cauchy_body_f.vector().get_local()[0] #uniform deformation and stress for this case\n",
    "cohort_count[counter] = np.shape(muscle.cohorts)[0]\n",
    "pk2_history[counter] = pk2_body_f.vector().get_local()[0]\n",
    "counter += 1\n",
    "    "
   ]
  },
  {
   "cell_type": "code",
   "execution_count": 27,
   "id": "49ef6c9d-046d-454d-b5e1-45e11a469e1b",
   "metadata": {},
   "outputs": [],
   "source": [
    "#output_file.close()"
   ]
  },
  {
   "cell_type": "code",
   "execution_count": 28,
   "id": "0824bd5b-dbb4-416a-9dd0-34a6424ed46d",
   "metadata": {},
   "outputs": [],
   "source": [
    "for i in np.arange(6):\n",
    "    right_displacement.ud_x += 0.02\n",
    "    dolfin.solve(Ftotal == 0, w, bcs=dirichlet_bcs, J=Jac_total)\n",
    "    \n",
    "    # output\n",
    "    output_file.write(w.sub(0), counter)\n",
    "    cauchy_body_f, pk2_body_f = record_body_stress_x_dir(mesh, body, F_body, output_file, counter)\n",
    "    body_mass = 0.0\n",
    "    \n",
    "    for constituents in body:\n",
    "        body_mass += constituents.calculate_mass()\n",
    "        \n",
    "    body_mass_history[counter] = body_mass \n",
    "    cauchy_stress_history[counter] = cauchy_body_f.vector().get_local()[0] #uniform deformation and stress for this case\n",
    "    cohort_count[counter] = np.shape(muscle.cohorts)[0]\n",
    "    pk2_history[counter] = pk2_body_f.vector().get_local()[0]\n",
    "    counter += 1"
   ]
  },
  {
   "cell_type": "markdown",
   "id": "369db866-1ffd-4d3f-a5f4-266cc5695f79",
   "metadata": {},
   "source": [
    "Record stress in the fiber direction, and set the mass production set point to this value"
   ]
  },
  {
   "cell_type": "code",
   "execution_count": 29,
   "id": "90f1def6-00b4-49ad-94b1-93208dc8b62c",
   "metadata": {},
   "outputs": [
    {
     "data": {
      "text/plain": [
       "'output_file.close()\\n#print(dolfin.project(cauchytemp,dolfin.TensorFunctionSpace(mesh,\"DG\",1)).vector().get_local())\\nI = dolfin.Identity(3)\\nF_cohort_temp = F_body*dolfin.inv(elastin.cohorts[0].F_cohort0)*elastin.cohorts[0].G\\nE_cohort_temp = dolfin.variable(0.5*(F_cohort_temp.T*F_cohort_temp - I))\\nJ_cohort = dolfin.det(F_cohort_temp)\\n\\n# Calculate Pk2\\n#C_temp = dolfin.variable(2.0*E_cohort_temp) + dolfin.Identity(3)\\nC_temp = dolfin.variable(F_cohort_temp.T*F_cohort_temp)\\nI1_temp = (dolfin.tr(C_temp))\\nW_temp =(0.5)*(I1_temp - 3.0)\\n\\ntemp_pk2=dolfin.diff(W_temp,C_temp)\\nprint(dolfin.project(W_temp,dolfin.FunctionSpace(mesh,\"DG\",1)).vector().get_local())\\nprint(dolfin.project(temp_pk2,dolfin.TensorFunctionSpace(mesh,\"DG\",1)).vector().get_local())'"
      ]
     },
     "execution_count": 29,
     "metadata": {},
     "output_type": "execute_result"
    }
   ],
   "source": [
    "\"\"\"output_file.close()\n",
    "#print(dolfin.project(cauchytemp,dolfin.TensorFunctionSpace(mesh,\"DG\",1)).vector().get_local())\n",
    "I = dolfin.Identity(3)\n",
    "F_cohort_temp = F_body*dolfin.inv(elastin.cohorts[0].F_cohort0)*elastin.cohorts[0].G\n",
    "E_cohort_temp = dolfin.variable(0.5*(F_cohort_temp.T*F_cohort_temp - I))\n",
    "J_cohort = dolfin.det(F_cohort_temp)\n",
    "\n",
    "# Calculate Pk2\n",
    "#C_temp = dolfin.variable(2.0*E_cohort_temp) + dolfin.Identity(3)\n",
    "C_temp = dolfin.variable(F_cohort_temp.T*F_cohort_temp)\n",
    "I1_temp = (dolfin.tr(C_temp))\n",
    "W_temp =(0.5)*(I1_temp - 3.0)\n",
    "\n",
    "temp_pk2=dolfin.diff(W_temp,C_temp)\n",
    "print(dolfin.project(W_temp,dolfin.FunctionSpace(mesh,\"DG\",1)).vector().get_local())\n",
    "print(dolfin.project(temp_pk2,dolfin.TensorFunctionSpace(mesh,\"DG\",1)).vector().get_local())\"\"\""
   ]
  },
  {
   "cell_type": "code",
   "execution_count": 30,
   "id": "799ee930-36aa-4982-8e0e-800baaed864e",
   "metadata": {},
   "outputs": [
    {
     "name": "stdout",
     "output_type": "stream",
     "text": [
      "0.084524539682473\n",
      "[0.08452454 0.08452454 0.08452454 0.08452454 0.08452454 0.08452454\n",
      " 0.08452454 0.08452454 0.08452454 0.08452454 0.08452454 0.08452454\n",
      " 0.08452454 0.08452454 0.08452454 0.08452454 0.08452454 0.08452454\n",
      " 0.08452454 0.08452454 0.08452454 0.08452454 0.08452454 0.08452454]\n",
      "0.12000000000000001\n",
      "[0.00000000e+00 1.15605699e-16 1.24798476e-02 2.54741941e-02\n",
      " 3.90733195e-02 5.33748848e-02 6.84858384e-02 8.45245397e-02]\n"
     ]
    }
   ],
   "source": [
    "muscle.set_point = cauchy_body_f\n",
    "muscle.mass_production_stimulus = cauchy_body_f\n",
    "ES_baseline_stress = cauchy_stress_history[counter-1]\n",
    "print(ES_baseline_stress)\n",
    "print(cauchy_body_f.vector().get_local())\n",
    "print(right_displacement.ud_x)\n",
    "print(cauchy_stress_history[0:8])"
   ]
  },
  {
   "cell_type": "code",
   "execution_count": 31,
   "id": "a64a1292-2278-4109-9947-338cc1ef5794",
   "metadata": {},
   "outputs": [],
   "source": [
    "# Load to baseline ED\n",
    "for i in np.arange(10):\n",
    "    right_displacement.ud_x += (1.44-1.12)/10.0\n",
    "    dolfin.solve(Ftotal == 0, w, bcs=dirichlet_bcs, J=Jac_total)\n",
    "    \n",
    "    # output\n",
    "    output_file.write(w.sub(0), counter)\n",
    "    cauchy_body_f, pk2_body_f = record_body_stress_x_dir(mesh, body, F_body, output_file, counter)\n",
    "    body_mass = 0.0\n",
    "    \n",
    "    for constituents in body:\n",
    "        body_mass += constituents.calculate_mass()\n",
    "        \n",
    "    body_mass_history[counter] = body_mass \n",
    "    cauchy_stress_history[counter] = cauchy_body_f.vector().get_local()[0] #uniform deformation and stress for this case\n",
    "    cohort_count[counter] = np.shape(muscle.cohorts)[0]\n",
    "    pk2_history[counter] = pk2_body_f.vector().get_local()[0]\n",
    "    counter += 1\n",
    "    \n",
    "ED_baseline_stress = cauchy_stress_history[counter-1]"
   ]
  },
  {
   "cell_type": "code",
   "execution_count": 32,
   "id": "566f9c52-6402-43dd-a70c-3e59c0f99fe7",
   "metadata": {},
   "outputs": [],
   "source": [
    "# Now defining systole() and diastole() functions\n",
    "def systole(ED, ES, counter):\n",
    "    for i in np.arange(5):\n",
    "        right_displacement.ud_x -= (ED-ES)/5.0\n",
    "        print(\"disp\",right_displacement.ud_x)\n",
    "        dolfin.solve(Ftotal == 0, w, bcs=dirichlet_bcs, J=Jac_total)\n",
    "    \n",
    "        # output\n",
    "        output_file.write(w.sub(0), counter)\n",
    "        cauchy_body_f, pk2_body_f = record_body_stress_x_dir(mesh, body, F_body, output_file, counter)\n",
    "        body_mass = 0.0\n",
    "\n",
    "        for constituents in body:\n",
    "            body_mass += constituents.calculate_mass()\n",
    "\n",
    "        body_mass_history[counter] = body_mass \n",
    "        cauchy_stress_history[counter] = cauchy_body_f.vector().get_local()[0] #uniform deformation and stress for this case\n",
    "        cohort_count[counter] = np.shape(muscle.cohorts)[0]\n",
    "        pk2_history[counter] = pk2_body_f.vector().get_local()[0]\n",
    "        print(cauchy_stress_history[counter])\n",
    "        counter += 1\n",
    "        \n",
    "    return cauchy_body_f, counter\n",
    "        \n",
    "def diastole(ED, ES, counter):\n",
    "    for i in np.arange(20):\n",
    "        right_displacement.ud_x += (ED-ES)/20.0\n",
    "        dolfin.solve(Ftotal == 0, w, bcs=dirichlet_bcs, J=Jac_total)\n",
    "    \n",
    "        # output\n",
    "        output_file.write(w.sub(0), counter)\n",
    "        cauchy_body_f, pk2_body_f = record_body_stress_x_dir(mesh, body, F_body, output_file, counter)\n",
    "        body_mass = 0.0\n",
    "\n",
    "        for constituents in body:\n",
    "            body_mass += constituents.calculate_mass()\n",
    "\n",
    "        body_mass_history[counter] = body_mass \n",
    "        cauchy_stress_history[counter] = cauchy_body_f.vector().get_local()[0] #uniform deformation and stress for this case\n",
    "        cohort_count[counter] = np.shape(muscle.cohorts)[0]\n",
    "        pk2_history[counter] = pk2_body_f.vector().get_local()[0]\n",
    "        counter += 1\n",
    "        \n",
    "    return cauchy_body_f, counter"
   ]
  },
  {
   "cell_type": "code",
   "execution_count": 33,
   "id": "e6389106-048c-478c-a1a7-cb42e5e9bb86",
   "metadata": {},
   "outputs": [
    {
     "name": "stdout",
     "output_type": "stream",
     "text": [
      "disp 0.4399999999999998\n",
      "disp 0.3919999999999998\n",
      "0.5068655516656917\n",
      "disp 0.3439999999999998\n",
      "0.38576184097088817\n",
      "disp 0.2959999999999998\n",
      "0.29275769579849814\n",
      "disp 0.24799999999999983\n",
      "0.21966356311456237\n",
      "disp 0.19999999999999984\n",
      "0.1608683099514735\n"
     ]
    }
   ],
   "source": [
    "print(\"disp\",right_displacement.ud_x)\n",
    "# Start cycling through ES and ED at pressure overload values\n",
    "cauchy_f, counter = systole(ED_baseline,ES_PO,counter)"
   ]
  },
  {
   "cell_type": "code",
   "execution_count": 34,
   "id": "d101cbf3-57d6-417b-8022-35c9bf0ca5f7",
   "metadata": {},
   "outputs": [
    {
     "name": "stdout",
     "output_type": "stream",
     "text": [
      "disp 0.4240000000000001\n",
      "0.6089995511507842\n",
      "disp 0.3680000000000001\n",
      "0.4421550426042277\n",
      "disp 0.3120000000000001\n",
      "0.32120623596944764\n",
      "disp 0.2560000000000001\n",
      "0.2307261233011438\n",
      "disp 0.20000000000000012\n",
      "0.16086830995147308\n",
      "0\n",
      "disp 0.4240000000000004\n",
      "0.6089995511507861\n",
      "disp 0.3680000000000004\n",
      "0.442155042604228\n",
      "disp 0.3120000000000004\n",
      "0.3212062359694487\n",
      "disp 0.2560000000000004\n",
      "0.2307261233011441\n",
      "disp 0.2000000000000004\n",
      "0.1608683099514737\n",
      "1\n",
      "disp 0.42400000000000065\n",
      "0.6089995511507855\n",
      "disp 0.36800000000000066\n",
      "0.44215504260422867\n",
      "disp 0.31200000000000067\n",
      "0.32120623596944936\n",
      "disp 0.25600000000000067\n",
      "0.23072612330114492\n",
      "disp 0.20000000000000068\n",
      "0.16086830995147375\n",
      "2\n",
      "disp 0.42400000000000093\n",
      "0.6089995511507871\n",
      "disp 0.36800000000000094\n",
      "0.44215504260423016\n",
      "disp 0.31200000000000094\n",
      "0.3212062359694495\n",
      "disp 0.25600000000000095\n",
      "0.2307261233011451\n",
      "disp 0.20000000000000095\n",
      "0.16086830995147422\n",
      "3\n",
      "disp 0.4240000000000012\n",
      "0.608999551150788\n",
      "disp 0.3680000000000012\n",
      "0.44215504260423\n",
      "disp 0.3120000000000012\n",
      "0.32120623596944975\n",
      "disp 0.2560000000000012\n",
      "0.2307261233011455\n",
      "disp 0.20000000000000123\n",
      "0.1608683099514744\n",
      "4\n"
     ]
    }
   ],
   "source": [
    "muscle.mass_production_stimulus = cauchy_f\n",
    "# 5 cycles at pressure overload w/o growth\n",
    "for j in np.arange(5):\n",
    "    cauchy_f, counter = diastole(ED_PO,ES_PO, counter)\n",
    "        \n",
    "    cauchy_f, counter = systole(ED_PO,ES_PO, counter)\n",
    "    \n",
    "    print(j)\n",
    "    \n",
    "muscle.mass_production_stimulus = cauchy_f # ES stress as stimulus\n"
   ]
  },
  {
   "cell_type": "code",
   "execution_count": 35,
   "id": "d0f47356-bcdf-41e2-9177-891a05c7bb25",
   "metadata": {},
   "outputs": [
    {
     "name": "stdout",
     "output_type": "stream",
     "text": [
      "stimulus value, [0.16086831 0.16086831 0.16086831 0.16086831 0.16086831 0.16086831\n",
      " 0.16086831 0.16086831 0.16086831]\n",
      "f_x [0.89491675 0.89491675 0.89491675 0.89491675 0.89491675 0.89491675\n",
      " 0.89491675 0.89491675 0.89491675 0.89491675 0.89491675 0.89491675\n",
      " 0.89491675 0.89491675 0.89491675 0.89491675 0.89491675 0.89491675\n",
      " 0.89491675 0.89491675 0.89491675 0.89491675 0.89491675 0.89491675]\n",
      "disp 0.4240000000000015\n",
      "0.42876058043790477\n",
      "disp 0.3680000000000015\n",
      "0.31020444167695294\n",
      "disp 0.3120000000000015\n",
      "0.22278572313192363\n",
      "disp 0.2560000000000015\n",
      "0.15623928366464948\n",
      "disp 0.2000000000000015\n",
      "0.10387320849552927\n",
      "stimulus value, [0.10387321 0.10387321 0.10387321 0.10387321 0.10387321 0.10387321\n",
      " 0.10387321 0.10387321 0.10387321]\n",
      "f_x [0.68500836 0.68500836 0.68500836 0.68500836 0.68500836 0.68500836\n",
      " 0.68500836 0.68500836 0.68500836 0.68500836 0.68500836 0.68500836\n",
      " 0.68500836 0.68500836 0.68500836 0.68500836 0.68500836 0.68500836\n",
      " 0.68500836 0.68500836 0.68500836 0.68500836 0.68500836 0.68500836]\n",
      "disp 0.42400000000000176\n",
      "0.4331457216531705\n",
      "disp 0.36800000000000177\n",
      "0.31280970987699813\n",
      "disp 0.3120000000000018\n",
      "0.22419144509890196\n",
      "disp 0.2560000000000018\n",
      "0.15700563487534236\n",
      "disp 0.2000000000000018\n",
      "0.1045222539506854\n",
      "stimulus value, [0.10452225 0.10452225 0.10452225 0.10452225 0.10452225 0.10452225\n",
      " 0.10452225 0.10452225 0.10452225]\n",
      "f_x [0.68780191 0.68780191 0.68780191 0.68780191 0.68780191 0.68780191\n",
      " 0.68780191 0.68780191 0.68780191 0.68780191 0.68780191 0.68780191\n",
      " 0.68780191 0.68780191 0.68780191 0.68780191 0.68780191 0.68780191\n",
      " 0.68780191 0.68780191 0.68780191 0.68780191 0.68780191 0.68780191]\n",
      "disp 0.42400000000000204\n",
      "0.43197961096992243\n",
      "disp 0.36800000000000205\n",
      "0.3109785258451857\n",
      "disp 0.31200000000000205\n",
      "0.22212239533621442\n",
      "disp 0.25600000000000206\n",
      "0.15505038900989815\n",
      "disp 0.20000000000000207\n",
      "0.10297892123244959\n",
      "stimulus value, [0.10297892 0.10297892 0.10297892 0.10297892 0.10297892 0.10297892\n",
      " 0.10297892 0.10297892 0.10297892]\n",
      "f_x [0.68115035 0.68115035 0.68115035 0.68115035 0.68115035 0.68115035\n",
      " 0.68115035 0.68115035 0.68115035 0.68115035 0.68115035 0.68115035\n",
      " 0.68115035 0.68115035 0.68115035 0.68115035 0.68115035 0.68115035\n",
      " 0.68115035 0.68115035 0.68115035 0.68115035 0.68115035 0.68115035]\n",
      "disp 0.4240000000000023\n",
      "0.43242839312812664\n",
      "disp 0.3680000000000023\n",
      "0.31030094731450075\n",
      "disp 0.31200000000000233\n",
      "0.22089971364514643\n",
      "disp 0.25600000000000234\n",
      "0.15370430425184617\n",
      "disp 0.20000000000000234\n",
      "0.10183012520901516\n",
      "stimulus value, [0.10183013 0.10183013 0.10183013 0.10183013 0.10183013 0.10183013\n",
      " 0.10183013 0.10183013 0.10183013]\n",
      "f_x [0.67617982 0.67617982 0.67617982 0.67617982 0.67617982 0.67617982\n",
      " 0.67617982 0.67617982 0.67617982 0.67617982 0.67617982 0.67617982\n",
      " 0.67617982 0.67617982 0.67617982 0.67617982 0.67617982 0.67617982\n",
      " 0.67617982 0.67617982 0.67617982 0.67617982 0.67617982 0.67617982]\n",
      "disp 0.4240000000000026\n",
      "0.4333352572510818\n",
      "disp 0.3680000000000026\n",
      "0.31002957245374435\n",
      "disp 0.3120000000000026\n",
      "0.22002691808389266\n",
      "disp 0.2560000000000026\n",
      "0.15263565135052043\n",
      "disp 0.20000000000000262\n",
      "0.10086424900749645\n",
      "stimulus value, [0.10086425 0.10086425 0.10086425 0.10086425 0.10086425 0.10086425\n",
      " 0.10086425 0.10086425 0.10086425]\n",
      "f_x [0.67198874 0.67198874 0.67198874 0.67198874 0.67198874 0.67198874\n",
      " 0.67198874 0.67198874 0.67198874 0.67198874 0.67198874 0.67198874\n",
      " 0.67198874 0.67198874 0.67198874 0.67198874 0.67198874 0.67198874\n",
      " 0.67198874 0.67198874 0.67198874 0.67198874 0.67198874 0.67198874]\n",
      "disp 0.4240000000000029\n",
      "0.4344799141274045\n",
      "disp 0.3680000000000029\n",
      "0.3100244013776519\n",
      "disp 0.3120000000000029\n",
      "0.21941275536949717\n",
      "disp 0.2560000000000029\n",
      "0.15178831551637825\n",
      "disp 0.2000000000000029\n",
      "0.10005673223826136\n",
      "stimulus value, [0.10005673 0.10005673 0.10005673 0.10005673 0.10005673 0.10005673\n",
      " 0.10005673 0.10005673 0.10005673]\n",
      "f_x [0.66847683 0.66847683 0.66847683 0.66847683 0.66847683 0.66847683\n",
      " 0.66847683 0.66847683 0.66847683 0.66847683 0.66847683 0.66847683\n",
      " 0.66847683 0.66847683 0.66847683 0.66847683 0.66847683 0.66847683\n",
      " 0.66847683 0.66847683 0.66847683 0.66847683 0.66847683 0.66847683]\n",
      "disp 0.42400000000000315\n",
      "0.4357360169888833\n",
      "disp 0.36800000000000316\n",
      "0.31019031935303365\n",
      "disp 0.31200000000000316\n",
      "0.2189854983924401\n",
      "disp 0.25600000000000317\n",
      "0.1511114960967368\n",
      "disp 0.20000000000000318\n",
      "0.09937829030995299\n",
      "stimulus value, [0.09937829 0.09937829 0.09937829 0.09937829 0.09937829 0.09937829\n",
      " 0.09937829 0.09937829 0.09937829]\n",
      "f_x [0.66552092 0.66552092 0.66552092 0.66552092 0.66552092 0.66552092\n",
      " 0.66552092 0.66552092 0.66552092 0.66552092 0.66552092 0.66552092\n",
      " 0.66552092 0.66552092 0.66552092 0.66552092 0.66552092 0.66552092\n",
      " 0.66552092 0.66552092 0.66552092 0.66552092 0.66552092 0.66552092]\n",
      "disp 0.42400000000000343\n",
      "0.4370395687253148\n",
      "disp 0.36800000000000344\n",
      "0.3104712277540876\n",
      "disp 0.31200000000000344\n",
      "0.21869810631179182\n",
      "disp 0.25600000000000345\n",
      "0.150569124276029\n",
      "disp 0.20000000000000345\n",
      "0.09880615923212896\n",
      "stimulus value, [0.09880616 0.09880616 0.09880616 0.09880616 0.09880616 0.09880616\n",
      " 0.09880616 0.09880616 0.09880616]\n",
      "f_x [0.66302456 0.66302456 0.66302456 0.66302456 0.66302456 0.66302456\n",
      " 0.66302456 0.66302456 0.66302456 0.66302456 0.66302456 0.66302456\n",
      " 0.66302456 0.66302456 0.66302456 0.66302456 0.66302456 0.66302456\n",
      " 0.66302456 0.66302456 0.66302456 0.66302456 0.66302456 0.66302456]\n",
      "disp 0.4240000000000037\n",
      "0.4383552410702126\n",
      "disp 0.3680000000000037\n",
      "0.3108311864242023\n",
      "disp 0.3120000000000037\n",
      "0.21851773713544725\n",
      "disp 0.2560000000000037\n",
      "0.15013446399333227\n",
      "disp 0.20000000000000373\n",
      "0.09832229610807462\n",
      "stimulus value, [0.0983223 0.0983223 0.0983223 0.0983223 0.0983223 0.0983223 0.0983223\n",
      " 0.0983223 0.0983223]\n",
      "f_x [0.66091084 0.66091084 0.66091084 0.66091084 0.66091084 0.66091084\n",
      " 0.66091084 0.66091084 0.66091084 0.66091084 0.66091084 0.66091084\n",
      " 0.66091084 0.66091084 0.66091084 0.66091084 0.66091084 0.66091084\n",
      " 0.66091084 0.66091084 0.66091084 0.66091084 0.66091084 0.66091084]\n",
      "disp 0.424000000000004\n",
      "0.43966251952327823\n",
      "disp 0.368000000000004\n",
      "0.3112459988555633\n",
      "disp 0.312000000000004\n",
      "0.21842064241228762\n",
      "disp 0.256000000000004\n",
      "0.14978726089432162\n",
      "disp 0.200000000000004\n",
      "0.0979123409841444\n",
      "stimulus value, [0.09791234 0.09791234 0.09791234 0.09791234 0.09791234 0.09791234\n",
      " 0.09791234 0.09791234 0.09791234]\n",
      "f_x [0.65911825 0.65911825 0.65911825 0.65911825 0.65911825 0.65911825\n",
      " 0.65911825 0.65911825 0.65911825 0.65911825 0.65911825 0.65911825\n",
      " 0.65911825 0.65911825 0.65911825 0.65911825 0.65911825 0.65911825\n",
      " 0.65911825 0.65911825 0.65911825 0.65911825 0.65911825 0.65911825]\n",
      "disp 0.42400000000000426\n",
      "0.4409583101058744\n",
      "disp 0.36800000000000427\n",
      "0.31170538755853233\n",
      "disp 0.3120000000000043\n",
      "0.21839398145736735\n",
      "disp 0.2560000000000043\n",
      "0.14951540895473991\n",
      "disp 0.20000000000000429\n",
      "0.0975674225694111\n",
      "stimulus value, [0.09756742 0.09756742 0.09756742 0.09756742 0.09756742 0.09756742\n",
      " 0.09756742 0.09756742 0.09756742]\n",
      "f_x [0.65760884 0.65760884 0.65760884 0.65760884 0.65760884 0.65760884\n",
      " 0.65760884 0.65760884 0.65760884 0.65760884 0.65760884 0.65760884\n",
      " 0.65760884 0.65760884 0.65760884 0.65760884 0.65760884 0.65760884\n",
      " 0.65760884 0.65760884 0.65760884 0.65760884 0.65760884 0.65760884]\n",
      "disp 0.42400000000000454\n",
      "0.44221491918576195\n",
      "disp 0.36800000000000455\n",
      "0.3121827104916958\n",
      "disp 0.31200000000000455\n",
      "0.2184139287862794\n",
      "disp 0.25600000000000456\n",
      "0.14929914504712147\n",
      "disp 0.20000000000000456\n",
      "0.0972727914770722\n",
      "stimulus value, [0.09727279 0.09727279 0.09727279 0.09727279 0.09727279 0.09727279\n",
      " 0.09727279 0.09727279 0.09727279]\n",
      "f_x [0.65631865 0.65631865 0.65631865 0.65631865 0.65631865 0.65631865\n",
      " 0.65631865 0.65631865 0.65631865 0.65631865 0.65631865 0.65631865\n",
      " 0.65631865 0.65631865 0.65631865 0.65631865 0.65631865 0.65631865\n",
      " 0.65631865 0.65631865 0.65631865 0.65631865 0.65631865 0.65631865]\n",
      "disp 0.4240000000000048\n",
      "0.4434391598218754\n",
      "disp 0.3680000000000048\n",
      "0.3126770079424769\n",
      "disp 0.31200000000000483\n",
      "0.21847562189623404\n",
      "disp 0.25600000000000483\n",
      "0.14913240502962793\n",
      "disp 0.20000000000000484\n",
      "0.09702315496012551\n",
      "stimulus value, [0.09702315 0.09702315 0.09702315 0.09702315 0.09702315 0.09702315\n",
      " 0.09702315 0.09702315 0.09702315]\n",
      "f_x [0.6552249 0.6552249 0.6552249 0.6552249 0.6552249 0.6552249 0.6552249\n",
      " 0.6552249 0.6552249 0.6552249 0.6552249 0.6552249 0.6552249 0.6552249\n",
      " 0.6552249 0.6552249 0.6552249 0.6552249 0.6552249 0.6552249 0.6552249\n",
      " 0.6552249 0.6552249 0.6552249]\n",
      "disp 0.4240000000000051\n",
      "0.44463003593623246\n",
      "disp 0.3680000000000051\n",
      "0.31318285592721873\n",
      "disp 0.3120000000000051\n",
      "0.21857191657703964\n",
      "disp 0.2560000000000051\n",
      "0.1490082249917111\n",
      "disp 0.20000000000000512\n",
      "0.09681314668602464\n",
      "stimulus value, [0.09681315 0.09681315 0.09681315 0.09681315 0.09681315 0.09681315\n",
      " 0.09681315 0.09681315 0.09681315]\n",
      "f_x [0.65430436 0.65430436 0.65430436 0.65430436 0.65430436 0.65430436\n",
      " 0.65430436 0.65430436 0.65430436 0.65430436 0.65430436 0.65430436\n",
      " 0.65430436 0.65430436 0.65430436 0.65430436 0.65430436 0.65430436\n",
      " 0.65430436 0.65430436 0.65430436 0.65430436 0.65430436 0.65430436]\n",
      "disp 0.4240000000000054\n",
      "0.44578393281601897\n",
      "disp 0.3680000000000054\n",
      "0.31369362966949\n",
      "disp 0.3120000000000054\n",
      "0.21869518652939032\n",
      "disp 0.2560000000000054\n",
      "0.1489193753861633\n",
      "disp 0.2000000000000054\n",
      "0.0966369612771815\n"
     ]
    }
   ],
   "source": [
    "# 10 cycles with growth\n",
    "for k in np.arange(15):\n",
    "    cauchy_body_f, counter = diastole(ED_PO,ES_PO, counter)\n",
    "    \n",
    "    # grow\n",
    "    for constituents in body:\n",
    "        constituents.remove_cohorts()\n",
    "        temp = constituents.add_cohort(F_body, 0)\n",
    "        constituents.cohorts.append(temp)\n",
    "        \n",
    "    body_mass = 0.0\n",
    "    for constituents in body:\n",
    "        body_mass += constituents.calculate_mass()\n",
    "        \n",
    "    body_sef = 0.0\n",
    "    for constituents in body:\n",
    "        constituents.assign_cohort_phis_body(body_mass)\n",
    "        body_sef += constituents.sum_cohort_sefs(F_body)\n",
    "    \n",
    "    sef_incompressible = -p*(J_body - body_mass/body_mass0) #use an expression for body_mass?\n",
    "    \n",
    "    F_passive_body = dolfin.derivative(body_sef, w, wtest)*dx\n",
    "    F_incompressible = dolfin.derivative(sef_incompressible, w, wtest)*dx\n",
    "    Ftotal = F_passive_body + F_incompressible\n",
    "    \n",
    "    Jac_passive_body = dolfin.derivative(F_passive_body, w, dw)\n",
    "    Jac_incompressible = dolfin.derivative(F_incompressible, w, dw)\n",
    "    Jac_total = Jac_passive_body + Jac_incompressible \n",
    "\n",
    "    dolfin.solve(Ftotal == 0, w, bcs =  dirichlet_bcs, J = Jac_total)\n",
    "    \n",
    "    # Record mass production stimulus. Not generalized here for one constituent\n",
    "    cauchy_body_f, pk2_body_f = record_body_stress_x_dir(mesh, body, F_body, output_file, counter)\n",
    "    output_file.write(w.sub(0), counter)\n",
    "    body_mass_history[counter] = body_mass\n",
    "    cauchy_stress_history[counter] = cauchy_body_f.vector().get_local()[0]\n",
    "    pk2_history[counter] = pk2_body_f.vector().get_local()[0]\n",
    "    cohort_count[counter] = np.shape(muscle.cohorts)[0]\n",
    "    \n",
    "    cauchy_body_f, counter = systole(ED_PO,ES_PO, counter)\n",
    "    muscle.mass_production_stimulus = cauchy_body_f\n"
   ]
  },
  {
   "cell_type": "code",
   "execution_count": 42,
   "id": "2bef590f-fc5a-4da0-a90d-6ae790b04545",
   "metadata": {},
   "outputs": [
    {
     "data": {
      "text/plain": [
       "[<matplotlib.lines.Line2D at 0x198ad7eb0>]"
      ]
     },
     "execution_count": 42,
     "metadata": {},
     "output_type": "execute_result"
    },
    {
     "data": {
      "image/png": "[encoded data removed]",
      "text/plain": [
       "<Figure size 432x288 with 1 Axes>"
      ]
     },
     "metadata": {
      "needs_background": "light"
     },
     "output_type": "display_data"
    }
   ],
   "source": [
    "plt.plot(cauchy_stress_history[0:523])\n",
    "plt.plot(ED_baseline_stress*np.ones(523),'r--')\n",
    "plt.plot(ES_baseline_stress*np.ones(523),'r--')"
   ]
  },
  {
   "cell_type": "markdown",
   "id": "feb06b65-dab1-4bf5-8b1a-626bb663786a",
   "metadata": {},
   "source": [
    "It looks like a steady state has been reached, and the tissue has gotten back to its baseline ED stress, but has not recovered the ES baseline setpoint."
   ]
  },
  {
   "cell_type": "markdown",
   "id": "e0cbbf75-10fa-4c2b-93ba-f162f2dab3bb",
   "metadata": {},
   "source": [
    "Unload the body to compare traction free configuration to original reference"
   ]
  },
  {
   "cell_type": "code",
   "execution_count": 43,
   "id": "41bf3596-0ad4-433d-99fe-6dc81a1b8b25",
   "metadata": {},
   "outputs": [],
   "source": [
    "traction = dolfin.Expression((\"traction\"), traction = 0.0, degree = 0)\n",
    "F_traction = dolfin.inner(traction*N, v)*ds(4,domain=mesh)\n",
    "Jac_traction = dolfin.derivative(F_traction, w, dw)\n",
    "Ftotal = F_passive_body + F_incompressible - F_traction\n",
    "Jac_total = Jac_passive_body + Jac_incompressible - Jac_traction\n",
    "dirichlet_bcs.pop() # remove right dirichlet bc\n",
    "\n",
    "dolfin.solve(Ftotal == 0, w, bcs = dirichlet_bcs, J = Jac_total)\n",
    "\n",
    "cauchy_body_f, pk2_body_f = record_body_stress_x_dir(mesh, body, F_body, output_file, counter)\n",
    "cauchy_stress_history[counter] = cauchy_body_f.vector().get_local()[0]\n",
    "pk2_history[counter] = pk2_body_f.vector().get_local()[0]\n",
    "output_file.write(w.sub(0), counter)"
   ]
  },
  {
   "cell_type": "markdown",
   "id": "7589fb8c-bf2d-4c3b-b30a-db7594e91cee",
   "metadata": {},
   "source": [
    "Close the output file"
   ]
  },
  {
   "cell_type": "code",
   "execution_count": 44,
   "id": "f2ac34ea-65b8-44d9-a36f-5cc1a4aa2fe4",
   "metadata": {},
   "outputs": [],
   "source": [
    "output_file.close()"
   ]
  },
  {
   "cell_type": "markdown",
   "id": "f7f780a7-47ae-4a89-be92-4639701c9892",
   "metadata": {},
   "source": [
    "Plot"
   ]
  },
  {
   "cell_type": "code",
   "execution_count": 45,
   "id": "e25f7a7d-714b-46d4-9e82-5c5f8a2abd8b",
   "metadata": {},
   "outputs": [
    {
     "data": {
      "text/plain": [
       "Text(0.5, 1.0, 'Cohort Count')"
      ]
     },
     "execution_count": 45,
     "metadata": {},
     "output_type": "execute_result"
    },
    {
     "data": {
      "image/png": "[encoded data removed]",
      "text/plain": [
       "<Figure size 1440x432 with 3 Axes>"
      ]
     },
     "metadata": {
      "needs_background": "light"
     },
     "output_type": "display_data"
    }
   ],
   "source": [
    "fig,axs = plt.subplots(figsize = (20,6),nrows=1,ncols=3)\n",
    "axs[0].plot(body_mass_history[0:898])\n",
    "axs[0].set_xlim([0,900])\n",
    "axs[0].set_ylim([0,3.75])\n",
    "axs[0].set_xticks([0,900])\n",
    "axs[0].set_title('Body Mass',fontsize=20)\n",
    "axs[1].plot(cauchy_stress_history[0:898])\n",
    "axs[1].set_xlim([0,900])\n",
    "axs[1].set_xticks([0,900])\n",
    "axs[1].set_title('Cauchy Stress: Fiber',fontsize=20)\n",
    "axs[1].set_xlabel('Time',fontsize=20)\n",
    "axs[2].plot(cohort_count[0:898])\n",
    "axs[2].set_xlim([0,900])\n",
    "axs[2].set_xticks([0,900])\n",
    "axs[2].set_title('Cohort Count',fontsize=20)\n",
    "#axs[1].plot(np.linspace(0,33,34),cauchy_stress_history[11]*np.ones(34),'r--')\n",
    "#axs[1].legend(['Cauchy stress','set point'])\n",
    "#axs[3].plot(pk2_history[0:47])\n",
    "#one_over_j = 1./body_mass_history\n",
    "#axs[4].plot(one_over_j)\n",
    "#axs[4].plot(one_over_j*pk2_history)\n"
   ]
  },
  {
   "cell_type": "markdown",
   "id": "f121e634-571e-4e22-a51c-70cb31dc3b5e",
   "metadata": {},
   "source": [
    "Body mass stays constant until the perturbation away from the setpoint and tissue turnover allowed to occur. At this point, mass increases and cannot return to the set point. Looking at the stimulus values for the last two solves, it can be seen that the stimulus (cauchy fiber stress) begins to increase. In other cases I've seen this is more pronounced, so I believe this case is on the edge of stable growth.  \n",
    "\n"
   ]
  },
  {
   "cell_type": "markdown",
   "id": "dcfb5702-7642-4d35-a901-c96194aac6b9",
   "metadata": {},
   "source": [
    "Finally, the final unloaded geometry is overlaid on the initial reference configuration for the body below, showing that no change"
   ]
  },
  {
   "cell_type": "code",
   "execution_count": 46,
   "id": "b7f036d8-cc56-4f83-bb52-5146af592ea1",
   "metadata": {},
   "outputs": [
    {
     "data": {
      "text/html": [
       "<iframe\n",
       "    scrolling=\"no\"\n",
       "    width=\"100%\"\n",
       "    height=\"545px\"\n",
       "    src=\"iframe_figures/figure_25.html\"\n",
       "    frameborder=\"0\"\n",
       "    allowfullscreen\n",
       "></iframe>\n"
      ]
     },
     "metadata": {},
     "output_type": "display_data"
    }
   ],
   "source": [
    "u, p = w.split(deepcopy=True)\n",
    "V = dolfin.VectorFunctionSpace(mesh, \"CG\", 1)\n",
    "u_int = dolfin.interpolate(u, V)\n",
    "new_mesh = dolfin.Mesh(mesh)\n",
    "dolfin.ALE.move(new_mesh, u_int)\n",
    "fig = fenics_plotly.plot(mesh,opacity=0.5,color=\"blue\",show=False)\n",
    "fig.add_plot(fenics_plotly.plot(new_mesh, color=\"red\",opacity=0.25,show=False))\n",
    "fig.show()"
   ]
  },
  {
   "cell_type": "code",
   "execution_count": null,
   "id": "1cd8e47d-be2f-49c2-97af-bf4a0f76985d",
   "metadata": {},
   "outputs": [],
   "source": []
  },
  {
   "cell_type": "code",
   "execution_count": null,
   "id": "8d2a222d-0ca0-498a-a84f-3998d754cd46",
   "metadata": {},
   "outputs": [],
   "source": []
  },
  {
   "cell_type": "code",
   "execution_count": null,
   "id": "2cfe3bb2-caad-4d03-99b2-6c29b43c7770",
   "metadata": {},
   "outputs": [],
   "source": []
  },
  {
   "cell_type": "code",
   "execution_count": null,
   "id": "6efb7157-98b8-41c0-ba64-a66d6dc01452",
   "metadata": {},
   "outputs": [],
   "source": []
  }
 ],
 "metadata": {
  "kernelspec": {
   "display_name": "Python 3",
   "language": "python",
   "name": "python3"
  },
  "language_info": {
   "codemirror_mode": {
    "name": "ipython",
    "version": 3
   },
   "file_extension": ".py",
   "mimetype": "text/x-python",
   "name": "python",
   "nbconvert_exporter": "python",
   "pygments_lexer": "ipython3",
   "version": "3.6.7"
  }
 },
 "nbformat": 4,
 "nbformat_minor": 5
}
