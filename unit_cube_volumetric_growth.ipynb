{
 "cells": [
  {
   "cell_type": "markdown",
   "id": "67adb08c-5938-4a07-adb0-4311c5c0a5b7",
   "metadata": {},
   "source": [
    "Unit Cube Volumetric Growth\n",
    "---\n",
    "This notebook will implement basic unit cube growth following the schematic set out in DOI 10.1007/s10237-015-0723-8.  \n",
    "Note, this growth is homogeneous so no residual stresses will accumulate, even without resetting the reference."
   ]
  },
  {
   "cell_type": "code",
   "execution_count": 1,
   "id": "3d2ddd14-39c0-4f6a-b342-b320b4a5145f",
   "metadata": {},
   "outputs": [],
   "source": [
    "import dolfin\n",
    "import numpy as np\n",
    "import fenics_plotly\n",
    "import matplotlib.pyplot as plt"
   ]
  },
  {
   "cell_type": "code",
   "execution_count": 2,
   "id": "c7fa7a0e-1f6e-43c2-855a-91e114eb8ec0",
   "metadata": {},
   "outputs": [],
   "source": [
    "dolfin.set_log_level(30)\n",
    "fenics_plotly.set_renderer(\"iframe\")\n",
    "output_file = dolfin.XDMFFile('deformation.xdmf')\n",
    "deg = 2\n",
    "dolfin.parameters[\"form_compiler\"][\"quadrature_degree\"]=deg\n",
    "dolfin.parameters[\"form_compiler\"][\"representation\"] = \"uflacs\"\n",
    "\n",
    "# First, the mesh\n",
    "mesh = dolfin.UnitCubeMesh(1,1,1)\n",
    "original_mesh = dolfin.UnitCubeMesh(1,1,1)\n",
    "original_traction_mesh = dolfin.UnitCubeMesh(1,1,1)"
   ]
  },
  {
   "cell_type": "code",
   "execution_count": 3,
   "id": "8080a092-57c2-4d2a-b52f-6a78dc7a4251",
   "metadata": {},
   "outputs": [],
   "source": [
    "# I'm going to pre-define some functions that will be useful later, and keep things less cluttered\n",
    "def calculate_reaction_force(Ftotal, dirichlet_bcs, x_dofs):\n",
    "    \n",
    "    \"\"\" Calculate reaction force on cube on left face. Negates it to give rxn on right face\n",
    "    \n",
    "    :Ftotal: weak form\n",
    "    :dirichlet_bcs: list of dirichlet boundary conditions\n",
    "    :x_dofs: degree of freedoms in x-direction from vector element\n",
    "    \n",
    "    return: scalar reaction force on right cube face in x-direction\n",
    "    \"\"\"\n",
    "    \n",
    "    b = dolfin.assemble(Ftotal)\n",
    "    for boundary_condition_i in np.arange(np.shape(dirichlet_bcs)[0]-1):\n",
    "        dirichlet_bcs[boundary_condition_i+1].apply(b)\n",
    "    f_int_total = b.copy()\n",
    "    rxn_force=0.0\n",
    "    for kk in x_dofs:\n",
    "        rxn_force += f_int_total[kk]\n",
    "        \n",
    "    return -1.0*rxn_force\n",
    "\n",
    "def calculate_pk2_stress(W_passive, E_comp, lcs):\n",
    "    \n",
    "    \"\"\" Return 2nd Piola Kirchhoff stress in fiber direction.\n",
    "    \n",
    "    :W_passive: strain energy function defined in terms of local coordinates\n",
    "    :E_comp: list, Green-Lagrange strain transformed into local coordinates\n",
    "    :lcs: list, local coordinate system vectors\n",
    "    \n",
    "    return: scalar stress in fiber direction\n",
    "    \"\"\"\n",
    "    \n",
    "    f0 = lcs[0]\n",
    "    s0 = lcs[1]\n",
    "    n0 = lcs[2]\n",
    "    \n",
    "    Eff = E_comp[0]\n",
    "    Efs = E_comp[1]\n",
    "    Efn = E_comp[2]\n",
    "    Esf = E_comp[3]\n",
    "    Ess = E_comp[4]\n",
    "    Esn = E_comp[5]\n",
    "    Enf = E_comp[6]\n",
    "    Ens = E_comp[7]\n",
    "    Enn = E_comp[8]\n",
    "    \n",
    "    # doing this differentiation separately for each tensor component\n",
    "    S_local = (dolfin.diff(W_passive,Eff)*dolfin.outer(f0,f0) + dolfin.diff(W_passive,Efs)*dolfin.outer(f0,s0) \n",
    "            + dolfin.diff(W_passive,Efn)*dolfin.outer(f0,n0,) + dolfin.diff(W_passive,Esf)*dolfin.outer(s0,f0) \n",
    "            + dolfin.diff(W_passive,Ess)*dolfin.outer(s0,s0) + dolfin.diff(W_passive,Esn)*dolfin.outer(s0,n0) \n",
    "            + dolfin.diff(W_passive,Enf)*dolfin.outer(n0,f0) + dolfin.diff(W_passive,Ens)*dolfin.outer(n0,s0) \n",
    "            + dolfin.diff(W_passive,Enn)*dolfin.outer(n0,n0))\n",
    "    \n",
    "    S_f = dolfin.inner(f0,S_local*f0)\n",
    "    pk2_stress_fiber = dolfin.project(S_f,dolfin.FunctionSpace(mesh,\"DG\",1)).vector().get_local()[0] #homogeneous, just picking first value\n",
    "    \n",
    "    return pk2_stress_fiber\n",
    "\n"
   ]
  },
  {
   "cell_type": "code",
   "execution_count": 4,
   "id": "933d0375-7dc3-4c72-be14-427730a6414a",
   "metadata": {},
   "outputs": [
    {
     "data": {
      "text/plain": [
       "[0,\n",
       " 1,\n",
       " 2,\n",
       " 3,\n",
       " 4,\n",
       " 5,\n",
       " 6,\n",
       " 22,\n",
       " 23,\n",
       " 24,\n",
       " 34,\n",
       " 35,\n",
       " 36,\n",
       " 37,\n",
       " 47,\n",
       " 48,\n",
       " 49,\n",
       " 50,\n",
       " 60,\n",
       " 61,\n",
       " 62,\n",
       " 63,\n",
       " 64,\n",
       " 74,\n",
       " 75,\n",
       " 76,\n",
       " 86]"
      ]
     },
     "execution_count": 4,
     "metadata": {},
     "output_type": "execute_result"
    }
   ],
   "source": [
    "# Set up elements and spaces for the problem\n",
    "Velem = dolfin.VectorElement(\"CG\", mesh.ufl_cell(), 2, quad_scheme=\"default\")\n",
    "\n",
    "# For hydrostatic pressure (enforcing incompressibility)\n",
    "Qelem = dolfin.FiniteElement(\"CG\", mesh.ufl_cell(), 1, quad_scheme=\"default\")\n",
    "\n",
    "# Mixed element\n",
    "W = dolfin.FunctionSpace(mesh, dolfin.MixedElement([Velem, Qelem]))\n",
    "x_dofs = W.sub(0).sub(0).dofmap().dofs() # for calculating reaction force\n",
    "\n",
    "# For the weak form\n",
    "w = dolfin.Function(W)\n",
    "dw = dolfin.TrialFunction(W)\n",
    "wtest = dolfin.TestFunction(W)\n",
    "\n",
    "du, dp = dolfin.TrialFunctions(W)\n",
    "u, p = dolfin.split(w)\n",
    "v, q = dolfin.TestFunctions(W)\n",
    "\n",
    "x_dofs\n"
   ]
  },
  {
   "cell_type": "code",
   "execution_count": 5,
   "id": "dd6f634b-66bf-45ee-9c2d-b9f75d3755d7",
   "metadata": {},
   "outputs": [
    {
     "data": {
      "text/plain": [
       "(81,)"
      ]
     },
     "execution_count": 5,
     "metadata": {},
     "output_type": "execute_result"
    }
   ],
   "source": [
    "# Let's create a local coordinate system for the cube. Could use vectors, but going to define them as would be seen for a ventricle\n",
    "V_space = dolfin.FunctionSpace(mesh,Velem)\n",
    "\n",
    "f0 = dolfin.Function(V_space) # coincident with x-axis\n",
    "s0 = dolfin.Function(V_space) # coincident with y-axis\n",
    "n0 = dolfin.Function(V_space) # coincident with z-axis\n",
    "\n",
    "for i in np.arange(np.shape(f0.vector())[0]/3.0):\n",
    "    f0.vector()[3*i] = 1.0\n",
    "    s0.vector()[3*i+1] = 1.0\n",
    "    n0.vector()[3*i+2] = 1.0\n",
    "    \n",
    "f0.vector().get_local()\n",
    "np.shape(f0.vector().get_local())"
   ]
  },
  {
   "cell_type": "code",
   "execution_count": 6,
   "id": "ec57460d-040e-4ebf-8e4b-f2766a66433b",
   "metadata": {},
   "outputs": [
    {
     "data": {
      "text/plain": [
       "array([0, 1])"
      ]
     },
     "execution_count": 6,
     "metadata": {},
     "output_type": "execute_result"
    }
   ],
   "source": [
    "# Boundary conditions. Traction will be applied to right face\n",
    "# Allowing uniform expansion in y and z for uniform motion due to incompressibility\n",
    "\n",
    "# Set up classes for Dirichlet boundary conditions\n",
    "class Left(dolfin.SubDomain):\n",
    "    def inside(self, x, on_boundary):\n",
    "        tol = 1E-14\n",
    "        return on_boundary and abs(x[0]) < tol\n",
    "\n",
    "class Lower(dolfin.SubDomain):\n",
    "    def inside(self, x, on_boundary):\n",
    "        tol = 1E-14\n",
    "        return on_boundary and abs(x[2]) < tol\n",
    "\n",
    "class Fix(dolfin.SubDomain):\n",
    "    def inside(self, x, on_boundary):\n",
    "        tol = 1E-14\n",
    "        return (dolfin.near(x[0],0.0,tol) and dolfin.near(x[1],0.0,tol) and dolfin.near(x[2],0.0,tol))\n",
    "    \n",
    "class Right(dolfin.SubDomain):\n",
    "    def inside(self, x, on_boundary):\n",
    "        tol = 1E-14\n",
    "        return on_boundary and abs(x[0] - 1.0) < tol\n",
    "\n",
    "facetboundaries = dolfin.MeshFunction('size_t', mesh, mesh.topology().dim()-1)\n",
    "facetboundaries.set_all(0)\n",
    "\n",
    "N = dolfin.FacetNormal(mesh)\n",
    "ds = dolfin.ds(subdomain_data = facetboundaries)\n",
    "dx = dolfin.dx(mesh,metadata = {\"integration_order\":2})\n",
    "\n",
    "left  = Left()\n",
    "lower = Lower()\n",
    "fix   = Fix()\n",
    "right = Right()\n",
    "\n",
    "left.mark(facetboundaries, 1)\n",
    "lower.mark(facetboundaries, 2)\n",
    "fix.mark(facetboundaries, 3)\n",
    "right.mark(facetboundaries, 4)\n",
    "\n",
    "# Constrain left face in x\n",
    "bc_left  = dolfin.DirichletBC(W.sub(0).sub(0), dolfin.Constant((0.0)), facetboundaries, 1)\n",
    "# Constrain lower face in z\n",
    "bc_lower = dolfin.DirichletBC(W.sub(0).sub(2), dolfin.Constant((0.0)), facetboundaries, 2)\n",
    "# Fixing point at origin to prevent rigid body translation\n",
    "bc_fix   = dolfin.DirichletBC(W.sub(0), dolfin.Constant((0.0, 0.0, 0.0)), fix, method=\"pointwise\")\n",
    "dirichlet_bcs = [bc_left, bc_lower, bc_fix]\n",
    "np.shape(dirichlet_bcs)\n",
    "np.arange(np.shape(dirichlet_bcs)[0]-1)\n"
   ]
  },
  {
   "cell_type": "markdown",
   "id": "0db2d5ac-a319-4970-9e67-039b5f722c7a",
   "metadata": {},
   "source": [
    "Now to define kinematic quantities. This is where we will define the deformation gradient and its multiplicative split. The elastic part will be used for the strain energy function. Following the schematic from figure 1 from the above paper, $F_{e}$ will be the same as $F$ during transient loading (the cardiac cycle) because the reference configuration is being reset after each growth step.  \n",
    "\n",
    "First, let's define the growth deformation gradient. We will do this by defining tensors $M_{1}$, $M_{2}$, $M_{3}$ using the local coordinate system such that:  \n",
    "\n",
    "$$M_{1} = \\theta_{f} (f_{0}\\otimes f_{0})$$  \n",
    "$$M_{2} = \\theta_{s} (s_{0}\\otimes s_{0})$$  \n",
    "$$M_{3} = \\theta_{n} (n_{0}\\otimes n_{0})$$  \n",
    "\n",
    "and $\\theta_{\\alpha}$ governs the amount of growth in each direction, usually a function of some deviation of a stimulus from a homeostatic set point. You can think of $\\theta_{f}$ governing eccentric growth, and $\\theta_{s}, \\theta_{n}$ as governing concentric growth."
   ]
  },
  {
   "cell_type": "code",
   "execution_count": 7,
   "id": "fc93cbc9-7da8-4ce0-ae4f-98c69d7bc31a",
   "metadata": {},
   "outputs": [],
   "source": [
    "tensorFS = dolfin.TensorFunctionSpace(mesh,\"DG\",1)\n",
    "M1 = dolfin.outer(f0,f0)\n",
    "M2 = dolfin.outer(s0,s0)\n",
    "M3 = dolfin.outer(n0,n0)\n",
    "\n",
    "# Using a DG1 space for the thetas. I suppose this depends on how you expect your stimulus to behave within/across elements\n",
    "theta_FS = dolfin.FunctionSpace(mesh,\"DG\",1)\n",
    "theta_f = dolfin.Function(theta_FS)\n",
    "theta_s = dolfin.Function(theta_FS)\n",
    "theta_n = dolfin.Function(theta_FS)\n",
    "\n",
    "# Initialize thetas to one, so that Fg is initialized to be the identity tensor\n",
    "theta_f.vector()[:] = 1.0\n",
    "theta_s.vector()[:] = 1.0\n",
    "theta_n.vector()[:] = 1.0\n",
    "    \n",
    "F_g = theta_f*M1 + theta_s*M2 + theta_n*M3"
   ]
  },
  {
   "cell_type": "code",
   "execution_count": 8,
   "id": "21f41382-48a4-4e0a-b9c3-72686ce7490a",
   "metadata": {},
   "outputs": [],
   "source": [
    "# Now define F and Fe\n",
    "dim = u.ufl_domain().geometric_dimension()\n",
    "I = dolfin.Identity(dim)\n",
    "F = I + dolfin.grad(u)\n",
    "F_e = F*dolfin.inv(F_g) # Now, if F_g is updated, for a given F, F_e can be calculated\n",
    "J = dolfin.det(F_e) # We want the elastic deformation to be volume preserving, but not the growth from F_g. This may have implications for growth \n",
    "# without resetting the reference configuration, haven't thought much about that.\n",
    "\n",
    "# Green-Lagrangian Strain tensor based on F_e\n",
    "E = 0.5*(F_e.T*F_e - I)\n"
   ]
  },
  {
   "cell_type": "code",
   "execution_count": 9,
   "id": "dde5510e-5445-47da-a10c-a7da2e4c5e8e",
   "metadata": {},
   "outputs": [],
   "source": [
    "#Now let's set up the weak form\n",
    "W_incompressible = -p*(J - 1.0)\n",
    "\n",
    "# Guccione law\n",
    "\n",
    "# Get strain in terms of local coordinates\n",
    "Eff = dolfin.variable(dolfin.inner(f0, E*f0))\n",
    "Ess = dolfin.variable(dolfin.inner(s0, E*s0))\n",
    "Enn = dolfin.variable(dolfin.inner(n0, E*n0))\n",
    "Efs = dolfin.variable(dolfin.inner(f0, E*s0))\n",
    "Efn = dolfin.variable(dolfin.inner(f0, E*n0))\n",
    "Ens = dolfin.variable(dolfin.inner(n0, E*s0))\n",
    "Esf = dolfin.variable(dolfin.inner(s0, E*f0))\n",
    "Esn = dolfin.variable(dolfin.inner(s0, E*n0))\n",
    "Enf = dolfin.variable(dolfin.inner(n0, E*f0))\n",
    "\n",
    "lcs = [f0, s0, n0]\n",
    "E_comp = [Eff, Efs, Efn, Esf, Ess, Esn, Enf, Ens, Enn]\n",
    "\n",
    "# material parameters\n",
    "c   = 0.26\n",
    "bf  = 2.0\n",
    "bx  = 5.58\n",
    "bfx = 1.627\n",
    "\n",
    "Q = bf*Eff**2.0 + bx*(Ess**2.0 + Enn**2.0 + Ens**2.0 + Esn**2.0) + bfx*(Efs**2.0 + Esf**2.0 + Efn**2.0 + Enf**2.0)\n",
    "W_passive = (c/2.0)*(dolfin.exp(Q) - 1.0)\n",
    "\n",
    "traction = dolfin.Expression((\"traction\"), traction = 0.0, degree = 0)\n",
    "\n",
    "F_passive = dolfin.derivative(W_passive, w, wtest)*dx\n",
    "F_incompressible = dolfin.derivative(W_incompressible, w, wtest)*dx\n",
    "F_traction = dolfin.inner(traction*N, v)*ds(4,domain=mesh)\n",
    "\n",
    "Ftotal = F_passive + F_incompressible - F_traction\n",
    "\n",
    "Jac_passive_body = dolfin.derivative(F_passive, w, dw)\n",
    "Jac_incompressible = dolfin.derivative(F_incompressible, w, dw)\n",
    "Jac_traction = dolfin.derivative(F_traction, w, dw)\n",
    "\n",
    "Jac_total = Jac_passive_body + Jac_incompressible  #- Jac_traction\n"
   ]
  },
  {
   "cell_type": "code",
   "execution_count": 10,
   "id": "de6d3674-6805-42ae-a8cd-47c02add9152",
   "metadata": {},
   "outputs": [
    {
     "name": "stdout",
     "output_type": "stream",
     "text": [
      "Calling FFC just-in-time (JIT) compiler, this may take some time.\n"
     ]
    }
   ],
   "source": [
    "# Let's first apply a traction to the cube and record the reaction force. We will apply the same traction later to the grown cube and compare reaction forces\n",
    "pk2_stress_fiber = np.zeros(23)\n",
    "rxn_force_history = np.zeros(23)\n",
    "counter = 0\n",
    "\n",
    "# Solving before traction increase\n",
    "#dolfin.solve(Ftotal == 0, w, bcs=dirichlet_bcs, J=Jac_total)\n",
    "dolfin.solve(Ftotal == 0, w, bcs=dirichlet_bcs)\n",
    "output_file.write(w.sub(0),counter)\n",
    "rxn_force_history[counter] = calculate_reaction_force(Ftotal, dirichlet_bcs, x_dofs)\n",
    "pk2_stress_fiber[counter] = calculate_pk2_stress(W_passive, E_comp, lcs)\n",
    "counter += 1\n",
    "\n",
    "for i in np.arange(10):\n",
    "    traction.traction += 0.1\n",
    "    #dolfin.solve(Ftotal == 0, w, bcs=dirichlet_bcs, J=Jac_total)\n",
    "    dolfin.solve(Ftotal == 0, w, bcs=dirichlet_bcs)\n",
    "    output_file.write(w.sub(0),counter)\n",
    "    rxn_force_history[counter] = calculate_reaction_force(Ftotal, dirichlet_bcs, x_dofs)\n",
    "    pk2_stress_fiber[counter] = calculate_pk2_stress(W_passive, E_comp, lcs)\n",
    "    counter += 1\n",
    "    \n",
    "u, p = dolfin.split(w)\n",
    "u_projected = dolfin.project(u,dolfin.VectorFunctionSpace(mesh,\"CG\",1))\n",
    "dolfin.ALE.move(original_traction_mesh,u_projected)\n",
    "    \n",
    "# Reset traction to 0, re-apply right dirichlet bc\n",
    "traction.traction = 0.0\n",
    "#dolfin.solve(Ftotal == 0, w, bcs=dirichlet_bcs, J=Jac_total)\n",
    "dolfin.solve(Ftotal == 0, w, bcs=dirichlet_bcs)\n",
    "output_file.write(w.sub(0),counter)\n",
    "rxn_force_history[counter] = calculate_reaction_force(Ftotal, dirichlet_bcs, x_dofs)\n",
    "pk2_stress_fiber[counter] = calculate_pk2_stress(W_passive, E_comp, lcs)\n",
    "counter += 1"
   ]
  },
  {
   "cell_type": "code",
   "execution_count": 11,
   "id": "db612213-bcec-4497-b41e-4c379549e3cd",
   "metadata": {
    "tags": []
   },
   "outputs": [],
   "source": [
    "#----------------- Growth -----------------\n",
    "# Now, calculate thetas based on deviation of stimulus, which will update F_g. Then solve for the unloaded configuration.\n",
    "# Arbitrarily choosing to grow in the cross-fiber directions.\n",
    "\n",
    "# Again for simplicity, I'm going to just increase the thetas. In a study, these would come from some growth function that you \n",
    "# will come up with.\n",
    "theta_s.vector()[:] = 1.1\n",
    "theta_n.vector()[:] = 1.1\n",
    "# IMPORTANT NOTE: Doing something like\n",
    "# theta_s += 0.1\n",
    "# Does not work. It creates a new object theta_s that F_g is not pointing to. F_g will not be updated appropriately.\n",
    "# In the past, I've calculated new theta values using a temporary function, and then using the assign method to appropriately update theta|\n"
   ]
  },
  {
   "cell_type": "code",
   "execution_count": 12,
   "id": "ba0ef4e7-167e-4d5c-8727-610397a00a27",
   "metadata": {},
   "outputs": [],
   "source": [
    "\n",
    "# Solve the traction free weak form. Since thetas have increased and F_g is no longer identity, and we are at the reference where F = I, F_e would give a \n",
    "# state of compression. This solving step will find the deformation that gets us back to nearly unstressed (should be stress free since this is a homegeneous \n",
    "# deformation).\n",
    "#dolfin.solve(Ftotal == 0, w, bcs = dirichlet_bcs, J = Jac_total)\n",
    "dolfin.solve(Ftotal == 0, w, bcs=dirichlet_bcs)\n",
    "output_file.write(w.sub(0),counter)\n",
    "pk2_stress_fiber[counter] = calculate_pk2_stress(W_passive, E_comp, lcs)\n",
    "rxn_force_history[counter] = calculate_reaction_force(Ftotal, dirichlet_bcs, x_dofs)\n",
    "counter += 1"
   ]
  },
  {
   "cell_type": "code",
   "execution_count": 13,
   "id": "7fe45672-38b8-4e4b-a868-37ac3a5f67bf",
   "metadata": {},
   "outputs": [],
   "source": [
    "# Reset the reference configuration by moving nodes according to the deformation solution we just obtained\n",
    "u, p = dolfin.split(w)\n",
    "dolfin.ALE.move(mesh, dolfin.project(u, dolfin.VectorFunctionSpace(mesh, 'CG', 1)))\n",
    "\n",
    "# Reset F_g to identity by resetting the thetas to 1\n",
    "theta_s.vector()[:] = 1.0\n",
    "theta_n.vector()[:] = 1.0"
   ]
  },
  {
   "cell_type": "code",
   "execution_count": 14,
   "id": "7629a668-3417-4076-8687-777bb52e8938",
   "metadata": {},
   "outputs": [],
   "source": [
    "fig = fenics_plotly.plot(mesh, color='red',opacity=0.25,show=False)\n",
    "fig.add_plot(fenics_plotly.plot(original_mesh,color='blue',opacity=0.25,show=False))"
   ]
  },
  {
   "cell_type": "code",
   "execution_count": 15,
   "id": "7efb86b9-4f9e-4b88-bc51-1570a7d32274",
   "metadata": {},
   "outputs": [
    {
     "data": {
      "text/html": [
       "<iframe\n",
       "    scrolling=\"no\"\n",
       "    width=\"100%\"\n",
       "    height=\"545px\"\n",
       "    src=\"iframe_figures/figure_15.html\"\n",
       "    frameborder=\"0\"\n",
       "    allowfullscreen\n",
       "></iframe>\n"
      ]
     },
     "metadata": {},
     "output_type": "display_data"
    }
   ],
   "source": [
    "fig.show()"
   ]
  },
  {
   "cell_type": "markdown",
   "id": "9cd5ce2e-54a0-45e2-b749-b8d4ef21e1b4",
   "metadata": {},
   "source": [
    "The original reference configuration is shown in blue, and the grown configuration shown in red. Using ALE.move sets this as the new mesh, and will relieve any residual stresses."
   ]
  },
  {
   "cell_type": "code",
   "execution_count": 16,
   "id": "a75c453c-44f6-415a-abb1-1fadef11e77e",
   "metadata": {},
   "outputs": [],
   "source": [
    "# Apply traction to grown mesh\n",
    "for j in np.arange(10):\n",
    "    traction.traction += 0.1\n",
    "    #dolfin.solve(Ftotal == 0, w, bcs=dirichlet_bcs, J=Jac_total)\n",
    "    dolfin.solve(Ftotal == 0, w, bcs=dirichlet_bcs)\n",
    "    output_file.write(w.sub(0),counter)\n",
    "    rxn_force_history[counter] = calculate_reaction_force(Ftotal, dirichlet_bcs, x_dofs)\n",
    "    pk2_stress_fiber[counter] = calculate_pk2_stress(W_passive, E_comp, lcs)\n",
    "    counter += 1\n"
   ]
  },
  {
   "cell_type": "code",
   "execution_count": 17,
   "id": "b39597a4-e68a-451c-8403-ca4cb60a5fc6",
   "metadata": {},
   "outputs": [
    {
     "data": {
      "image/png": "[encoded data removed]",
      "text/plain": [
       "<Figure size 432x288 with 1 Axes>"
      ]
     },
     "metadata": {
      "needs_background": "light"
     },
     "output_type": "display_data"
    }
   ],
   "source": [
    "plt.plot(rxn_force_history)\n",
    "plt.show()\n",
    "# Let's compare\n",
    "fig = fenics_plotly.plot(original_traction_mesh,color='blue',opacity=0.25,show=False)\n",
    "u,p = dolfin.split(w)\n",
    "u_p = dolfin.project(u,dolfin.VectorFunctionSpace(mesh,\"CG\",1))\n",
    "dolfin.ALE.move(mesh,u_p)\n",
    "fig.add_plot(fenics_plotly.plot(mesh,color='red',opacity=0.25,show=False))"
   ]
  },
  {
   "cell_type": "code",
   "execution_count": 18,
   "id": "442c227e-d58c-4060-83f8-1a8f173b7e03",
   "metadata": {},
   "outputs": [
    {
     "data": {
      "text/html": [
       "<iframe\n",
       "    scrolling=\"no\"\n",
       "    width=\"100%\"\n",
       "    height=\"545px\"\n",
       "    src=\"iframe_figures/figure_18.html\"\n",
       "    frameborder=\"0\"\n",
       "    allowfullscreen\n",
       "></iframe>\n"
      ]
     },
     "metadata": {},
     "output_type": "display_data"
    }
   ],
   "source": [
    "fig.show()"
   ]
  },
  {
   "cell_type": "markdown",
   "id": "30b5de17-77ba-4589-8780-3d9f2f43335d",
   "metadata": {},
   "source": [
    "Original (blue) and grown mesh (red) when tractions are applied. Specified tractions are per area, so the deformation in the x-direction is the same. However, it takes more force because of the increased area due to growth (seen in the above plots)."
   ]
  },
  {
   "cell_type": "code",
   "execution_count": null,
   "id": "a46dacbe-3e77-45f6-8809-8806d4bb8695",
   "metadata": {},
   "outputs": [],
   "source": [
    "output_file.close()"
   ]
  },
  {
   "cell_type": "code",
   "execution_count": null,
   "id": "c6a18412-ffca-47dd-be4e-c22e75f88eb4",
   "metadata": {},
   "outputs": [],
   "source": []
  },
  {
   "cell_type": "code",
   "execution_count": null,
   "id": "9c50ea99-5854-462b-823f-d1fbbaed7942",
   "metadata": {},
   "outputs": [],
   "source": []
  }
 ],
 "metadata": {
  "kernelspec": {
   "display_name": "Python 3 (ipykernel)",
   "language": "python",
   "name": "python3"
  },
  "language_info": {
   "codemirror_mode": {
    "name": "ipython",
    "version": 3
   },
   "file_extension": ".py",
   "mimetype": "text/x-python",
   "name": "python",
   "nbconvert_exporter": "python",
   "pygments_lexer": "ipython3",
   "version": "3.10.5"
  }
 },
 "nbformat": 4,
 "nbformat_minor": 5
}
