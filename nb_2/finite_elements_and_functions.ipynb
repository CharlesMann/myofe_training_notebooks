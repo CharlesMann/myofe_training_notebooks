{
 "cells": [
  {
   "cell_type": "markdown",
   "id": "68a4cd7b-5a7c-456d-8885-4d2808ed55f4",
   "metadata": {},
   "source": [
    "# Finite Elements, Functions and Function Spaces\n",
    "\n",
    "\n",
    "These tutorials will utilize Jupyter notebooks. Jupyter notebooks allow for markdown and code execution to be combined into one document, and are ideal for documentation and reproducibility. They also allow users to look at and experiment with FEniCS code. UFL documentation can be found [here](https://readthedocs.org/projects/fenics-ufl/downloads/pdf/stable/). See p.5 - 9 for discussions about finite elements.\n",
    "\n",
    "In general, the goal is to solve for the displacement at the nodes during each time step that satisfies the balance of linear momentum. To do this we need to do the following:  \n",
    "\n",
    "- Discretize the domain\n",
    "- Describe the finite elements we want to use to solve our problem\n",
    "- Describe the weak form we are trying to solve (and specify boundary conditions that aren't in the weak form. Remember, traction boundary conditions show up in the weak form, essential (displacement) boundary conditions are specified).\n",
    "- Solve and update relevant quantities.\n",
    "\n",
    "Now we can execute python code. This notebook should have been opened within the Jupyter Lab interface, started from the command line in an environment with access to dolfin. Let's start with importing numpy and dolfin:"
   ]
  },
  {
   "cell_type": "code",
   "execution_count": 1,
   "id": "94b14fd0-ea19-4aa9-be99-e7c55db9855d",
   "metadata": {},
   "outputs": [],
   "source": [
    "import dolfin\n",
    "import numpy as np\n",
    "import fenics_plotly\n",
    "\n",
    "# render the plots in this notebook\n",
    "fenics_plotly.set_renderer(\"iframe\")"
   ]
  },
  {
   "cell_type": "markdown",
   "id": "6e58931e-aaaa-4463-8f42-3b713733533b",
   "metadata": {},
   "source": [
    "A quick note about imports. In general, it is good practice to import packages, rather than `from dolfin import *`. Though a bit tedious, just importing packages will force you to precede function calls with the namespace they belong to. There are many overlapping functions between dolfin and ufl, and it is best to know which one you are using.\n",
    "\n",
    "Let's start with a basic built-in unit cube mesh provide by FEniCS:"
   ]
  },
  {
   "cell_type": "code",
   "execution_count": 2,
   "id": "a5d8bc6d-0938-45e8-876e-0a800521728b",
   "metadata": {},
   "outputs": [],
   "source": [
    "mesh = dolfin.UnitCubeMesh(1,1,1)\n",
    "mesh2 = dolfin.UnitCubeMesh(10,8,6)"
   ]
  },
  {
   "cell_type": "markdown",
   "id": "5d493736-5196-46f4-9539-c94ee466efc8",
   "metadata": {},
   "source": [
    "where the inputs define the refinement in the x, y, and z-directions respectively. These meshes can be saved and viewed in Paraview:"
   ]
  },
  {
   "cell_type": "code",
   "execution_count": 3,
   "id": "7100192b-21fc-4b6f-b505-ee3b9ba51019",
   "metadata": {},
   "outputs": [],
   "source": [
    "#File('mesh.pvd') << mesh\n",
    "#File('mesh2.pvd') << mesh2\n",
    "# But I'm not doing that yet, don't want to clutter the repository\n"
   ]
  },
  {
   "cell_type": "code",
   "execution_count": 61,
   "id": "12fce063-229d-4e84-9d70-2ff31194fa58",
   "metadata": {},
   "outputs": [
    {
     "data": {
      "text/html": [
       "<iframe\n",
       "    scrolling=\"no\"\n",
       "    width=\"100%\"\n",
       "    height=\"545px\"\n",
       "    src=\"iframe_figures/figure_61.html\"\n",
       "    frameborder=\"0\"\n",
       "    allowfullscreen\n",
       "></iframe>\n"
      ]
     },
     "metadata": {},
     "output_type": "display_data"
    }
   ],
   "source": [
    "fig1 = fenics_plotly.plot(mesh,color=\"red\",opacity=0.5,show=False)\n",
    "fig2 = fenics_plotly.plot(mesh2,color=\"blue\",opacity=0.25,show=False)\n",
    "fig1.show()"
   ]
  },
  {
   "cell_type": "markdown",
   "id": "26587ca7-7652-4f8c-992d-4840dc2dbf61",
   "metadata": {},
   "source": [
    "Mesh 2 is shown below. Note the refinement in x, y, and z. The rest of this tutorial will use the coarse unit cube mesh."
   ]
  },
  {
   "cell_type": "code",
   "execution_count": 4,
   "id": "0c0dcffc-02f9-46e3-a8f6-9857def99c5f",
   "metadata": {},
   "outputs": [
    {
     "data": {
      "text/html": [
       "<iframe\n",
       "    scrolling=\"no\"\n",
       "    width=\"100%\"\n",
       "    height=\"545px\"\n",
       "    src=\"iframe_figures/figure_4.html\"\n",
       "    frameborder=\"0\"\n",
       "    allowfullscreen\n",
       "></iframe>\n"
      ]
     },
     "metadata": {},
     "output_type": "display_data"
    }
   ],
   "source": [
    "fig2.show()"
   ]
  },
  {
   "cell_type": "markdown",
   "id": "6bea2e79-0e91-46c2-bf75-5336d425a580",
   "metadata": {},
   "source": [
    "Creating a Finite Element\n",
    "--------------------------\n",
    "Now to do anything interesting with our mesh, we need to define what type of finite elements we want to use. First, consider the definition of a finite element (Ciarlet 1975):  \n",
    "\n",
    "*\"A finite element is a triple (T, V, L), where:  \n",
    "       - T is a closed, bounded subset of R^d with nonempty interior\n",
    "         and piecewise smooth boundary.  \n",
    "       - V = V(T) is a finite dimensional function space on T of dimension n  \n",
    "       - L is the set of degrees of freedom (nodes) L = {l1,l2,...,ln} and\n",
    "         is a basis for the dual space V' (space of bounded linear functionals\n",
    "         on V)\"*\n",
    "\n",
    "More concretely, *T* gives us the discretization of our domain, *V* is the function space we use to approximate the solution on each of the subdomains (elements), and *L* is the evaluation of V on the nodes. Creating the unit cube mesh above, we have discretized our domain using tetrahedrons. To form a full finite element, we need to decide on a function space to approximate our solution. Let's start by considering a scalar quantity (say temperature) that we want to approximate as varying linearly within an element, and we want it to be continuous between elements. For this, we would use continuous Lagrange, linear polynomials. To create this type of basic finite element, we use:  "
   ]
  },
  {
   "cell_type": "code",
   "execution_count": 5,
   "id": "ee8ee6a7-e7f0-4bc3-af23-f275adc9a2aa",
   "metadata": {},
   "outputs": [],
   "source": [
    "Q_elem = dolfin.FiniteElement(\"CG\", mesh.ufl_cell(), 1, quad_scheme = \"default\")"
   ]
  },
  {
   "cell_type": "markdown",
   "id": "a08887ef-a80c-4680-bb05-4d35bcca33a1",
   "metadata": {},
   "source": [
    "Where \"CG\" stands for \"Continuous Galerkin\" (continuous between elements), \"mesh.ufl_cell()\" returns \"tetrahedron\", and \"1\" is the order of the polynomial (linear). With a tetrahedral geometry using linear polynomials, our degrees of freedom is the evaluation of the polynomials at the four vertices of the tetrahedron.  \n",
    "\n",
    " For our problem, we are trying to solve for displacement (a vector quantity) that we assume varies quadratically within an element. For this, we will use the quadratic Lagrange polynomials, and the shortcut command \"VectorElement\" which is technically a mixed element where all elements are equal:"
   ]
  },
  {
   "cell_type": "code",
   "execution_count": 6,
   "id": "9569c00f-46be-477f-915d-51adf19265d7",
   "metadata": {},
   "outputs": [],
   "source": [
    "V_elem = dolfin.VectorElement(\"CG\", mesh.ufl_cell(), 2, quad_scheme = \"default\")"
   ]
  },
  {
   "cell_type": "markdown",
   "id": "67e4126c-f865-4808-878b-cbb616bdc675",
   "metadata": {},
   "source": [
    "This is equivalent to declaring a basic quadratic CG element, and using it to declare a mixed element (we will see mixed elements later in our code):"
   ]
  },
  {
   "cell_type": "code",
   "execution_count": 7,
   "id": "3c7c906e-e9da-49f8-947e-f416c71be681",
   "metadata": {},
   "outputs": [],
   "source": [
    "Q_elem2 = dolfin.FiniteElement(\"CG\", mesh.ufl_cell(), 2, quad_scheme = \"default\")\n",
    "V_elem2 = Q_elem2 * Q_elem2 * Q_elem2"
   ]
  },
  {
   "cell_type": "markdown",
   "id": "1ec0313a-180f-4e3f-9ae8-e0c1c570a3cb",
   "metadata": {},
   "source": [
    "Creating a Finite Element Function Space\n",
    "----------------------------------------\n",
    "Defining the finite element gives a description of how the solution will be approximated *locally*, and then using the finite element and mesh we construct a global finite element function space:"
   ]
  },
  {
   "cell_type": "code",
   "execution_count": 8,
   "id": "19925770-3955-4e93-9c5c-e1c134a42dbb",
   "metadata": {},
   "outputs": [
    {
     "name": "stdout",
     "output_type": "stream",
     "text": [
      "Calling FFC just-in-time (JIT) compiler, this may take some time.\n",
      "Calling FFC just-in-time (JIT) compiler, this may take some time.\n",
      "Calling FFC just-in-time (JIT) compiler, this may take some time.\n"
     ]
    }
   ],
   "source": [
    "Q_fcn_space = dolfin.FunctionSpace(mesh,Q_elem)\n",
    "V_fcn_space = dolfin.FunctionSpace(mesh,V_elem)"
   ]
  },
  {
   "cell_type": "markdown",
   "id": "e8108c97-7538-4adb-bf1e-6d57c16e1550",
   "metadata": {},
   "source": [
    "With a basis defined and the function space created, we can interpolate to get values anywhere within out geometry.\n",
    "\n",
    "A quick note: The other type of element we use is called a \"Quadrature Element\". This element is used to obtain values ONLY AT THE ELEMENT QUADRATURE POINTS. In other words, you cannot interpolate using this element to get values at other coordinates. To do that, a projection must be done to a function space using one of the standard elements. MyoSim is solved using a quadrature element.\n",
    "\n",
    "We can now define functions that belong to these finite element function spaces. Functions are useful to store the information we solve for along the way. For example, let's create a function that is meant to hold our displacement solution:  "
   ]
  },
  {
   "cell_type": "code",
   "execution_count": 9,
   "id": "11e0a1b3-6f74-41e1-a1e4-8bf6734ea0f7",
   "metadata": {},
   "outputs": [],
   "source": [
    "u = dolfin.Function(V_fcn_space)"
   ]
  },
  {
   "cell_type": "markdown",
   "id": "d003534c-372e-4ae1-b8c3-84eb33d5e612",
   "metadata": {},
   "source": [
    "u is a FEniCS object, not just an array of numbers. If we want to view the array of function values, or store a copy of the function values, we can do <mark> it looks like .array() may be deprecated in the newer version. Just be consistent with .get_local() </mark>  "
   ]
  },
  {
   "cell_type": "code",
   "execution_count": 10,
   "id": "27ec3dff-e61d-4bcb-973a-388bfda8da4e",
   "metadata": {},
   "outputs": [],
   "source": [
    "u.vector().get_local()\n",
    "temp_u = u.vector().get_local()"
   ]
  },
  {
   "cell_type": "markdown",
   "id": "643cd0c7-9767-4ee2-b430-8c93b7cbe3fe",
   "metadata": {},
   "source": [
    "We could also use the \"get_local()\" method, which gets the function values on the local process if things are being executed in parallel  "
   ]
  },
  {
   "cell_type": "code",
   "execution_count": 49,
   "id": "38e3aaf0-46f9-4416-a569-d8b198b77023",
   "metadata": {},
   "outputs": [
    {
     "data": {
      "text/plain": [
       "array([1., 0., 0., 0., 0., 0., 0., 0., 0., 0., 0., 0., 0., 0., 0., 0., 0.,\n",
       "       0., 0., 0., 0., 0., 0., 0., 0., 0., 0., 0., 0., 0., 0., 0., 0., 0.,\n",
       "       0., 0., 0., 0., 0., 0., 0., 0., 0., 0., 0., 0., 0., 0., 0., 0., 0.,\n",
       "       0., 0., 0., 0., 0., 0., 0., 0., 0., 0., 0., 0., 0., 0., 0., 0., 0.,\n",
       "       0., 0., 0., 0., 0., 0., 0., 0., 0., 0., 0., 0., 0.])"
      ]
     },
     "execution_count": 49,
     "metadata": {},
     "output_type": "execute_result"
    }
   ],
   "source": [
    "u.vector().get_local() #.reshape(27,3)"
   ]
  },
  {
   "cell_type": "markdown",
   "id": "671eb5bc-c79b-4632-a359-4cf6734e33f2",
   "metadata": {},
   "source": [
    "Let's just do a quick sanity check to verify the number of elements of our temp_u array. The function u belongs to a vector function space in our three dimensional mesh. Thus, for each node there should be three components (x, y, and z). We are using a basic unit cube mesh with refinement one, and quadratic tets. Thus there is a node at each vertex of a tetrahedron, and also at each midpoint. This leads to 27 nodes, each with 3 components, thus 81 elements in our temp_u array."
   ]
  },
  {
   "cell_type": "code",
   "execution_count": 13,
   "id": "d00276d2-3cd9-429d-a26d-b5ac74c6bcf0",
   "metadata": {},
   "outputs": [
    {
     "data": {
      "text/plain": [
       "(81,)"
      ]
     },
     "execution_count": 13,
     "metadata": {},
     "output_type": "execute_result"
    }
   ],
   "source": [
    "np.shape(u.vector().get_local())"
   ]
  },
  {
   "cell_type": "markdown",
   "id": "9ec073d2-6db1-4f36-a1de-a11261233818",
   "metadata": {},
   "source": [
    "Now we can see function values, but for them to be useful we need a mapping between the indices of temp_u, and the coordinates of our mesh. Let's create that mapping:"
   ]
  },
  {
   "cell_type": "code",
   "execution_count": 43,
   "id": "a52a4677-00ef-4f69-8904-a27f2063d973",
   "metadata": {},
   "outputs": [
    {
     "data": {
      "text/plain": [
       "(8, 3)"
      ]
     },
     "execution_count": 43,
     "metadata": {},
     "output_type": "execute_result"
    }
   ],
   "source": [
    "gdim = mesh.geometry().dim() # get the dimension of our mesh. Will take on value of 3 for 3-dimensional mesh\n",
    "V_dofmap = V_fcn_space.tabulate_dof_coordinates().reshape((-1,gdim)) # mapping comes from the function space\n",
    "Q_dofmap = Q_fcn_space.tabulate_dof_coordinates().reshape((-1,gdim)) # Q is scalar function space, using only tet vertices\n",
    "#V_dofmap\n",
    "#Q_dofmap\n",
    "np.shape(Q_dofmap)\n",
    "#np.shape(V_dofmap)"
   ]
  },
  {
   "cell_type": "markdown",
   "id": "5eb9411a-5951-4c3f-94e1-8715bfa0656b",
   "metadata": {},
   "source": [
    "Notice the shape of Q_dofmap is (8,3). Since it's a scalar function space using linear tets, there should only be one value at each vertex (the four corners of the cube). Indeed, looking at Q_dofmap, it's a list of the coordinates representing the corners of the cube.\n",
    "\n",
    "Assigning Function Values\n",
    "------------------------\n",
    "Let's create two functions on Q_fcn_space that are easier to deal with:"
   ]
  },
  {
   "cell_type": "code",
   "execution_count": 24,
   "id": "f5dc0220-178f-4a3e-aa04-abe97542f5f3",
   "metadata": {},
   "outputs": [],
   "source": [
    "alpha = dolfin.Function(Q_fcn_space)\n",
    "beta = dolfin.Function(Q_fcn_space)"
   ]
  },
  {
   "cell_type": "markdown",
   "id": "45435520-2202-4dfc-944a-ca89ca04c37d",
   "metadata": {},
   "source": [
    "There are a couple of ways to assign function values. You can change the elements of the function's .vector() attribute directly, or use the assign() function.  \n",
    "You can assign individual elements of alpha (representing the function value at a specific vertex):  "
   ]
  },
  {
   "cell_type": "code",
   "execution_count": 40,
   "id": "ff6854d3-a0b9-4cea-8bf5-9a6556f23e48",
   "metadata": {},
   "outputs": [],
   "source": [
    "alpha.vector()[4] = 4.0"
   ]
  },
  {
   "cell_type": "markdown",
   "id": "8dbce7a4-7662-4ed8-b38a-3b3d438d428e",
   "metadata": {},
   "source": [
    "Looking back at the Q_dofmap, we just assigned alpha to take on the value of 4.0 at the coordinate [0.,0.,0.]. Let's take a look at this function in Paraview to verify this.  "
   ]
  },
  {
   "cell_type": "code",
   "execution_count": 38,
   "id": "88e7d575-dfb6-460e-ad9f-73c0eae4d774",
   "metadata": {},
   "outputs": [
    {
     "data": {
      "text/html": [
       "<iframe\n",
       "    scrolling=\"no\"\n",
       "    width=\"100%\"\n",
       "    height=\"545px\"\n",
       "    src=\"iframe_figures/figure_38.html\"\n",
       "    frameborder=\"0\"\n",
       "    allowfullscreen\n",
       "></iframe>\n"
      ]
     },
     "metadata": {},
     "output_type": "display_data"
    }
   ],
   "source": [
    "fig3 = fenics_plotly.plot(alpha,show=False)\n",
    "fig3.show()\n",
    "#alpha_file = File(\"alpha.pvd\") # create paraview file\n",
    "#alpha_file << alpha # save the function to the file"
   ]
  },
  {
   "cell_type": "markdown",
   "id": "b963aff1-aebc-486c-b20a-78d4a5a3b008",
   "metadata": {},
   "source": [
    "This verifies the assignment we have performed. Also note that because Q_fcn_space uses linear polynomials, alpha varies linearly from 4.0 at the origin, to 0.0 at the other vertices. We can also check the value of alpha at different points throughout our mesh. For this, we need to create a \"point\" object:  "
   ]
  },
  {
   "cell_type": "code",
   "execution_count": 35,
   "id": "432f907c-f100-4b50-bc22-33b1f94b9989",
   "metadata": {},
   "outputs": [
    {
     "data": {
      "text/plain": [
       "4.0"
      ]
     },
     "execution_count": 35,
     "metadata": {},
     "output_type": "execute_result"
    }
   ],
   "source": [
    "p = dolfin.Point(0.0,1.0,1.0)\n",
    "alpha(p)"
   ]
  },
  {
   "cell_type": "markdown",
   "id": "404374b6-ce5a-4d73-9f6c-a6e9ff18fe11",
   "metadata": {},
   "source": [
    "evaluates alpha at the point p (where we assigned alpha), which comes out to 4. We can evaluate anywhere in the cube:"
   ]
  },
  {
   "cell_type": "code",
   "execution_count": 36,
   "id": "b0e5d482-68f5-4159-870c-5fadbe25be19",
   "metadata": {},
   "outputs": [
    {
     "data": {
      "text/plain": [
       "2.0000000000000004"
      ]
     },
     "execution_count": 36,
     "metadata": {},
     "output_type": "execute_result"
    }
   ],
   "source": [
    "p1 = dolfin.Point(0.0,1.0,0.5) # along one edge\n",
    "alpha(p1)"
   ]
  },
  {
   "cell_type": "markdown",
   "id": "6a581786-2529-47fd-a808-f21aaac07c5f",
   "metadata": {},
   "source": [
    "We can also assign the full array of alpha values:"
   ]
  },
  {
   "cell_type": "code",
   "execution_count": 39,
   "id": "7d439eda-82c5-4f1a-8ab7-e54a9dd67967",
   "metadata": {},
   "outputs": [
    {
     "data": {
      "text/plain": [
       "array([0.        , 1.14285714, 2.28571429, 3.42857143, 4.57142857,\n",
       "       5.71428571, 6.85714286, 8.        ])"
      ]
     },
     "execution_count": 39,
     "metadata": {},
     "output_type": "execute_result"
    }
   ],
   "source": [
    "temp_alpha_values = np.linspace(0,np.shape(alpha.vector().get_local())[0],np.shape(alpha.vector().get_local())[0])\n",
    "alpha.vector()[:] = temp_alpha_values\n",
    "#alpha.vector()[:]\n",
    "#alpha_file = File(\"alpha.pvd\")\n",
    "#alpha_file << alpha"
   ]
  },
  {
   "cell_type": "markdown",
   "id": "392f7529-50a5-4374-bbf6-2b3723d593ad",
   "metadata": {},
   "source": [
    "Finally, we can assign one function to take on the value of another:"
   ]
  },
  {
   "cell_type": "code",
   "execution_count": 24,
   "id": "6a57b9ab-bbdc-417e-b500-d86c8f20c7f4",
   "metadata": {},
   "outputs": [],
   "source": [
    "dolfin.assign(alpha,beta) #beta was initialized to zero, so we've reset alpha to be all zeros as well"
   ]
  },
  {
   "cell_type": "markdown",
   "id": "2addaff8-5a41-417d-a71a-ce9ae5dc550d",
   "metadata": {},
   "source": [
    "\n",
    "It is encouraged to play with creating and assigning different function values to get used to using the degree of freedom mapping. It is also encouraged to create a new function space using discontinuous (DG) Lagrange elements (both of order 0 and 1), and to visualize your functions in ParaView to see if they match what you expect.  \n",
    "Some final notes:  \n",
    "- ParaView does not visualize above linear projections. In FEniCS, it is valid to create a scalar function space using continuous quadratic polynomials (\"CG2\"), but saving the function to a ParaView file will only save a CG1 projection.\n",
    "- In our version of FEniCS, visualization at the integration points for quadrature elements is not implemented. This requires projecting from the quadrature function space to one of the others for visualization which may introduce errors. More of this will be discussed in a later tutorial."
   ]
  },
  {
   "cell_type": "markdown",
   "id": "54c34beb-a3bd-404b-8c7f-69fdeffaccf2",
   "metadata": {},
   "source": [
    "It is more often the case that function values are assigned based on mathematical relationship, for example the stretch calculated from the Cauchy stretch tensor. This is one of the great things about FEniCS. One can (with things properly initialized) assign the relationship:"
   ]
  },
  {
   "cell_type": "code",
   "execution_count": 47,
   "id": "fc5efc24-ea0c-436f-a8b7-efe1e49aa051",
   "metadata": {},
   "outputs": [
    {
     "name": "stdout",
     "output_type": "stream",
     "text": [
      "[[1. 0. 0.]\n",
      " [1. 0. 0.]\n",
      " [1. 0. 0.]\n",
      " [1. 0. 0.]\n",
      " [1. 0. 0.]\n",
      " [1. 0. 0.]\n",
      " [1. 0. 0.]\n",
      " [1. 0. 0.]\n",
      " [1. 0. 0.]\n",
      " [1. 0. 0.]\n",
      " [1. 0. 0.]\n",
      " [1. 0. 0.]\n",
      " [1. 0. 0.]\n",
      " [1. 0. 0.]\n",
      " [1. 0. 0.]\n",
      " [1. 0. 0.]\n",
      " [1. 0. 0.]\n",
      " [1. 0. 0.]\n",
      " [1. 0. 0.]\n",
      " [1. 0. 0.]\n",
      " [1. 0. 0.]\n",
      " [1. 0. 0.]\n",
      " [1. 0. 0.]\n",
      " [1. 0. 0.]\n",
      " [1. 0. 0.]\n",
      " [1. 0. 0.]\n",
      " [1. 0. 0.]]\n"
     ]
    }
   ],
   "source": [
    "# f0 may have not been created above\n",
    "# Let's create a vector valued function to hold the fiber direction\n",
    "f0 = dolfin.Function(V_fcn_space) #later these will be defined at the quadrature points, for now at nodes\n",
    "# Initialize f0 to be coincident with the x-direction\n",
    "\n",
    "for i in np.arange(int(np.shape(f0.vector())[0]/3.0)):\n",
    "    f0.vector()[i*3] = 1.0\n",
    "# the vectors representing f0\n",
    "print(f0.vector().get_local().reshape(27,3))"
   ]
  },
  {
   "cell_type": "code",
   "execution_count": 51,
   "id": "71f23c46-ddff-40f6-a573-c6044542342f",
   "metadata": {},
   "outputs": [],
   "source": [
    "#alpha = dolfin.sqrt(dolfin.dot(f0, Cmat*f0))\n",
    "#and as f0 (fiber direction) and the right Cauchy tensor are updated, alpha will be updated throughout the mesh as well.\n"
   ]
  },
  {
   "cell_type": "markdown",
   "id": "3f6631d9-7db9-4d7b-b31a-7e67be032ed4",
   "metadata": {},
   "source": [
    "<mark> Advise user to play around with different projections? </mark>"
   ]
  },
  {
   "cell_type": "code",
   "execution_count": 46,
   "id": "8c395d8f-a26b-4169-b5db-484988407741",
   "metadata": {},
   "outputs": [
    {
     "data": {
      "text/plain": [
       "array([1., 0., 0., 0., 0., 0., 0., 0., 0., 0., 0., 0., 0., 0., 0., 0., 0.,\n",
       "       0., 0., 0., 0., 0., 0., 0., 0., 0., 0., 0., 0., 0., 0., 0., 0., 0.,\n",
       "       0., 0., 0., 0., 0., 0., 0., 0., 0., 0., 0., 0., 0., 0., 0., 0., 0.,\n",
       "       0., 0., 0., 0., 0., 0., 0., 0., 0., 0., 0., 0., 0., 0., 0., 0., 0.,\n",
       "       0., 0., 0., 0., 0., 0., 0., 0., 0., 0., 0., 0., 0.])"
      ]
     },
     "execution_count": 46,
     "metadata": {},
     "output_type": "execute_result"
    }
   ],
   "source": [
    "u.vector()[0]=1.0\n",
    "u.vector()[:]"
   ]
  },
  {
   "cell_type": "code",
   "execution_count": 69,
   "id": "1e6ae03b-1e96-40a0-a8b2-a8655e198ffe",
   "metadata": {},
   "outputs": [],
   "source": [
    "Q_elemDG = dolfin.FiniteElement(\"DG\", mesh.ufl_cell(), 1, quad_scheme = \"default\")\n",
    "Q_DG_fcn_space = dolfin.FunctionSpace(mesh,Q_elemDG)\n",
    "alphaDG = dolfin.Function(Q_DG_fcn_space)\n"
   ]
  },
  {
   "cell_type": "code",
   "execution_count": 70,
   "id": "46d7b808-3a89-41f3-93f7-cba1bec06835",
   "metadata": {},
   "outputs": [
    {
     "data": {
      "text/html": [
       "<iframe\n",
       "    scrolling=\"no\"\n",
       "    width=\"100%\"\n",
       "    height=\"545px\"\n",
       "    src=\"iframe_figures/figure_70.html\"\n",
       "    frameborder=\"0\"\n",
       "    allowfullscreen\n",
       "></iframe>\n"
      ]
     },
     "metadata": {},
     "output_type": "display_data"
    }
   ],
   "source": [
    "alphaDG.vector()[4] = 4.0\n",
    "fig4 = fenics_plotly.plot(alphaDG,show=False)\n",
    "fig4.show()\n"
   ]
  },
  {
   "cell_type": "code",
   "execution_count": 71,
   "id": "12d63a7b-726e-45af-acb9-d3c47c7ff863",
   "metadata": {},
   "outputs": [
    {
     "data": {
      "text/plain": [
       "0.0"
      ]
     },
     "execution_count": 71,
     "metadata": {},
     "output_type": "execute_result"
    }
   ],
   "source": [
    "p2 = dolfin.Point(0.5,0.0,0.0) # along one edge\n",
    "alphaDG(p2)"
   ]
  },
  {
   "cell_type": "code",
   "execution_count": 72,
   "id": "006f026b-df68-4804-b0b2-8a277a01eb89",
   "metadata": {},
   "outputs": [
    {
     "data": {
      "text/plain": [
       "2.0"
      ]
     },
     "execution_count": 72,
     "metadata": {},
     "output_type": "execute_result"
    }
   ],
   "source": [
    "p3 = dolfin.Point(1.0,0.0,0.5) # along one edge\n",
    "alphaDG(p3)"
   ]
  },
  {
   "cell_type": "code",
   "execution_count": 73,
   "id": "30e1587e-f86d-473c-ba73-23ad10596389",
   "metadata": {},
   "outputs": [
    {
     "data": {
      "text/plain": [
       "0.0"
      ]
     },
     "execution_count": 73,
     "metadata": {},
     "output_type": "execute_result"
    }
   ],
   "source": [
    "p4 = dolfin.Point(1.0,0.5,0.0) # along one edge\n",
    "alphaDG(p4)"
   ]
  },
  {
   "cell_type": "code",
   "execution_count": null,
   "id": "471115fc-7c44-41ba-b97f-ffcc2a820d2d",
   "metadata": {},
   "outputs": [],
   "source": []
  }
 ],
 "metadata": {
  "kernelspec": {
   "display_name": "Python 3 (ipykernel)",
   "language": "python",
   "name": "python3"
  },
  "language_info": {
   "codemirror_mode": {
    "name": "ipython",
    "version": 3
   },
   "file_extension": ".py",
   "mimetype": "text/x-python",
   "name": "python",
   "nbconvert_exporter": "python",
   "pygments_lexer": "ipython3",
   "version": "3.10.5"
  }
 },
 "nbformat": 4,
 "nbformat_minor": 5
}
