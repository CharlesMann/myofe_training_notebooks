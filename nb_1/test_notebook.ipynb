{
 "cells": [
  {
   "cell_type": "markdown",
   "id": "def5dd7c-5cb2-4203-aac0-d8f6d4ba7396",
   "metadata": {},
   "source": [
    "This is a test notebook. Here is some _markdown_ "
   ]
  },
  {
   "cell_type": "code",
   "execution_count": 3,
   "id": "4badf7aa-dbad-43f7-bf2f-20614245216a",
   "metadata": {},
   "outputs": [],
   "source": [
    "# and here is a code block\n",
    "import dolfin\n",
    "import fenics_plotly\n",
    "\n",
    "# render information for fenics_plotly"
   ]
  },
  {
   "cell_type": "code",
   "execution_count": 4,
   "id": "434f22e7-a7b1-43c3-a27b-e6bb2aafaf67",
   "metadata": {},
   "outputs": [],
   "source": [
    "mesh = dolfin.UnitCubeMesh(1,1,1)"
   ]
  },
  {
   "cell_type": "code",
   "execution_count": 6,
   "id": "8ddb0392-5465-45de-b4cf-e0a0e252ed13",
   "metadata": {},
   "outputs": [],
   "source": [
    "fig = fenics_plotly.plot(mesh,color='red',opacity=0.5,show=False)"
   ]
  },
  {
   "cell_type": "code",
   "execution_count": 7,
   "id": "0dc65709-05bc-424f-9fde-29e150f0d718",
   "metadata": {},
   "outputs": [],
   "source": [
    "fig.show()"
   ]
  },
  {
   "cell_type": "code",
   "execution_count": null,
   "id": "581a21d5-d676-4a10-a9ac-dbbda963ed81",
   "metadata": {},
   "outputs": [],
   "source": []
  }
 ],
 "metadata": {
  "kernelspec": {
   "display_name": "Python 3 (ipykernel)",
   "language": "python",
   "name": "python3"
  },
  "language_info": {
   "codemirror_mode": {
    "name": "ipython",
    "version": 3
   },
   "file_extension": ".py",
   "mimetype": "text/x-python",
   "name": "python",
   "nbconvert_exporter": "python",
   "pygments_lexer": "ipython3",
   "version": "3.10.4"
  }
 },
 "nbformat": 4,
 "nbformat_minor": 5
}
