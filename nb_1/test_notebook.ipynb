{
 "cells": [
  {
   "cell_type": "markdown",
   "id": "def5dd7c-5cb2-4203-aac0-d8f6d4ba7396",
   "metadata": {},
   "source": [
    "This is a test notebook. Here is some _markdown_ "
   ]
  },
  {
   "cell_type": "code",
   "execution_count": 3,
   "id": "4badf7aa-dbad-43f7-bf2f-20614245216a",
   "metadata": {},
   "outputs": [],
   "source": [
    "# and here is a code block\n",
    "import dolfin\n",
    "import fenics_plotly\n",
    "\n",
    "# render information for fenics_plotly"
   ]
  },
  {
   "cell_type": "code",
   "execution_count": 4,
   "id": "434f22e7-a7b1-43c3-a27b-e6bb2aafaf67",
   "metadata": {},
   "outputs": [],
   "source": [
    "mesh = dolfin.UnitCubeMesh(1,1,1)"
   ]
  },
  {
   "cell_type": "code",
   "execution_count": 6,
   "id": "8ddb0392-5465-45de-b4cf-e0a0e252ed13",
   "metadata": {},
   "outputs": [],
   "source": [
    "fig = fenics_plotly.plot(mesh,color='red',opacity=0.5,show=False)"
   ]
  },
  {
   "cell_type": "code",
   "execution_count": 7,
   "id": "0dc65709-05bc-424f-9fde-29e150f0d718",
   "metadata": {},
   "outputs": [],
   "source": [
    "fig.show()"
   ]
  },
  {
   "cell_type": "code",
   "execution_count": null,
   "id": "581a21d5-d676-4a10-a9ac-dbbda963ed81",
   "metadata": {},
   "outputs": [],
   "source": []
  },
  {
   "cell_type": "code",
   "execution_count": 1,
   "id": "c31d14c0-8dab-47b0-b56c-a5fe5be8d641",
   "metadata": {},
   "outputs": [
    {
     "ename": "ModuleNotFoundError",
     "evalue": "No module named 'dolfin'",
     "output_type": "error",
     "traceback": [
      "\u001b[0;31m---------------------------------------------------------------------------\u001b[0m",
      "\u001b[0;31mModuleNotFoundError\u001b[0m                       Traceback (most recent call last)",
      "\u001b[0;32m/tmp/ipykernel_9467/1161701704.py\u001b[0m in \u001b[0;36m<module>\u001b[0;34m\u001b[0m\n\u001b[0;32m----> 1\u001b[0;31m \u001b[0;32mimport\u001b[0m \u001b[0mdolfin\u001b[0m\u001b[0;34m\u001b[0m\u001b[0;34m\u001b[0m\u001b[0m\n\u001b[0m\u001b[1;32m      2\u001b[0m \u001b[0;32mimport\u001b[0m \u001b[0mfenics_ploty\u001b[0m\u001b[0;34m\u001b[0m\u001b[0;34m\u001b[0m\u001b[0m\n",
      "\u001b[0;31mModuleNotFoundError\u001b[0m: No module named 'dolfin'"
     ]
    }
   ],
   "source": [
    "import dolfin\n",
    "import fenics_ploty"
   ]
  },
  {
   "cell_type": "code",
   "execution_count": 2,
   "id": "59a8b19b-c399-4f49-9777-66b7b67b94e7",
   "metadata": {},
   "outputs": [
    {
     "data": {
      "text/plain": [
       "2"
      ]
     },
     "execution_count": 2,
     "metadata": {},
     "output_type": "execute_result"
    }
   ],
   "source": [
    "1+1"
   ]
  },
  {
   "cell_type": "code",
   "execution_count": 2,
   "id": "085e462a-e369-4b0e-ad75-fbcead206bce",
   "metadata": {},
   "outputs": [],
   "source": [
    "import dolfin\n",
    "import fenics_plotly"
   ]
  },
  {
   "cell_type": "code",
   "execution_count": 3,
   "id": "339cc3c3-eb2b-4b6b-a03f-28c427fd3156",
   "metadata": {},
   "outputs": [],
   "source": [
    "mesh = dolfin.UnitCubeMesh(1,1,1)"
   ]
  },
  {
   "cell_type": "code",
   "execution_count": 4,
   "id": "6c71beeb-fd98-4075-be4b-51c2f8db3c81",
   "metadata": {},
   "outputs": [],
   "source": [
    "fig = fenics_plotly.plot(mesh,color='red',opacity=0.5,show=False)"
   ]
  },
  {
   "cell_type": "code",
   "execution_count": 5,
   "id": "55b08304-4be8-434a-a691-35db406461e8",
   "metadata": {},
   "outputs": [],
   "source": [
    "fig.show()"
   ]
  },
  {
   "cell_type": "code",
   "execution_count": null,
   "id": "0defaa2f-ceb6-4255-b7c9-b7cf9b9a6cb9",
   "metadata": {},
   "outputs": [],
   "source": []
  }
 ],
 "metadata": {
  "kernelspec": {
   "display_name": "Python 3 (ipykernel)",
   "language": "python",
   "name": "python3"
  },
  "language_info": {
   "codemirror_mode": {
    "name": "ipython",
    "version": 3
   },
   "file_extension": ".py",
   "mimetype": "text/x-python",
   "name": "python",
   "nbconvert_exporter": "python",
   "pygments_lexer": "ipython3",
   "version": "3.10.5"
  }
 },
 "nbformat": 4,
 "nbformat_minor": 5
}
