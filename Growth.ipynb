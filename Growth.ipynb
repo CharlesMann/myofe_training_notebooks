{
 "cells": [
  {
   "cell_type": "code",
   "execution_count": 39,
   "id": "eb328d23-fe67-4c3b-be4b-73cf708b0388",
   "metadata": {},
   "outputs": [],
   "source": [
    "import dolfin\n",
    "import numpy as np\n",
    "import fenics_plotly\n",
    "import matplotlib.pyplot as plt"
   ]
  },
  {
   "cell_type": "code",
   "execution_count": 40,
   "id": "8f97123e-b6a9-4649-89b0-5a74bcb69e32",
   "metadata": {},
   "outputs": [],
   "source": [
    "dolfin.set_log_level(30)\n",
    "fenics_plotly.set_renderer(\"iframe\")\n",
    "output_file = dolfin.XDMFFile('deformation.xdmf')\n",
    "deg = 2\n",
    "dolfin.parameters[\"form_compiler\"][\"quadrature_degree\"]=deg\n",
    "dolfin.parameters[\"form_compiler\"][\"representation\"] = \"uflacs\"\n",
    "\n",
    "# First, the mesh\n",
    "mesh = dolfin.UnitCubeMesh(1,1,1)\n",
    "original_mesh = dolfin.UnitCubeMesh(1,1,1)\n",
    "original_traction_mesh = dolfin.UnitCubeMesh(1,1,1)"
   ]
  },
  {
   "cell_type": "code",
   "execution_count": 41,
   "id": "0e54c4a3-eea7-4f56-9049-7cb54488f07f",
   "metadata": {},
   "outputs": [],
   "source": [
    "# I'm going to pre-define some functions that will be useful later, and keep things less cluttered\n",
    "def calculate_reaction_force(Ftotal, dirichlet_bcs, x_dofs):\n",
    "    \n",
    "    \"\"\" Calculate reaction force on cube on left face. Negates it to give rxn on right face\n",
    "    \n",
    "    :Ftotal: weak form\n",
    "    :dirichlet_bcs: list of dirichlet boundary conditions\n",
    "    :x_dofs: degree of freedoms in x-direction from vector element\n",
    "    \n",
    "    return: scalar reaction force on right cube face in x-direction\n",
    "    \"\"\"\n",
    "    \n",
    "    b = dolfin.assemble(Ftotal)\n",
    "    for boundary_condition_i in np.arange(np.shape(dirichlet_bcs)[0]-1):\n",
    "        dirichlet_bcs[boundary_condition_i+1].apply(b)\n",
    "    f_int_total = b.copy()\n",
    "    rxn_force=0.0\n",
    "    for kk in x_dofs:\n",
    "        rxn_force += f_int_total[kk]\n",
    "        \n",
    "    return -1.0*rxn_force\n",
    "\n",
    "def calculate_pk2_stress(W_passive, E_comp, lcs):\n",
    "    \n",
    "    \"\"\" Return 2nd Piola Kirchhoff stress in fiber direction.\n",
    "    \n",
    "    :W_passive: strain energy function defined in terms of local coordinates\n",
    "    :E_comp: list, Green-Lagrange strain transformed into local coordinates\n",
    "    :lcs: list, local coordinate system vectors\n",
    "    \n",
    "    return: scalar stress in fiber direction\n",
    "    \"\"\"\n",
    "    \n",
    "    f0 = lcs[0]\n",
    "    s0 = lcs[1]\n",
    "    n0 = lcs[2]\n",
    "    \n",
    "    Eff = E_comp[0]\n",
    "    Efs = E_comp[1]\n",
    "    Efn = E_comp[2]\n",
    "    Esf = E_comp[3]\n",
    "    Ess = E_comp[4]\n",
    "    Esn = E_comp[5]\n",
    "    Enf = E_comp[6]\n",
    "    Ens = E_comp[7]\n",
    "    Enn = E_comp[8]\n",
    "    \n",
    "    # doing this differentiation separately for each tensor component\n",
    "    S_local = (dolfin.diff(W_passive,Eff)*dolfin.outer(f0,f0) + dolfin.diff(W_passive,Efs)*dolfin.outer(f0,s0) \n",
    "            + dolfin.diff(W_passive,Efn)*dolfin.outer(f0,n0,) + dolfin.diff(W_passive,Esf)*dolfin.outer(s0,f0) \n",
    "            + dolfin.diff(W_passive,Ess)*dolfin.outer(s0,s0) + dolfin.diff(W_passive,Esn)*dolfin.outer(s0,n0) \n",
    "            + dolfin.diff(W_passive,Enf)*dolfin.outer(n0,f0) + dolfin.diff(W_passive,Ens)*dolfin.outer(n0,s0) \n",
    "            + dolfin.diff(W_passive,Enn)*dolfin.outer(n0,n0))\n",
    "    \n",
    "    \n",
    "    \n",
    "    \n",
    "    \n",
    "    \n",
    "    S_f = dolfin.inner(f0,S_local*f0)\n",
    "    pk2_stress_fiber = dolfin.project(S_f,dolfin.FunctionSpace(mesh,\"DG\",1)).vector().get_local()[0] #homogeneous, just picking first value\n",
    "    \n",
    "    return pk2_stress_fiber\n",
    "\n"
   ]
  },
  {
   "cell_type": "code",
   "execution_count": 42,
   "id": "50e237a3-0b52-43f9-ba4c-6e996de3169e",
   "metadata": {},
   "outputs": [],
   "source": [
    "# Set up elements and spaces for the problem\n",
    "Velem = dolfin.VectorElement(\"CG\", mesh.ufl_cell(), 2, quad_scheme=\"default\")\n",
    "\n",
    "# For hydrostatic pressure (enforcing incompressibility)\n",
    "Qelem = dolfin.FiniteElement(\"CG\", mesh.ufl_cell(), 1, quad_scheme=\"default\")\n",
    "\n",
    "# Mixed element\n",
    "W = dolfin.FunctionSpace(mesh, dolfin.MixedElement([Velem, Qelem]))\n",
    "x_dofs = W.sub(0).sub(0).dofmap().dofs() # for calculating reaction force\n",
    "\n",
    "# For the weak form\n",
    "w = dolfin.Function(W)\n",
    "dw = dolfin.TrialFunction(W)\n",
    "wtest = dolfin.TestFunction(W)\n",
    "\n",
    "du, dp = dolfin.TrialFunctions(W)\n",
    "u, p = dolfin.split(w)\n",
    "v, q = dolfin.TestFunctions(W)"
   ]
  },
  {
   "cell_type": "code",
   "execution_count": 43,
   "id": "82cf5994-65c6-44bb-acd3-d835f8a23ff6",
   "metadata": {},
   "outputs": [],
   "source": [
    "# Let's create a local coordinate system for the cube. Could use vectors, but going to define them as would be seen for a ventricle\n",
    "V_space = dolfin.FunctionSpace(mesh,Velem)\n",
    "\n",
    "f0 = dolfin.Function(V_space) # coincident with x-axis\n",
    "s0 = dolfin.Function(V_space) # coincident with y-axis\n",
    "n0 = dolfin.Function(V_space) # coincident with z-axis\n",
    "\n",
    "for i in np.arange(np.shape(f0.vector())[0]/3.0):\n",
    "    f0.vector()[3*i] = 1.0\n",
    "    s0.vector()[3*i+1] = 1.0\n",
    "    n0.vector()[3*i+2] = 1.0"
   ]
  },
  {
   "cell_type": "code",
   "execution_count": 44,
   "id": "5d3c3d3d-a057-4d82-af8e-73b1211815f1",
   "metadata": {},
   "outputs": [],
   "source": [
    "# Boundary conditions. Traction will be applied to right face\n",
    "# Allowing uniform expansion in y and z for uniform motion due to incompressibility\n",
    "\n",
    "# Set up classes for Dirichlet boundary conditions\n",
    "class Left(dolfin.SubDomain):\n",
    "    def inside(self, x, on_boundary):\n",
    "        tol = 1E-14\n",
    "        return on_boundary and abs(x[0]) < tol\n",
    "\n",
    "class Lower(dolfin.SubDomain):\n",
    "    def inside(self, x, on_boundary):\n",
    "        tol = 1E-14\n",
    "        return on_boundary and abs(x[2]) < tol\n",
    "\n",
    "class Fix(dolfin.SubDomain):\n",
    "    def inside(self, x, on_boundary):\n",
    "        tol = 1E-14\n",
    "        return (dolfin.near(x[0],0.0,tol) and dolfin.near(x[1],0.0,tol) and dolfin.near(x[2],0.0,tol))\n",
    "    \n",
    "class Right(dolfin.SubDomain):\n",
    "    def inside(self, x, on_boundary):\n",
    "        tol = 1E-14\n",
    "        return on_boundary and abs(x[0] - 1.0) < tol\n",
    "\n",
    "facetboundaries = dolfin.MeshFunction('size_t', mesh, mesh.topology().dim()-1)\n",
    "facetboundaries.set_all(0)\n",
    "\n",
    "N = dolfin.FacetNormal(mesh)\n",
    "ds = dolfin.ds(subdomain_data = facetboundaries)\n",
    "dx = dolfin.dx(mesh,metadata = {\"integration_order\":2})\n",
    "\n",
    "left  = Left()\n",
    "lower = Lower()\n",
    "fix   = Fix()\n",
    "right = Right()\n",
    "\n",
    "left.mark(facetboundaries, 1)\n",
    "lower.mark(facetboundaries, 2)\n",
    "fix.mark(facetboundaries, 3)\n",
    "right.mark(facetboundaries, 4)\n",
    "\n",
    "# Constrain left face in x\n",
    "bc_left  = dolfin.DirichletBC(W.sub(0).sub(0), dolfin.Constant((0.0)), facetboundaries, 1)\n",
    "# Constrain lower face in z\n",
    "bc_lower = dolfin.DirichletBC(W.sub(0).sub(2), dolfin.Constant((0.0)), facetboundaries, 2)\n",
    "# Fixing point at origin to prevent rigid body translation\n",
    "bc_fix   = dolfin.DirichletBC(W.sub(0), dolfin.Constant((0.0, 0.0, 0.0)), fix, method=\"pointwise\")\n",
    "dirichlet_bcs = [bc_left, bc_lower, bc_fix]"
   ]
  },
  {
   "cell_type": "code",
   "execution_count": 45,
   "id": "6c98402c-2bf4-4c51-97a1-04e336a1f2ce",
   "metadata": {},
   "outputs": [],
   "source": [
    "tensorFS = dolfin.TensorFunctionSpace(mesh,\"DG\",1)\n",
    "M1 = dolfin.outer(f0,f0)\n",
    "M2 = dolfin.outer(s0,s0)\n",
    "M3 = dolfin.outer(n0,n0)\n",
    "\n",
    "# Using a DG1 space for the thetas. I suppose this depends on how you expect your stimulus to behave within/across elements\n",
    "theta_FS = dolfin.FunctionSpace(mesh,\"DG\",1)\n",
    "theta_f = dolfin.Function(theta_FS)\n",
    "theta_s = dolfin.Function(theta_FS)\n",
    "theta_n = dolfin.Function(theta_FS)\n",
    "\n",
    "# Initialize thetas to one, so that Fg is initialized to be the identity tensor\n",
    "theta_f.vector()[:] = 1.0\n",
    "theta_s.vector()[:] = 1.0\n",
    "theta_n.vector()[:] = 1.0\n",
    "    \n",
    "F_g = theta_f*M1 + theta_s*M2 + theta_n*M3"
   ]
  },
  {
   "cell_type": "code",
   "execution_count": 46,
   "id": "667de324-e868-4978-8a7c-a86de28a81e9",
   "metadata": {},
   "outputs": [],
   "source": [
    "# Now define F and Fe\n",
    "dim = u.ufl_domain().geometric_dimension()\n",
    "I = dolfin.Identity(dim)\n",
    "F = I + dolfin.grad(u)\n",
    "F_e = F*dolfin.inv(F_g) # Now, if F_g is updated, for a given F, F_e can be calculated\n",
    "J = dolfin.det(F_e) # We want the elastic deformation to be volume preserving, but not the growth from F_g. This may have implications for growth \n",
    "# without resetting the reference configuration, haven't thought much about that.\n",
    "\n",
    "# Green-Lagrangian Strain tensor based on F_e\n",
    "E = 0.5*(F_e.T*F_e - I)\n"
   ]
  },
  {
   "cell_type": "code",
   "execution_count": 47,
   "id": "11435ba0-f537-4ee8-b90b-c216aa32b2e1",
   "metadata": {},
   "outputs": [],
   "source": [
    "#Now let's set up the weak form\n",
    "W_incompressible = -p*(J - 1.0)\n",
    "\n",
    "# Guccione law\n",
    "\n",
    "# Get strain in terms of local coordinates\n",
    "Eff = dolfin.variable(dolfin.inner(f0, E*f0))\n",
    "Ess = dolfin.variable(dolfin.inner(s0, E*s0))\n",
    "Enn = dolfin.variable(dolfin.inner(n0, E*n0))\n",
    "Efs = dolfin.variable(dolfin.inner(f0, E*s0))\n",
    "Efn = dolfin.variable(dolfin.inner(f0, E*n0))\n",
    "Ens = dolfin.variable(dolfin.inner(n0, E*s0))\n",
    "Esf = dolfin.variable(dolfin.inner(s0, E*f0))\n",
    "Esn = dolfin.variable(dolfin.inner(s0, E*n0))\n",
    "Enf = dolfin.variable(dolfin.inner(n0, E*f0))\n",
    "\n",
    "lcs = [f0, s0, n0]\n",
    "E_comp = [Eff, Efs, Efn, Esf, Ess, Esn, Enf, Ens, Enn]\n",
    "\n",
    "# material parameters\n",
    "c   = 0.26\n",
    "bf  = 2.0\n",
    "bx  = 5.58\n",
    "bfx = 1.627\n",
    "\n",
    "Q = bf*Eff**2.0 + bx*(Ess**2.0 + Enn**2.0 + Ens**2.0 + Esn**2.0) + bfx*(Efs**2.0 + Esf**2.0 + Efn**2.0 + Enf**2.0)\n",
    "W_passive = (c/2.0)*(dolfin.exp(Q) - 1.0)\n",
    "\n",
    "traction = dolfin.Expression((\"traction\"), traction = 0.0, degree = 0)\n",
    "\n",
    "F_passive = dolfin.derivative(W_passive, w, wtest)*dx\n",
    "F_incompressible = dolfin.derivative(W_incompressible, w, wtest)*dx\n",
    "F_traction = dolfin.inner(traction*N, v)*ds(4,domain=mesh)\n",
    "\n",
    "Ftotal = F_passive + F_incompressible - F_traction\n",
    "\n",
    "Jac_passive_body = dolfin.derivative(F_passive, w, dw)\n",
    "Jac_incompressible = dolfin.derivative(F_incompressible, w, dw)\n",
    "Jac_traction = dolfin.derivative(F_traction, w, dw)\n",
    "\n",
    "Jac_total = Jac_passive_body + Jac_incompressible  "
   ]
  },
  {
   "cell_type": "code",
   "execution_count": 48,
   "id": "abddc2ef-6f2b-47e6-85b7-b50515de4428",
   "metadata": {},
   "outputs": [
    {
     "name": "stderr",
     "output_type": "stream",
     "text": [
      "HDF5-DIAG: Error detected in HDF5 (1.12.2) MPI-process 0:\n",
      "  #000: H5F.c line 532 in H5Fcreate(): unable to create file\n",
      "    major: File accessibility\n",
      "    minor: Unable to open file\n",
      "  #001: H5VLcallback.c line 3282 in H5VL_file_create(): file create failed\n",
      "    major: Virtual Object Layer\n",
      "    minor: Unable to create file\n",
      "  #002: H5VLcallback.c line 3248 in H5VL__file_create(): file create failed\n",
      "    major: Virtual Object Layer\n",
      "    minor: Unable to create file\n",
      "  #003: H5VLnative_file.c line 63 in H5VL__native_file_create(): unable to create file\n",
      "    major: File accessibility\n",
      "    minor: Unable to open file\n",
      "  #004: H5Fint.c line 1898 in H5F_open(): unable to lock the file\n",
      "    major: File accessibility\n",
      "    minor: Unable to lock file\n",
      "  #005: H5FD.c line 1625 in H5FD_lock(): driver lock request failed\n",
      "    major: Virtual File Layer\n",
      "    minor: Unable to lock file\n",
      "  #006: H5FDsec2.c line 1002 in H5FD__sec2_lock(): unable to lock file, errno = 11, error message = 'Resource temporarily unavailable'\n",
      "    major: Virtual File Layer\n",
      "    minor: Unable to lock file\n"
     ]
    }
   ],
   "source": [
    "# Let's first apply a traction to the cube and record the reaction force. We will apply the same traction later to the grown cube and compare reaction forces\n",
    "pk2_stress_fiber = np.zeros(23)\n",
    "rxn_force_history = np.zeros(23)\n",
    "counter = 0\n",
    "\n",
    "# Solving before traction increase\n",
    "dolfin.solve(Ftotal == 0, w, bcs=dirichlet_bcs, J=Jac_total)\n",
    "output_file.write(w.sub(0),counter)\n",
    "rxn_force_history[counter] = calculate_reaction_force(Ftotal, dirichlet_bcs, x_dofs)\n",
    "pk2_stress_fiber[counter] = calculate_pk2_stress(W_passive, E_comp, lcs)\n",
    "counter += 1\n",
    "\n",
    "for i in np.arange(10):\n",
    "    traction.traction += 0.1\n",
    "    dolfin.solve(Ftotal == 0, w, bcs=dirichlet_bcs, J=Jac_total)\n",
    "    output_file.write(w.sub(0),counter)\n",
    "    rxn_force_history[counter] = calculate_reaction_force(Ftotal, dirichlet_bcs, x_dofs)\n",
    "    pk2_stress_fiber[counter] = calculate_pk2_stress(W_passive, E_comp, lcs)\n",
    "    counter += 1\n",
    "    \n",
    "u, p = dolfin.split(w)\n",
    "u_projected = dolfin.project(u,dolfin.VectorFunctionSpace(mesh,\"CG\",1))\n",
    "dolfin.ALE.move(original_traction_mesh,u_projected)\n",
    "    \n",
    "# Reset traction to 0, re-apply right dirichlet bc\n",
    "traction.traction = 0.0\n",
    "dolfin.solve(Ftotal == 0, w, bcs=dirichlet_bcs, J=Jac_total)\n",
    "output_file.write(w.sub(0),counter)\n",
    "rxn_force_history[counter] = calculate_reaction_force(Ftotal, dirichlet_bcs, x_dofs)\n",
    "pk2_stress_fiber[counter] = calculate_pk2_stress(W_passive, E_comp, lcs)\n",
    "counter += 1"
   ]
  },
  {
   "cell_type": "code",
   "execution_count": 49,
   "id": "ced28b89-8c4a-45ab-a498-49c2c4165e2b",
   "metadata": {},
   "outputs": [],
   "source": [
    "#----------------- Growth -----------------\n",
    "# Now, calculate thetas based on deviation of stimulus, which will update F_g. Then solve for the unloaded configuration.\n",
    "# Arbitrarily choosing to grow in the cross-fiber directions.\n",
    "\n",
    "# Again for simplicity, I'm going to just increase the thetas. In a study, these would come from some growth function that you \n",
    "# will come up with.\n",
    "#theta_s.vector()[:] = 1.1\n",
    "#theta_n.vector()[:] = 1.1\n",
    "theta_f.vector()[:] = 1.5\n",
    "# IMPORTANT NOTE: Doing something like\n",
    "# theta_s += 0.1\n",
    "# Does not work. It creates a new object theta_s that F_g is not pointing to. F_g will not be updated appropriately.\n",
    "# In the past, I've calculated new theta values using a temporary function, and then using the assign method to appropriately update theta|\n"
   ]
  },
  {
   "cell_type": "code",
   "execution_count": 50,
   "id": "4795b643-a2a7-44c6-b38c-169ec48d4667",
   "metadata": {},
   "outputs": [],
   "source": [
    "\n",
    "# Solve the traction free weak form. Since thetas have increased and F_g is no longer identity, and we are at the reference where F = I, F_e would give a \n",
    "# state of compression. This solving step will find the deformation that gets us back to nearly unstressed (should be stress free since this is a homegeneous \n",
    "# deformation).\n",
    "dolfin.solve(Ftotal == 0, w, bcs = dirichlet_bcs, J = Jac_total)\n",
    "output_file.write(w.sub(0),counter)\n",
    "pk2_stress_fiber[counter] = calculate_pk2_stress(W_passive, E_comp, lcs)\n",
    "rxn_force_history[counter] = calculate_reaction_force(Ftotal, dirichlet_bcs, x_dofs)\n",
    "counter += 1"
   ]
  },
  {
   "cell_type": "code",
   "execution_count": 51,
   "id": "0ef6320e-8df4-429c-97f7-452affbb331d",
   "metadata": {},
   "outputs": [],
   "source": [
    "# Reset the reference configuration by moving nodes according to the deformation solution we just obtained\n",
    "u, p = dolfin.split(w)\n",
    "dolfin.ALE.move(mesh, dolfin.project(u, dolfin.VectorFunctionSpace(mesh, 'CG', 1)))\n",
    "\n",
    "# Reset F_g to identity by resetting the thetas to 1\n",
    "theta_s.vector()[:] = 1.0\n",
    "theta_n.vector()[:] = 1.0\n",
    "theta_f.vector()[:] = 1.0"
   ]
  },
  {
   "cell_type": "code",
   "execution_count": 52,
   "id": "17f83128-f567-45c0-997f-bab7ed7918ea",
   "metadata": {},
   "outputs": [],
   "source": [
    "fig = fenics_plotly.plot(mesh, color='red',opacity=0.25,show=False)\n",
    "fig.add_plot(fenics_plotly.plot(original_mesh,color='blue',opacity=0.25,show=False))"
   ]
  },
  {
   "cell_type": "code",
   "execution_count": 53,
   "id": "dc8240a9-2403-4090-8117-5a2e0f0d9741",
   "metadata": {},
   "outputs": [
    {
     "data": {
      "text/html": [
       "<iframe\n",
       "    scrolling=\"no\"\n",
       "    width=\"100%\"\n",
       "    height=\"545px\"\n",
       "    src=\"iframe_figures/figure_53.html\"\n",
       "    frameborder=\"0\"\n",
       "    allowfullscreen\n",
       "></iframe>\n"
      ]
     },
     "metadata": {},
     "output_type": "display_data"
    }
   ],
   "source": [
    "fig.show()"
   ]
  },
  {
   "cell_type": "code",
   "execution_count": 54,
   "id": "5b2154c2-a0a4-4de5-8e43-484400351334",
   "metadata": {},
   "outputs": [],
   "source": [
    "# Apply traction to grown mesh\n",
    "for j in np.arange(10):\n",
    "    traction.traction += 0.1\n",
    "    dolfin.solve(Ftotal == 0, w, bcs=dirichlet_bcs, J=Jac_total)\n",
    "    output_file.write(w.sub(0),counter)\n",
    "    rxn_force_history[counter] = calculate_reaction_force(Ftotal, dirichlet_bcs, x_dofs)\n",
    "    pk2_stress_fiber[counter] = calculate_pk2_stress(W_passive, E_comp, lcs)\n",
    "    counter += 1\n"
   ]
  },
  {
   "cell_type": "code",
   "execution_count": 55,
   "id": "ff511b74-986e-4420-8d34-be6305c5743f",
   "metadata": {},
   "outputs": [
    {
     "data": {
      "image/png": "[encoded data removed]",
      "text/plain": [
       "<Figure size 432x288 with 1 Axes>"
      ]
     },
     "metadata": {
      "needs_background": "light"
     },
     "output_type": "display_data"
    }
   ],
   "source": [
    "plt.plot(rxn_force_history)\n",
    "plt.show()\n",
    "# Let's compare\n",
    "fig = fenics_plotly.plot(original_traction_mesh,color='blue',opacity=0.25,show=False)\n",
    "u,p = dolfin.split(w)\n",
    "u_p = dolfin.project(u,dolfin.VectorFunctionSpace(mesh,\"CG\",1))\n",
    "dolfin.ALE.move(mesh,u_p)\n",
    "fig.add_plot(fenics_plotly.plot(mesh,color='red',opacity=0.25,show=False))"
   ]
  },
  {
   "cell_type": "code",
   "execution_count": 56,
   "id": "333be9c1-b9c8-44c0-9f63-9bf230604537",
   "metadata": {},
   "outputs": [
    {
     "data": {
      "text/html": [
       "<iframe\n",
       "    scrolling=\"no\"\n",
       "    width=\"100%\"\n",
       "    height=\"545px\"\n",
       "    src=\"iframe_figures/figure_56.html\"\n",
       "    frameborder=\"0\"\n",
       "    allowfullscreen\n",
       "></iframe>\n"
      ]
     },
     "metadata": {},
     "output_type": "display_data"
    }
   ],
   "source": [
    "fig.show()"
   ]
  },
  {
   "cell_type": "code",
   "execution_count": 65,
   "id": "7615c865-9122-4ca7-8226-b3cc5181d17a",
   "metadata": {},
   "outputs": [],
   "source": [
    "output_file.close()"
   ]
  },
  {
   "cell_type": "code",
   "execution_count": null,
   "id": "18e6c14e-c32a-474f-9f9f-b480b0624f97",
   "metadata": {},
   "outputs": [],
   "source": []
  }
 ],
 "metadata": {
  "kernelspec": {
   "display_name": "Python 3 (ipykernel)",
   "language": "python",
   "name": "python3"
  },
  "language_info": {
   "codemirror_mode": {
    "name": "ipython",
    "version": 3
   },
   "file_extension": ".py",
   "mimetype": "text/x-python",
   "name": "python",
   "nbconvert_exporter": "python",
   "pygments_lexer": "ipython3",
   "version": "3.10.5"
  }
 },
 "nbformat": 4,
 "nbformat_minor": 5
}
